{
  "cells": [
    {
      "cell_type": "markdown",
      "metadata": {
        "id": "view-in-github",
        "colab_type": "text"
      },
      "source": [
        "<a href=\"https://colab.research.google.com/github/glassresearch/PLT/blob/master/practice_exercises/music_album_rankings_2_working_v2.ipynb\" target=\"_parent\"><img src=\"https://colab.research.google.com/assets/colab-badge.svg\" alt=\"Open In Colab\"/></a>"
      ]
    },
    {
      "cell_type": "markdown",
      "id": "5dda78ce",
      "metadata": {
        "nbgrader": {
          "grade": false,
          "locked": true,
          "solution": false
        },
        "tags": [
          "notebook_header"
        ],
        "id": "5dda78ce"
      },
      "source": [
        "# Bootcamp Practice Notebooks:  Music Album Rankings Analysis\n",
        "\n",
        "## Notebook 2:  Basic Exploratory Data Analysis, 1-Point exercises"
      ]
    },
    {
      "cell_type": "markdown",
      "id": "4d58b4a0",
      "metadata": {
        "nbgrader": {
          "grade": false,
          "locked": true,
          "solution": false
        },
        "tags": [
          "topic_intro"
        ],
        "id": "4d58b4a0"
      },
      "source": [
        " # Overview: Music Album Rankings #\n",
        "\n",
        "`Rolling Stone` magazine is an American monthly magazine that focuses on music, politics, and popular culture. It was founded in San Francisco, California in 1967 and still publishes monthly to this day. The magazine is known for its coverage of music, entertainment, and politics.\n",
        "\n",
        "In 2003, the magazine released its `“500 Greatest Albums of All Time,”` placing the Beatles’ “Sgt. Pepper’s Lonely Hearts Club Band” in the top slot. It has since released two additional `\"500 Greatest\"` lists, in 2012 and 2020. While not necessary for this analysis, to gain a full understanding of these rankings, see this Wikipedia article:  https://en.wikipedia.org/wiki/Rolling_Stone%27s_500_Greatest_Albums_of_All_Time\n",
        "\n"
      ]
    },
    {
      "cell_type": "markdown",
      "id": "438ee3df",
      "metadata": {
        "nbgrader": {
          "grade": false,
          "locked": true,
          "solution": false
        },
        "id": "438ee3df"
      },
      "source": [
        "# Setup and Data Load\n",
        "\n",
        "To get started, run the following code cells. They will load the data files and populate the `voters` and `albums` datasets that you will be working with."
      ]
    },
    {
      "cell_type": "code",
      "execution_count": 1,
      "id": "1a6fd3ef-073d-4d35-a565-066035d79eec",
      "metadata": {
        "id": "1a6fd3ef-073d-4d35-a565-066035d79eec",
        "outputId": "1bb53dfc-8330-42a9-8be7-668057acb1c5",
        "colab": {
          "base_uri": "https://localhost:8080/"
        }
      },
      "outputs": [
        {
          "output_type": "stream",
          "name": "stdout",
          "text": [
            "--2025-09-08 01:02:50--  https://github.com/gt-cse-6040/bootcamp/raw/main/practice_exercises/voters.json\n",
            "Resolving github.com (github.com)... 140.82.112.4\n",
            "Connecting to github.com (github.com)|140.82.112.4|:443... connected.\n",
            "HTTP request sent, awaiting response... 302 Found\n",
            "Location: https://raw.githubusercontent.com/gt-cse-6040/bootcamp/main/practice_exercises/voters.json [following]\n",
            "--2025-09-08 01:02:50--  https://raw.githubusercontent.com/gt-cse-6040/bootcamp/main/practice_exercises/voters.json\n",
            "Resolving raw.githubusercontent.com (raw.githubusercontent.com)... 185.199.108.133, 185.199.109.133, 185.199.110.133, ...\n",
            "Connecting to raw.githubusercontent.com (raw.githubusercontent.com)|185.199.108.133|:443... connected.\n",
            "HTTP request sent, awaiting response... 200 OK\n",
            "Length: 328847 (321K) [text/plain]\n",
            "Saving to: ‘voters.json’\n",
            "\n",
            "voters.json         100%[===================>] 321.14K  --.-KB/s    in 0.005s  \n",
            "\n",
            "2025-09-08 01:02:50 (57.1 MB/s) - ‘voters.json’ saved [328847/328847]\n",
            "\n",
            "--2025-09-08 01:02:50--  https://github.com/gt-cse-6040/bootcamp/raw/main/practice_exercises/Rolling_Stone_500_public.json\n",
            "Resolving github.com (github.com)... 140.82.112.4\n",
            "Connecting to github.com (github.com)|140.82.112.4|:443... connected.\n",
            "HTTP request sent, awaiting response... 302 Found\n",
            "Location: https://raw.githubusercontent.com/gt-cse-6040/bootcamp/main/practice_exercises/Rolling_Stone_500_public.json [following]\n",
            "--2025-09-08 01:02:51--  https://raw.githubusercontent.com/gt-cse-6040/bootcamp/main/practice_exercises/Rolling_Stone_500_public.json\n",
            "Resolving raw.githubusercontent.com (raw.githubusercontent.com)... 185.199.109.133, 185.199.111.133, 185.199.110.133, ...\n",
            "Connecting to raw.githubusercontent.com (raw.githubusercontent.com)|185.199.109.133|:443... connected.\n",
            "HTTP request sent, awaiting response... 200 OK\n",
            "Length: 714833 (698K) [text/plain]\n",
            "Saving to: ‘Rolling_Stone_500_public.json’\n",
            "\n",
            "Rolling_Stone_500_p 100%[===================>] 698.08K  --.-KB/s    in 0.01s   \n",
            "\n",
            "2025-09-08 01:02:51 (52.8 MB/s) - ‘Rolling_Stone_500_public.json’ saved [714833/714833]\n",
            "\n"
          ]
        }
      ],
      "source": [
        "!wget https://github.com/gt-cse-6040/bootcamp/raw/main/practice_exercises/voters.json\n",
        "!wget https://github.com/gt-cse-6040/bootcamp/raw/main/practice_exercises/Rolling_Stone_500_public.json"
      ]
    },
    {
      "cell_type": "code",
      "execution_count": 2,
      "id": "13a71351",
      "metadata": {
        "id": "13a71351"
      },
      "outputs": [],
      "source": [
        "import json\n",
        "\n",
        "with open(\"voters.json\", \"r\") as read_file:\n",
        "    voters = json.load(read_file)\n",
        "read_file.close()\n",
        "\n",
        "with open(\"Rolling_Stone_500_public.json\", \"r\") as read_file:\n",
        "    albums = json.load(read_file)\n",
        "read_file.close()"
      ]
    },
    {
      "cell_type": "markdown",
      "id": "0776c5b6-5f9a-4d64-8a6f-1f85ed22505b",
      "metadata": {
        "id": "0776c5b6-5f9a-4d64-8a6f-1f85ed22505b"
      },
      "source": [
        "# Ex. 0 (**1 point**): `number_albums` #\n",
        "\n",
        "Given a list of dictionaries, `albums_list`, complete the function,\n",
        "```python\n",
        "def number_albums(albums_list, year):\n",
        "    ...\n",
        "```\n",
        "so that it returns the number of albums in the `albums_list` variable that were ranked, for the year passed in.\n",
        "\n",
        "**Input:**\n",
        "- A list of dictionaries, `albums_list`. It will have the same format as the `albums` variable above. For testing, it may or may not contain all of the values in the variable, so your code must account for a different number of albums to be in your input.\n",
        "- An integer, `year`. This will be the year for which you will compute the number of albums in the list. It will align with the values in the `####_Rank` key value.\n",
        "\n",
        "**Your task:** Copy this list and output the count of albums that year in the variable:\n",
        "\n",
        "**Output:** Return a tuple, without modifying the input `albums_list`. The tuple should contain the the following pair values:\n",
        "- `'YEAR'` --  String. This is the value passed into the function.  \n",
        "- `'COUNT'` -- Integer. This is the count of `albums` for that year.\n",
        "\n",
        "**Caveat(s)/comment(s)/hint(s):**\n",
        "1. The list of dictionaries passed into the function may have albums from multiple years, but the function should only return the required count of albums that were ranked, for the year that is passed into it.\n",
        "\n",
        "2. Ensure that your data types are correct, as the data types input may not always be the same as what you need to output.\n",
        "\n",
        "3. The values in the variables `2003_Rank`, `2012_Rank`, and `2020_Rank` will be useful in this exercise.\n",
        "\n",
        "- While the year is passed in, students will need to convert/map the year to the appropriate dictionary variable.\n",
        "- If the album was ranked for that year, it will have an string value of the rank. If not, the value will be an empty string."
      ]
    },
    {
      "cell_type": "code",
      "execution_count": 12,
      "id": "e9759629-76b4-4e18-b95c-df69e8beb501",
      "metadata": {
        "id": "e9759629-76b4-4e18-b95c-df69e8beb501"
      },
      "outputs": [],
      "source": [
        "# Run this cell, to populate the demo data for the student to work with\n",
        "albums_list = albums\n",
        "albums_list_ex0_demo = albums[0:100]\n",
        "year = '2003'"
      ]
    },
    {
      "cell_type": "markdown",
      "id": "6a9d10ed-e7c5-46a6-9562-3ae7cb2038ef",
      "metadata": {
        "id": "6a9d10ed-e7c5-46a6-9562-3ae7cb2038ef"
      },
      "source": [
        "#### A properly-code function will return the following tuple, for the demo data:\n",
        "\n",
        "('2003', 40)"
      ]
    },
    {
      "cell_type": "code",
      "execution_count": 4,
      "id": "86846a57",
      "metadata": {
        "id": "86846a57",
        "outputId": "e5ad5061-e6c4-4656-c994-a726e214d2ed",
        "colab": {
          "base_uri": "https://localhost:8080/",
          "height": 69
        }
      },
      "outputs": [
        {
          "output_type": "stream",
          "name": "stdout",
          "text": [
            "40\n"
          ]
        },
        {
          "output_type": "display_data",
          "data": {
            "text/plain": [
              "('2003', 40)"
            ]
          },
          "metadata": {}
        },
        {
          "output_type": "stream",
          "name": "stdout",
          "text": [
            "passed demo data\n"
          ]
        }
      ],
      "source": [
        "### Exercise 0 solution -- 1 point ###\n",
        "def number_albums(albums_list,year):\n",
        "    ### YOUR CODE HERE\n",
        "    year_var = year + '_Rank'\n",
        "    count = 0\n",
        "    for album in albums_list:\n",
        "      if album[year_var] != '':\n",
        "        count +=1\n",
        "    print(count)\n",
        "    return (year,count)\n",
        "    #pass\n",
        "\n",
        "\n",
        "### demo function call ###\n",
        "result = number_albums(albums_list_ex0_demo, '2003')\n",
        "display(result)\n",
        "assert result == ('2003', 40), 'Demo data does not pass.'\n",
        "print('passed demo data')"
      ]
    },
    {
      "cell_type": "code",
      "execution_count": 5,
      "id": "b06febc1-134d-416f-9ce2-0aec37a4a201",
      "metadata": {
        "id": "b06febc1-134d-416f-9ce2-0aec37a4a201",
        "outputId": "144ef3a8-84ef-436d-f8f7-da0a6905a540",
        "colab": {
          "base_uri": "https://localhost:8080/"
        }
      },
      "outputs": [
        {
          "output_type": "stream",
          "name": "stdout",
          "text": [
            "86\n",
            "84\n",
            "74\n",
            "Passed\n"
          ]
        }
      ],
      "source": [
        "# test cell\n",
        "# Run this cell to test if your code is correct\n",
        "albums_list_1 = albums_list[150:250]\n",
        "assert number_albums(albums_list_1,'2003') == ('2003',86), \"Your function does not return the correct number of albums in the albums_list variable for 2003.\"\n",
        "assert number_albums(albums_list_1,'2012') == ('2012',84), \"Your function does not return the correct number of albums in the albums_list variable for 2012.\"\n",
        "assert number_albums(albums_list_1,'2020') == ('2020',74), \"Your function does not return the correct number of albums in the albums_list variable for 2020.\"\n",
        "print(\"Passed\")"
      ]
    },
    {
      "cell_type": "markdown",
      "id": "52cdd4d8-d534-43e4-bf5e-1dd711b7a006",
      "metadata": {
        "id": "52cdd4d8-d534-43e4-bf5e-1dd711b7a006"
      },
      "source": [
        "# Ex. 1 (**1 point**): `unique_artists` #\n",
        "\n",
        "Given a list of dictionaries, `albums_list`, complete the function,\n",
        "```python\n",
        "def unique_artists(albums_list):\n",
        "    ...\n",
        "```\n",
        "so that it returns the number of unique artistis in the `albums_list` variable, whose albums were ranked in one (or more) of the year lists.\n",
        "\n",
        "**Input:**\n",
        "- A list of dictionaries, `albums_list`. It will have the same format as the `albums` variable above. For testing, it may or may not contain all of the values in the variable, so your code must account for a different number of albums to be in your input.\n",
        "\n",
        "**Your task:** Copy this list and output the count of unique artists in the variable:\n",
        "\n",
        "**Output:** Return an integer, without modifying the input `albums_list`. The integer will be the number of unique artists in the `albums_list` variable passed into the function.\n",
        "\n",
        "**Caveat(s)/comment(s)/hint(s):**\n",
        "1. The list of dictionaries passed into the function may have albums from multiple years. It may or may not be the complete list of albums.\n",
        "\n",
        "2. There are two fields for the artist name for each album, `Sort_Name` and `Clean_Name`. Students may want to consult the data dictionary, provided in Notebook 0 of this series, to determine which of these two variables they will want to use.\n",
        "\n",
        "3. For the entire list, there are `386` unique artists."
      ]
    },
    {
      "cell_type": "code",
      "execution_count": 13,
      "id": "5ef35634-a45f-4393-aa90-5b6246baacd2",
      "metadata": {
        "id": "5ef35634-a45f-4393-aa90-5b6246baacd2"
      },
      "outputs": [],
      "source": [
        "# Run this cell, to populate the demo data for the student to work with\n",
        "albums_list = albums\n",
        "albums_list_ex1_demo = albums[0:100]"
      ]
    },
    {
      "cell_type": "markdown",
      "id": "ea2c17dc-6b98-49e8-b21e-c65dcb6a6d1f",
      "metadata": {
        "id": "ea2c17dc-6b98-49e8-b21e-c65dcb6a6d1f"
      },
      "source": [
        "#### A properly-code function will return the following value, for the demo data:\n",
        "\n",
        "78"
      ]
    },
    {
      "cell_type": "code",
      "execution_count": 8,
      "id": "03b86e6f",
      "metadata": {
        "id": "03b86e6f",
        "outputId": "639cc473-a75f-4f41-b520-35329c45849d",
        "colab": {
          "base_uri": "https://localhost:8080/",
          "height": 69
        }
      },
      "outputs": [
        {
          "output_type": "display_data",
          "data": {
            "text/plain": [
              "386"
            ]
          },
          "metadata": {}
        },
        {
          "output_type": "display_data",
          "data": {
            "text/plain": [
              "78"
            ]
          },
          "metadata": {}
        },
        {
          "output_type": "stream",
          "name": "stdout",
          "text": [
            "passed demo data\n"
          ]
        }
      ],
      "source": [
        "### Exercise 1 solution -- 1 point ###\n",
        "def unique_artists(albums_list):\n",
        "    ### YOUR CODE HERE\n",
        "    Name_set = set()\n",
        "    for album in albums_list:\n",
        "      if album['Clean_Name'] != '':\n",
        "        Name_set.add(album['Clean_Name'])\n",
        "    return len(Name_set)\n",
        "    #pass\n",
        "\n",
        "### demo function call ###\n",
        "# number of artists for the complete list\n",
        "result = unique_artists(albums)\n",
        "display(result)\n",
        "# number of artists for the demo data\n",
        "result = unique_artists(albums_list_ex1_demo)\n",
        "display(result)\n",
        "assert result == 78, 'Demo data does not pass.'\n",
        "print('passed demo data')"
      ]
    },
    {
      "cell_type": "code",
      "execution_count": 9,
      "id": "8b67c45f-571a-4c6f-83dd-d722d38dfe70",
      "metadata": {
        "id": "8b67c45f-571a-4c6f-83dd-d722d38dfe70",
        "outputId": "8414c57f-ea4a-4711-b8ea-9e8fc2508d5e",
        "colab": {
          "base_uri": "https://localhost:8080/"
        }
      },
      "outputs": [
        {
          "output_type": "stream",
          "name": "stdout",
          "text": [
            "Passed\n"
          ]
        }
      ],
      "source": [
        "# test cell\n",
        "# Run this cell to test if your code is correct\n",
        "albums_list_2a = albums_list[150:250]\n",
        "assert unique_artists(albums_list_2a) == 70, \"Your function does not return the correct number of unique artists in the first test data set.\"\n",
        "albums_list_2b = albums_list[251:350]\n",
        "assert unique_artists(albums_list_2b) == 76, \"Your function does not return the correct number of unique artists in the second test data set.\"\n",
        "albums_list_2c = albums_list[351:450]\n",
        "assert unique_artists(albums_list_2c) == 90, \"Your function does not return the correct number of unique artists in the third test data set.\"\n",
        "print(\"Passed\")"
      ]
    },
    {
      "cell_type": "markdown",
      "id": "3831a9f3-c4a2-483b-9aec-2205eb8cd5d9",
      "metadata": {
        "id": "3831a9f3-c4a2-483b-9aec-2205eb8cd5d9"
      },
      "source": [
        "# Ex. 2 (**1 point**): `number_one_albums` #\n",
        "\n",
        "Given a list of dictionaries, `albums_list`, complete the function,\n",
        "```python\n",
        "def number_one_albums(albums_list):\n",
        "    ...\n",
        "```\n",
        "so that it returns a list containing the following two list elements:\n",
        "\n",
        "- the number of albums in the `albums_list` variable, that reached the top position on the Billboard Album chart.\n",
        "- A tuple, containing the album name and year that it was released, for the album that reached number 1, that is last in the list\n",
        "of number 1 albums, when the list is sorted alphabetically by the album name. For this exercise, students can assume that all\n",
        "of the albums have different names, so they will not need to break any sorting ties.\n",
        "\n",
        "**Input:**\n",
        "- A list of dictionaries, `albums_list`. It will have the same format as the `albums` variable above. For testing, it may or may not contain all of the values in the variable, so your code must account for a different number of albums to be in your input.\n",
        "\n",
        "**Your task:** Copy this list and output a list with the following two elements:\n",
        "\n",
        "- the count of number 1 albums,\n",
        "- A tuple of the last alphabetical album name and year it was released.\n",
        "\n",
        "**Output:** Return a list, without modifying the input `albums_list`. The list will be have the following two elements:\n",
        "\n",
        "- the count of number on albums,\n",
        "- A tuple of the last alphabetical album name and year it was released.\n",
        "\n",
        "**Caveat(s)/comment(s)/hint(s):**\n",
        "1. The list of dictionaries passed into the function may have albums from multiple years. It may or may not be the complete list of albums.\n",
        "\n",
        "2. The fields `Album`, `Peak_Billboard_Position`, and `Release_Year` are probably going to be important for this exercise.\n",
        "\n",
        "3. For the entire list, there are `142` number 1 albums. The last alphabetical number 1 album is 'Yeezus', which was released in 2013."
      ]
    },
    {
      "cell_type": "code",
      "execution_count": 10,
      "id": "ca836306-4f38-43bf-9d03-dea79c651601",
      "metadata": {
        "id": "ca836306-4f38-43bf-9d03-dea79c651601"
      },
      "outputs": [],
      "source": [
        "# Run this cell, to populate the demo data for the student to work with\n",
        "albums_list = albums\n",
        "albums_list_ex2_demo = albums[0:50]"
      ]
    },
    {
      "cell_type": "markdown",
      "id": "44bcd73f-a43b-4e73-b984-1acf279c2967",
      "metadata": {
        "id": "44bcd73f-a43b-4e73-b984-1acf279c2967"
      },
      "source": [
        "#### A properly-code function will return the following value, for the demo data:\n",
        "\n",
        "[11, ('With the Beatles', '1963')]"
      ]
    },
    {
      "cell_type": "code",
      "execution_count": 11,
      "id": "a72b9cdb",
      "metadata": {
        "id": "a72b9cdb",
        "outputId": "758faa9e-52cc-4efc-c324-eaadf41b52b1",
        "colab": {
          "base_uri": "https://localhost:8080/",
          "height": 52
        }
      },
      "outputs": [
        {
          "output_type": "display_data",
          "data": {
            "text/plain": [
              "[11, ('With the Beatles', '1963')]"
            ]
          },
          "metadata": {}
        },
        {
          "output_type": "stream",
          "name": "stdout",
          "text": [
            "passed demo data\n"
          ]
        }
      ],
      "source": [
        "### Exercise 2 solution -- 1 point, with added sorting, could be \"easier\" 2 point exercise ###\n",
        "def number_one_albums(albums_list):\n",
        "    ### YOUR CODE HERE\n",
        "    #print(albums_list)\n",
        "    top_list = []\n",
        "\n",
        "    for item in albums_list:\n",
        "      if item['Peak_Billboard_Position'] == '1':\n",
        "\n",
        "          #Alternate to tuple\n",
        "          #album_tuple = (item['Album'],item['Release_Year'])\n",
        "          #top_list.append(album_tuple)\n",
        "\n",
        "        album_dict = {'Album': item['Album'],\n",
        "                      'Release_Year':item['Release_Year']}\n",
        "        top_list.append(album_dict)\n",
        "    sorted_list = sorted(top_list, key=lambda x: x['Album'], reverse=True)\n",
        "    return [len(sorted_list),tuple(sorted_list[0].values())]\n",
        "\n",
        "    #Alternative for tuple\n",
        "    #sorted_list = sorted(top_list, key=lambda x: x[0], reverse=True)\n",
        "    #return [len(sorted_list),sorted_list[0]]\n",
        "    pass\n",
        "\n",
        "### demo function call ###\n",
        "# number one albums for the demo data\n",
        "result = number_one_albums(albums_list_ex2_demo)\n",
        "display(result)\n",
        "assert result == [11, ('With the Beatles', '1963')], 'Demo data does not pass.'\n",
        "print('passed demo data')"
      ]
    },
    {
      "cell_type": "code",
      "execution_count": null,
      "id": "ce24fd1b-158e-426a-b444-5e57e82b9fcb",
      "metadata": {
        "id": "ce24fd1b-158e-426a-b444-5e57e82b9fcb"
      },
      "outputs": [],
      "source": [
        "# test cell\n",
        "# Run this cell to test if your code is correct\n",
        "albums_list_3a = albums_list[150:250]\n",
        "assert number_one_albums(albums_list_3a) == [24, ('Wheels of Fire', '1968')], \"Your function does not return the correct answer for the first test data set.\"\n",
        "albums_list_3b = albums_list[251:350]\n",
        "assert number_one_albums(albums_list_3b) == [22, ('Yeezus', '2013')], \"Your function does not return the correct answer for the second test data set.\"\n",
        "albums_list_3c = albums_list[351:450]\n",
        "assert number_one_albums(albums_list_3c) == [18, ('Wish You Were Here', '1975')], \"Your function does not return the correct answer for the third test data set.\"\n",
        "print(\"Passed\")"
      ]
    },
    {
      "cell_type": "code",
      "execution_count": null,
      "id": "9d395355-e1ee-41fb-881d-36c3b542355c",
      "metadata": {
        "id": "9d395355-e1ee-41fb-881d-36c3b542355c"
      },
      "outputs": [],
      "source": []
    }
  ],
  "metadata": {
    "celltoolbar": "Edit Metadata",
    "hide_input": false,
    "interpreter": {
      "hash": "f2b38b6e01547e8f771d473ea2b8718fd0728eea782e4c924ed8783f739d4a6c"
    },
    "kernelspec": {
      "display_name": "Python 3 (ipykernel)",
      "language": "python",
      "name": "python3"
    },
    "language_info": {
      "codemirror_mode": {
        "name": "ipython",
        "version": 3
      },
      "file_extension": ".py",
      "mimetype": "text/x-python",
      "name": "python",
      "nbconvert_exporter": "python",
      "pygments_lexer": "ipython3",
      "version": "3.12.7"
    },
    "toc": {
      "base_numbering": 1,
      "nav_menu": {},
      "number_sections": false,
      "sideBar": true,
      "skip_h1_title": false,
      "title_cell": "Table of Contents",
      "title_sidebar": "Contents",
      "toc_cell": false,
      "toc_position": {
        "height": "calc(100% - 180px)",
        "left": "10px",
        "top": "150px",
        "width": "247px"
      },
      "toc_section_display": true,
      "toc_window_display": true
    },
    "colab": {
      "provenance": [],
      "include_colab_link": true
    }
  },
  "nbformat": 4,
  "nbformat_minor": 5
}