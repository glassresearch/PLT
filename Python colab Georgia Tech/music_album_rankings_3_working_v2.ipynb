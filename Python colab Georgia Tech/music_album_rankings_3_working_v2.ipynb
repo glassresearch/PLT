{
  "cells": [
    {
      "cell_type": "markdown",
      "metadata": {
        "id": "view-in-github",
        "colab_type": "text"
      },
      "source": [
        "<a href=\"https://colab.research.google.com/github/glassresearch/PLT/blob/master/Python%20colab%20Georgia%20Tech/music_album_rankings_3_working_v2.ipynb\" target=\"_parent\"><img src=\"https://colab.research.google.com/assets/colab-badge.svg\" alt=\"Open In Colab\"/></a>"
      ]
    },
    {
      "cell_type": "markdown",
      "id": "5dda78ce",
      "metadata": {
        "nbgrader": {
          "grade": false,
          "locked": true,
          "solution": false
        },
        "tags": [
          "notebook_header"
        ],
        "id": "5dda78ce"
      },
      "source": [
        "# Bootcamp Practice Notebooks:  Music Album Rankings Analysis\n",
        "\n",
        "## Notebook 3:  Advanced Exploratory Data Analysis, 2-Point exercises"
      ]
    },
    {
      "cell_type": "markdown",
      "id": "e14d672f-7b70-43e6-a254-59ce973a41a5",
      "metadata": {
        "id": "e14d672f-7b70-43e6-a254-59ce973a41a5"
      },
      "source": [
        " # Overview: Music Album Rankings #\n",
        "\n",
        "`Rolling Stone` magazine is an American monthly magazine that focuses on music, politics, and popular culture. It was founded in San Francisco, California in 1967 and still publishes monthly to this day. The magazine is known for its coverage of music, entertainment, and politics.\n",
        "\n",
        "In 2003, the magazine released its `“500 Greatest Albums of All Time,”` placing the Beatles’ “Sgt. Pepper’s Lonely Hearts Club Band” in the top slot. It has since released two additional `\"500 Greatest\"` lists, in 2012 and 2020. While not necessary for this analysis, to gain a full understanding of these rankings, see this Wikipedia article:  https://en.wikipedia.org/wiki/Rolling_Stone%27s_500_Greatest_Albums_of_All_Time"
      ]
    },
    {
      "cell_type": "markdown",
      "id": "438ee3df",
      "metadata": {
        "nbgrader": {
          "grade": false,
          "locked": true,
          "solution": false
        },
        "id": "438ee3df"
      },
      "source": [
        "# Setup and Data Load\n",
        "\n",
        "To get started, run the following code cells. They will load the data files and populate the `voters` and `albums` datasets that you will be working with."
      ]
    },
    {
      "cell_type": "code",
      "execution_count": 1,
      "id": "62a78034-ec4e-46e6-9b7b-e4952c2239fa",
      "metadata": {
        "id": "62a78034-ec4e-46e6-9b7b-e4952c2239fa",
        "outputId": "c133aa11-9b22-429a-ec35-a8640f145d16",
        "colab": {
          "base_uri": "https://localhost:8080/"
        }
      },
      "outputs": [
        {
          "output_type": "stream",
          "name": "stdout",
          "text": [
            "--2025-09-08 13:09:03--  https://github.com/gt-cse-6040/bootcamp/raw/main/practice_exercises/voters.json\n",
            "Resolving github.com (github.com)... 140.82.112.3\n",
            "Connecting to github.com (github.com)|140.82.112.3|:443... connected.\n",
            "HTTP request sent, awaiting response... 302 Found\n",
            "Location: https://raw.githubusercontent.com/gt-cse-6040/bootcamp/main/practice_exercises/voters.json [following]\n",
            "--2025-09-08 13:09:03--  https://raw.githubusercontent.com/gt-cse-6040/bootcamp/main/practice_exercises/voters.json\n",
            "Resolving raw.githubusercontent.com (raw.githubusercontent.com)... 185.199.110.133, 185.199.108.133, 185.199.111.133, ...\n",
            "Connecting to raw.githubusercontent.com (raw.githubusercontent.com)|185.199.110.133|:443... connected.\n",
            "HTTP request sent, awaiting response... 200 OK\n",
            "Length: 328847 (321K) [text/plain]\n",
            "Saving to: ‘voters.json’\n",
            "\n",
            "voters.json         100%[===================>] 321.14K  --.-KB/s    in 0.06s   \n",
            "\n",
            "2025-09-08 13:09:04 (5.19 MB/s) - ‘voters.json’ saved [328847/328847]\n",
            "\n",
            "--2025-09-08 13:09:04--  https://github.com/gt-cse-6040/bootcamp/raw/main/practice_exercises/Rolling_Stone_500_public.json\n",
            "Resolving github.com (github.com)... 140.82.114.3\n",
            "Connecting to github.com (github.com)|140.82.114.3|:443... connected.\n",
            "HTTP request sent, awaiting response... 302 Found\n",
            "Location: https://raw.githubusercontent.com/gt-cse-6040/bootcamp/main/practice_exercises/Rolling_Stone_500_public.json [following]\n",
            "--2025-09-08 13:09:04--  https://raw.githubusercontent.com/gt-cse-6040/bootcamp/main/practice_exercises/Rolling_Stone_500_public.json\n",
            "Resolving raw.githubusercontent.com (raw.githubusercontent.com)... 185.199.110.133, 185.199.108.133, 185.199.111.133, ...\n",
            "Connecting to raw.githubusercontent.com (raw.githubusercontent.com)|185.199.110.133|:443... connected.\n",
            "HTTP request sent, awaiting response... 200 OK\n",
            "Length: 714833 (698K) [text/plain]\n",
            "Saving to: ‘Rolling_Stone_500_public.json’\n",
            "\n",
            "Rolling_Stone_500_p 100%[===================>] 698.08K  --.-KB/s    in 0.08s   \n",
            "\n",
            "2025-09-08 13:09:04 (8.63 MB/s) - ‘Rolling_Stone_500_public.json’ saved [714833/714833]\n",
            "\n"
          ]
        }
      ],
      "source": [
        "!wget https://github.com/gt-cse-6040/bootcamp/raw/main/practice_exercises/voters.json\n",
        "!wget https://github.com/gt-cse-6040/bootcamp/raw/main/practice_exercises/Rolling_Stone_500_public.json"
      ]
    },
    {
      "cell_type": "code",
      "execution_count": 2,
      "id": "13a71351",
      "metadata": {
        "id": "13a71351"
      },
      "outputs": [],
      "source": [
        "import json\n",
        "\n",
        "with open(\"voters.json\", \"r\") as read_file:\n",
        "    voters = json.load(read_file)\n",
        "read_file.close()\n",
        "\n",
        "with open(\"Rolling_Stone_500_public.json\", \"r\") as read_file:\n",
        "    albums = json.load(read_file)\n",
        "read_file.close()"
      ]
    },
    {
      "cell_type": "markdown",
      "id": "094da762",
      "metadata": {
        "nbgrader": {
          "grade": false,
          "locked": true,
          "solution": false
        },
        "id": "094da762"
      },
      "source": [
        "# Ex. 3 (**2 points**): `oldest_and_youngest_voter` #\n",
        "\n",
        "Given a list of dictionaries, `voters_list`, complete the function,\n",
        "```python\n",
        "def oldest_and_youngest_voter(voters_list):\n",
        "    ...\n",
        "```\n",
        "so that it returns the oldest and youngest voters in the `voters_list` variable that is passed in.\n",
        "\n",
        "**Input:**\n",
        "- A list of dictionaries, `voters_list`. It will have the same format as the `voters` variable above. For testing, it may or may not contain all of the values in the variable, so your code must account for a different number of voters to be in your input.\n",
        "\n",
        "**Your task:** Copy this list and output the oldest and youngest voters in the variable:\n",
        "\n",
        "**Output:** Return a list of twp tuples, without modifying the input `voters_list`. Each tuple will be for an individual voter. The first tuple will be for the older voter, and the second tuple will be for the youngest voter.\n",
        "\n",
        "Each tuple should contain the the following values:\n",
        "- `'VOTER'` --  String. This is the voter's name.\n",
        "- `'YEAR'` --  String. This is the year that they voted.  \n",
        "- `'AGE_AT_VOTE'` -- String. This is the voter's age at the time that they voted.\n",
        "\n",
        "**Caveat(s)/comment(s)/hint(s):**\n",
        "1. The list of dictionaries passed into the function may have voters from multiple years, but the function should only return the oldest and youngest voters overall.\n",
        "\n",
        "2. Ensure that your data types are correct, as the data types input may not always be the same as what you need to output.\n",
        "\n"
      ]
    },
    {
      "cell_type": "code",
      "execution_count": 3,
      "id": "1e033e43-3aba-4301-93c0-d68ffadca394",
      "metadata": {
        "id": "1e033e43-3aba-4301-93c0-d68ffadca394"
      },
      "outputs": [],
      "source": [
        "# Run this cell, to populate the demo data for the student to work with\n",
        "voters_list = voters\n",
        "voters_list_ex3_demo = voters[0:100]"
      ]
    },
    {
      "cell_type": "markdown",
      "id": "6cea9c4b-5511-45c9-a865-3445ea525bbf",
      "metadata": {
        "id": "6cea9c4b-5511-45c9-a865-3445ea525bbf"
      },
      "source": [
        "#### A properly-coded function will return the following tuple, for the demo data:\n",
        "\n",
        "[('Herbie Hancock', '2020', '80'), ('Britney Spears', '2003', '22')]"
      ]
    },
    {
      "cell_type": "markdown",
      "id": "d2ed2c0a-84b7-4c1f-ac5b-43c0bfe0de3a",
      "metadata": {
        "id": "d2ed2c0a-84b7-4c1f-ac5b-43c0bfe0de3a"
      },
      "source": [
        "#### For the entire list,  a properly-coded function would return the following list:\n",
        "\n",
        "[('Pete Seeger', '2003', '84'), ('Billie Eilish', '2020', '19')]"
      ]
    },
    {
      "cell_type": "code",
      "execution_count": 27,
      "id": "1b279658",
      "metadata": {
        "id": "1b279658",
        "outputId": "e5f5df51-1efb-4dc8-eba5-55d284187b93",
        "colab": {
          "base_uri": "https://localhost:8080/",
          "height": 52
        }
      },
      "outputs": [
        {
          "output_type": "display_data",
          "data": {
            "text/plain": [
              "[('Herbie Hancock', '2020', '80'), ('Britney Spears', '2003', '22')]"
            ]
          },
          "metadata": {}
        },
        {
          "output_type": "stream",
          "name": "stdout",
          "text": [
            "passed demo data\n"
          ]
        }
      ],
      "source": [
        "### Exercise 3 solution -- 2 points ###\n",
        "def oldest_and_youngest_voter(voters_list):\n",
        "    # provide staring variable values for min and max ages\n",
        "    min_age = 100\n",
        "    max_age = 0\n",
        "    ### BEGIN SOLUTION\n",
        "    max_tuple = ()\n",
        "    min_tuple = ()\n",
        "    for voter in voters_list:\n",
        "      try:\n",
        "        if int(voter['Age_at_Vote']) != 'N/A':\n",
        "          if int(voter['Age_at_Vote']) > max_age:\n",
        "            max_age = int(voter['Age_at_Vote'])\n",
        "            max_tuple=(voter['Voter'],voter['Year'],voter['Age_at_Vote'])\n",
        "\n",
        "          elif int(voter['Age_at_Vote']) < min_age:\n",
        "            min_age = int(voter['Age_at_Vote'])\n",
        "            min_tuple=(voter['Voter'],voter['Year'],voter['Age_at_Vote'])\n",
        "      except:\n",
        "        #print(\"Exception \",voter['Age_at_Vote'])\n",
        "        pass\n",
        "\n",
        "\n",
        "\n",
        "\n",
        "\n",
        "    #print(\"max : \",max_tuple)\n",
        "    #print(\"min : \",min_tuple)\n",
        "    return [(max_tuple),(min_tuple)]\n",
        "\n",
        "    #pass\n",
        "\n",
        "    ### END SOLUTION\n",
        "\n",
        "### demo function call ###\n",
        "# result_full = oldest_and_youngest_voter(voters)\n",
        "# display(result_full)\n",
        "### demo function call ###\n",
        "result_demo3 = oldest_and_youngest_voter(voters_list_ex3_demo)\n",
        "display(result_demo3)\n",
        "assert result_demo3 == [('Herbie Hancock', '2020', '80'), ('Britney Spears', '2003', '22')], 'Demo data does not pass.'\n",
        "print('passed demo data')"
      ]
    },
    {
      "cell_type": "code",
      "execution_count": 28,
      "id": "15177255-43e8-4306-b885-46782fc5bf12",
      "metadata": {
        "id": "15177255-43e8-4306-b885-46782fc5bf12",
        "outputId": "7b3e54da-6d1f-47ed-9331-fb7a878ffedf",
        "colab": {
          "base_uri": "https://localhost:8080/"
        }
      },
      "outputs": [
        {
          "output_type": "stream",
          "name": "stdout",
          "text": [
            "Passed\n"
          ]
        }
      ],
      "source": [
        "# test cell\n",
        "# Run this cell to test if your code is correct\n",
        "voters_list_3a = voters_list[50:150]\n",
        "assert oldest_and_youngest_voter(voters_list_3a) == [('Herbie Hancock', '2020', '80'), ('Lindsey Jordan', '2020', '21')], \"Your function does not return the correct voters in the first test data set.\"\n",
        "voters_list_3b = voters_list[151:250]\n",
        "assert oldest_and_youngest_voter(voters_list_3b) == [('Eric Burdon', '2020', '79'), ('Faye Webster', '2020', '23')], \"Your function does not return the correct voters in the second test data set.\"\n",
        "voters_list_3c = voters_list[251:350]\n",
        "assert oldest_and_youngest_voter(voters_list_3c) == [('Adam White', '2020', '72'), ('Suzy Exposito', '2020', '20')], \"Your function does not return the correct voters in the third test data set.\"\n",
        "print(\"Passed\")"
      ]
    },
    {
      "cell_type": "markdown",
      "id": "95f3ff65-2f6d-462e-851c-18c90512c4c6",
      "metadata": {
        "id": "95f3ff65-2f6d-462e-851c-18c90512c4c6"
      },
      "source": [
        "### One of the criticisms of the first two lists is that they were limited in their selections of artists and albums.\n",
        "\n",
        "One method of validating/refuting this criticism is to determine how many albums were in the 2020 list, that were not in the 2003 list, but were release prior to 2003. That is what the below exercise will determine.\n",
        "\n",
        "A further analysis of this exercise might be to do a gender/race/album genre analysis to determine if there are patterns to the previously excluded albums. We will not do that here, but that would be the next logical extension of this exercise."
      ]
    },
    {
      "cell_type": "markdown",
      "id": "271f9875-a126-4e43-866c-bf7e486f18c2",
      "metadata": {
        "id": "271f9875-a126-4e43-866c-bf7e486f18c2"
      },
      "source": [
        "# Ex. 4 (**2 points**): `albums_2020_released_before_2003` #\n",
        "\n",
        "Given a list of dictionaries, `albums_2020_released_before_2003`, complete the function,\n",
        "```python\n",
        "def albums_2020_released_before_2003(voters_list):\n",
        "    ...\n",
        "```\n",
        "so that it returns a tuple:\n",
        "\n",
        "- the first element of the tuple is the number of albums that meet the criteria,\n",
        "- and the second element of the tuple is a list of dictionaries, with each dictionary being an album in the `albums_list` variable that is passed in, that were released prior to 2003, were not in the 2003 list, and were in the 2020 list.\n",
        "- Each dictionary will have 3 key-value pairs:  `Artist Clean Name`, `Album Name`, `Year Released`, in that order within the dictionary.\n",
        "\n",
        "**Input:**\n",
        "- A list of dictionaries, `albums_list`. It will have the same format as the `albums` variable above. For testing, it may or may not contain all of the values in the variable, so your code must account for a different number of albums to be in your input.\n",
        "\n",
        "**Your task:** Copy this list and output the number of albums, and the list of them in the variable.\n",
        "\n",
        "**Output:** Return a tuple, without modifying the input `albums_list`. The first element in the tuple will be the number of albums, and the second element of the tuple will be the list of dictionaries containing the album information.\n",
        "\n",
        "The list of dictionaries must be sorted as follows, all in ascending order:  \n",
        "- `Artist Clean Name`\n",
        "- Break any ties using `Year Released`\n",
        "- Break any further ties using `Album Name`\n",
        "\n",
        "\n",
        "Each dictionary should contain the the following values:\n",
        "- `'Artist Clean Name'` --  String. This is the artist's name, from the `Clean_Name` key.\n",
        "- `'Album Name'` --  String. This is name of the album, from the `Album` key.  \n",
        "- `'Year Released'` -- String. This is the year that the album was released, from the `Release_Year` key.\n",
        "\n",
        "**Caveat(s)/comment(s)/hint(s):**\n",
        "1. The list of dictionaries passed into the function may have albums from multiple years, but you only want the ones relevant to the `2003` and `2020` criteria.\n",
        "\n",
        "2. Ensure that your data types are correct, as the data types input may not always be the same as what you need to output.\n",
        "\n",
        "3. For the entire list of albums, there are `107` which meet this criteria."
      ]
    },
    {
      "cell_type": "code",
      "execution_count": 29,
      "id": "fa0c6473-41d5-4b8c-b3a7-5b57ff7649bd",
      "metadata": {
        "id": "fa0c6473-41d5-4b8c-b3a7-5b57ff7649bd"
      },
      "outputs": [],
      "source": [
        "# Run this cell, to populate the demo data for the student to work with\n",
        "albums_list = albums\n",
        "albums_list_ex4_demo = albums[15:20]"
      ]
    },
    {
      "cell_type": "markdown",
      "id": "889f354c-4c1f-4efe-8d6c-e7348330547a",
      "metadata": {
        "id": "889f354c-4c1f-4efe-8d6c-e7348330547a"
      },
      "source": [
        "#### A properly-coded function will return the following tuple, for the demo data:\n",
        "\n",
        "(2,\n",
        "\n",
        " [\n",
        "  {'Artist Clean Name': 'Fiona Apple',\n",
        "   'Album Name': 'When the Pawn...',\n",
        "   'Year Released': '1999'},\n",
        "\n",
        "  {'Artist Clean Name': 'Janet Jackson',\n",
        "   'Album Name': 'Control',\n",
        "   'Year Released': '1986'}\n",
        "   ]\n",
        "   \n",
        "   )"
      ]
    },
    {
      "cell_type": "code",
      "execution_count": 48,
      "id": "4a7c7b24",
      "metadata": {
        "id": "4a7c7b24",
        "outputId": "c458f3c3-5b95-46f5-ed59-cd0d966b0158",
        "colab": {
          "base_uri": "https://localhost:8080/",
          "height": 263
        }
      },
      "outputs": [
        {
          "output_type": "stream",
          "name": "stdout",
          "text": [
            "{'Sort_Name': \"Howlin' Wolf\", 'Clean_Name': \"Howlin' Wolf\", 'Album': \"Moanin' in the Moonlight\", '2003_Rank_Old': '153', '2003_Rank': '153', '2012_Rank': '154', '2020_Rank': '477', '2020_2003_Differential': '-324', 'Release_Year': '1959', 'Album_Genre': 'Blues/Blues Rock', 'Album_Type': 'Compilation', 'Weeks_on_Billboard': '-', 'Peak_Billboard_Position': '201', 'Spotify_Popularity': '53', 'Spotify_URI': 'spotify:album:76MT4lqzC1oSvSYnHHjMam', 'Chartmetric_Link': 'https://app.chartmetric.com/album/4137552/about', 'Artist_Member_Count': '1', 'Artist_Gender': 'Male', 'Artist_Birth_Year_Sum': '1910', 'Debut_Album_Release_Year': '1959', 'Avg._Age_at_Top_500_Album': '49', 'Years_Between_Debut_and_Top_500_Album': '0', 'Album_ID': '76MT4lqzC1oSvSYnHHjMam', 'Album_ID_Quoted': '\"76MT4lqzC1oSvSYnHHjMam\",', '': ''}\n",
            "{'Sort_Name': 'Swift, Taylor', 'Clean_Name': 'Taylor Swift', 'Album': 'Red', '2003_Rank_Old': '', '2003_Rank': '', '2012_Rank': '', '2020_Rank': '99', '2020_2003_Differential': '402', 'Release_Year': '2012', 'Album_Genre': 'Country/Folk/Country Rock/Folk Rock', 'Album_Type': 'Studio', 'Weeks_on_Billboard': '185', 'Peak_Billboard_Position': '1', 'Spotify_Popularity': '62', 'Spotify_URI': 'spotify:album:1EoDsNmgTLtmwe1BDAVxV5', 'Chartmetric_Link': 'https://app.chartmetric.com/album/3315693/about', 'Artist_Member_Count': '1', 'Artist_Gender': 'Female', 'Artist_Birth_Year_Sum': '1989', 'Debut_Album_Release_Year': '2006', 'Avg._Age_at_Top_500_Album': '23', 'Years_Between_Debut_and_Top_500_Album': '6', 'Album_ID': '1EoDsNmgTLtmwe1BDAVxV5', 'Album_ID_Quoted': '\"1EoDsNmgTLtmwe1BDAVxV5\",', '': ''}\n",
            "{'Sort_Name': 'Apple, Fiona', 'Clean_Name': 'Fiona Apple', 'Album': 'When the Pawn...', '2003_Rank_Old': '', '2003_Rank': '', '2012_Rank': '', '2020_Rank': '108', '2020_2003_Differential': '393', 'Release_Year': '1999', 'Album_Genre': 'Indie/Alternative Rock', 'Album_Type': 'Studio', 'Weeks_on_Billboard': '20', 'Peak_Billboard_Position': '13', 'Spotify_Popularity': '64', 'Spotify_URI': 'spotify:album:3o5EnVZNJXtfPV8tCoagjI', 'Chartmetric_Link': 'https://app.chartmetric.com/album/3955868/about', 'Artist_Member_Count': '1', 'Artist_Gender': 'Female', 'Artist_Birth_Year_Sum': '1977', 'Debut_Album_Release_Year': '1996', 'Avg._Age_at_Top_500_Album': '22', 'Years_Between_Debut_and_Top_500_Album': '3', 'Album_ID': '3o5EnVZNJXtfPV8tCoagjI', 'Album_ID_Quoted': '\"3o5EnVZNJXtfPV8tCoagjI\",', '': ''}\n",
            "{'Sort_Name': 'Charles, Ray', 'Clean_Name': 'Ray Charles', 'Album': 'The Genius of Ray Charles', '2003_Rank_Old': '260', '2003_Rank': '263', '2012_Rank': '265', '2020_Rank': '', '2020_2003_Differential': '-238', 'Release_Year': '1959', 'Album_Genre': '', 'Album_Type': 'Studio', 'Weeks_on_Billboard': '-', 'Peak_Billboard_Position': '17', 'Spotify_Popularity': '52', 'Spotify_URI': 'spotify:album:4GFWnwli2cVOBp2G1zqhV1', 'Chartmetric_Link': 'https://app.chartmetric.com/album/3974621/about', 'Artist_Member_Count': '1', 'Artist_Gender': 'Male', 'Artist_Birth_Year_Sum': '1930', 'Debut_Album_Release_Year': '1949', 'Avg._Age_at_Top_500_Album': '29', 'Years_Between_Debut_and_Top_500_Album': '10', 'Album_ID': '4GFWnwli2cVOBp2G1zqhV1', 'Album_ID_Quoted': '\"4GFWnwli2cVOBp2G1zqhV1\",', '': ''}\n",
            "{'Sort_Name': 'Jackson, Janet', 'Clean_Name': 'Janet Jackson', 'Album': 'Control', '2003_Rank_Old': '', '2003_Rank': '', '2012_Rank': '', '2020_Rank': '111', '2020_2003_Differential': '390', 'Release_Year': '1986', 'Album_Genre': 'Soul/Gospel/R&B', 'Album_Type': 'Studio', 'Weeks_on_Billboard': '106', 'Peak_Billboard_Position': '1', 'Spotify_Popularity': '54', 'Spotify_URI': 'spotify:album:7GWkceE5McMVfffd1RGL6Y', 'Chartmetric_Link': 'https://app.chartmetric.com/album/3956683/about', 'Artist_Member_Count': '1', 'Artist_Gender': 'Female', 'Artist_Birth_Year_Sum': '1966', 'Debut_Album_Release_Year': '1982', 'Avg._Age_at_Top_500_Album': '20', 'Years_Between_Debut_and_Top_500_Album': '4', 'Album_ID': '7GWkceE5McMVfffd1RGL6Y', 'Album_ID_Quoted': '\"7GWkceE5McMVfffd1RGL6Y\",', '': ''}\n"
          ]
        },
        {
          "output_type": "display_data",
          "data": {
            "text/plain": [
              "(2,\n",
              " [{'Artist Clean Name': 'Fiona Apple',\n",
              "   'Album Name': 'When the Pawn...',\n",
              "   'Year Released': '1999'},\n",
              "  {'Artist Clean Name': 'Janet Jackson',\n",
              "   'Album Name': 'Control',\n",
              "   'Year Released': '1986'}])"
            ]
          },
          "metadata": {}
        },
        {
          "output_type": "stream",
          "name": "stdout",
          "text": [
            "passed demo data\n"
          ]
        }
      ],
      "source": [
        "### Exercise 4 solution -- 2 points ###\n",
        "def albums_2020_released_before_2003(albums_list):\n",
        "    ### BEGIN SOLUTION\n",
        "    album_list = []\n",
        "    count = 0\n",
        "    for album in albums_list:\n",
        "      print(album)\n",
        "      if album['2003_Rank'] == '' and  album['2020_Rank'] !='' and int(album['Release_Year']) < 2003:\n",
        "        count +=1\n",
        "        album_list.append({\"Artist Clean Name\" : album['Clean_Name'], \"Album Name\" : album['Album'], \"Year Released\" : album['Release_Year']})\n",
        "\n",
        "    # sort the list\n",
        "    album_list = sorted(album_list, key=lambda x: (x['Artist Clean Name'],x['Year Released'],x['Album Name']))\n",
        "    return (count, album_list)\n",
        "    #pass\n",
        "\n",
        "    ### END SOLUTION\n",
        "\n",
        "### demo function call ###\n",
        "# result_full = albums_2020_released_before_2003(albums)\n",
        "# display(result_full)\n",
        "### demo function call ###\n",
        "result = albums_2020_released_before_2003(albums_list_ex4_demo)\n",
        "display(result)\n",
        "assert result == (2,\n",
        "[ {'Artist Clean Name': 'Fiona Apple', 'Album Name': 'When the Pawn...', 'Year Released': '1999'},\n",
        "{'Artist Clean Name': 'Janet Jackson', 'Album Name': 'Control', 'Year Released': '1986'} ]), 'Demo data does not pass.'\n",
        "print('passed demo data')"
      ]
    },
    {
      "cell_type": "code",
      "execution_count": 49,
      "id": "82125eaa-4d91-495d-be66-989701b0bb36",
      "metadata": {
        "id": "82125eaa-4d91-495d-be66-989701b0bb36",
        "outputId": "bd4dd46d-60d2-4eef-cc4e-7fa20ca4fe09",
        "colab": {
          "base_uri": "https://localhost:8080/"
        }
      },
      "outputs": [
        {
          "output_type": "stream",
          "name": "stdout",
          "text": [
            "{'Sort_Name': 'Beyonce', 'Clean_Name': 'Beyonce', 'Album': 'Beyonce', '2003_Rank_Old': '', '2003_Rank': '', '2012_Rank': '', '2020_Rank': '81', '2020_2003_Differential': '420', 'Release_Year': '2013', 'Album_Genre': '', 'Album_Type': 'Studio', 'Weeks_on_Billboard': '186', 'Peak_Billboard_Position': '1', 'Spotify_Popularity': '75', 'Spotify_URI': 'spotify:album:2UJwKSBUz6rtW4QLK74kQu', 'Chartmetric_Link': 'https://app.chartmetric.com/album/370590/about', 'Artist_Member_Count': '1', 'Artist_Gender': 'Female', 'Artist_Birth_Year_Sum': '1981', 'Debut_Album_Release_Year': '2003', 'Avg._Age_at_Top_500_Album': '32', 'Years_Between_Debut_and_Top_500_Album': '10', 'Album_ID': '2UJwKSBUz6rtW4QLK74kQu', 'Album_ID_Quoted': '\"2UJwKSBUz6rtW4QLK74kQu\",', '': ''}\n",
            "{'Sort_Name': 'Coleman, Ornette', 'Clean_Name': 'Ornette Coleman', 'Album': 'The Shape of Jazz to Come', '2003_Rank_Old': '243', '2003_Rank': '246', '2012_Rank': '248', '2020_Rank': '417', '2020_2003_Differential': '-171', 'Release_Year': '1959', 'Album_Genre': 'Big Band/Jazz', 'Album_Type': 'Studio', 'Weeks_on_Billboard': '-', 'Peak_Billboard_Position': '201', 'Spotify_Popularity': '34', 'Spotify_URI': 'spotify:album:2iPH3iUmpa9ufIpwY76keF', 'Chartmetric_Link': 'https://app.chartmetric.com/album/3972846/about', 'Artist_Member_Count': '1', 'Artist_Gender': 'Male', 'Artist_Birth_Year_Sum': '1930', 'Debut_Album_Release_Year': '1958', 'Avg._Age_at_Top_500_Album': '29', 'Years_Between_Debut_and_Top_500_Album': '1', 'Album_ID': '2iPH3iUmpa9ufIpwY76keF', 'Album_ID_Quoted': '\"2iPH3iUmpa9ufIpwY76keF\",', '': ''}\n",
            "{'Sort_Name': 'Badu, Erykah', 'Clean_Name': 'Erykah Badu', 'Album': 'Baduizm', '2003_Rank_Old': '', '2003_Rank': '', '2012_Rank': '', '2020_Rank': '89', '2020_2003_Differential': '412', 'Release_Year': '1997', 'Album_Genre': 'Soul/Gospel/R&B', 'Album_Type': 'Studio', 'Weeks_on_Billboard': '58', 'Peak_Billboard_Position': '2', 'Spotify_Popularity': '67', 'Spotify_URI': 'spotify:album:3qr4pTBWEU1SVf01j6RAx3', 'Chartmetric_Link': 'https://app.chartmetric.com/album/3248192/about', 'Artist_Member_Count': '1', 'Artist_Gender': 'Female', 'Artist_Birth_Year_Sum': '1971', 'Debut_Album_Release_Year': '1997', 'Avg._Age_at_Top_500_Album': '26', 'Years_Between_Debut_and_Top_500_Album': '0', 'Album_ID': '3qr4pTBWEU1SVf01j6RAx3', 'Album_ID_Quoted': '\"3qr4pTBWEU1SVf01j6RAx3\",', '': ''}\n",
            "{'Sort_Name': 'Elliott, Missy', 'Clean_Name': 'Missy Elliott', 'Album': 'Supa Dupa Fly', '2003_Rank_Old': '', '2003_Rank': '', '2012_Rank': '', '2020_Rank': '93', '2020_2003_Differential': '408', 'Release_Year': '1997', 'Album_Genre': 'Hip-Hop/Rap', 'Album_Type': 'Studio', 'Weeks_on_Billboard': '37', 'Peak_Billboard_Position': '3', 'Spotify_Popularity': '53', 'Spotify_URI': 'spotify:album:6UkdyvPElK6JDkyeRClbI2', 'Chartmetric_Link': 'https://app.chartmetric.com/album/3957140/about', 'Artist_Member_Count': '1', 'Artist_Gender': 'Female', 'Artist_Birth_Year_Sum': '1971', 'Debut_Album_Release_Year': '1997', 'Avg._Age_at_Top_500_Album': '26', 'Years_Between_Debut_and_Top_500_Album': '0', 'Album_ID': '6UkdyvPElK6JDkyeRClbI2', 'Album_ID_Quoted': '\"6UkdyvPElK6JDkyeRClbI2\",', '': ''}\n",
            "{'Sort_Name': \"Howlin' Wolf\", 'Clean_Name': \"Howlin' Wolf\", 'Album': \"Moanin' in the Moonlight\", '2003_Rank_Old': '153', '2003_Rank': '153', '2012_Rank': '154', '2020_Rank': '477', '2020_2003_Differential': '-324', 'Release_Year': '1959', 'Album_Genre': 'Blues/Blues Rock', 'Album_Type': 'Compilation', 'Weeks_on_Billboard': '-', 'Peak_Billboard_Position': '201', 'Spotify_Popularity': '53', 'Spotify_URI': 'spotify:album:76MT4lqzC1oSvSYnHHjMam', 'Chartmetric_Link': 'https://app.chartmetric.com/album/4137552/about', 'Artist_Member_Count': '1', 'Artist_Gender': 'Male', 'Artist_Birth_Year_Sum': '1910', 'Debut_Album_Release_Year': '1959', 'Avg._Age_at_Top_500_Album': '49', 'Years_Between_Debut_and_Top_500_Album': '0', 'Album_ID': '76MT4lqzC1oSvSYnHHjMam', 'Album_ID_Quoted': '\"76MT4lqzC1oSvSYnHHjMam\",', '': ''}\n",
            "{'Sort_Name': 'Swift, Taylor', 'Clean_Name': 'Taylor Swift', 'Album': 'Red', '2003_Rank_Old': '', '2003_Rank': '', '2012_Rank': '', '2020_Rank': '99', '2020_2003_Differential': '402', 'Release_Year': '2012', 'Album_Genre': 'Country/Folk/Country Rock/Folk Rock', 'Album_Type': 'Studio', 'Weeks_on_Billboard': '185', 'Peak_Billboard_Position': '1', 'Spotify_Popularity': '62', 'Spotify_URI': 'spotify:album:1EoDsNmgTLtmwe1BDAVxV5', 'Chartmetric_Link': 'https://app.chartmetric.com/album/3315693/about', 'Artist_Member_Count': '1', 'Artist_Gender': 'Female', 'Artist_Birth_Year_Sum': '1989', 'Debut_Album_Release_Year': '2006', 'Avg._Age_at_Top_500_Album': '23', 'Years_Between_Debut_and_Top_500_Album': '6', 'Album_ID': '1EoDsNmgTLtmwe1BDAVxV5', 'Album_ID_Quoted': '\"1EoDsNmgTLtmwe1BDAVxV5\",', '': ''}\n",
            "{'Sort_Name': 'Apple, Fiona', 'Clean_Name': 'Fiona Apple', 'Album': 'When the Pawn...', '2003_Rank_Old': '', '2003_Rank': '', '2012_Rank': '', '2020_Rank': '108', '2020_2003_Differential': '393', 'Release_Year': '1999', 'Album_Genre': 'Indie/Alternative Rock', 'Album_Type': 'Studio', 'Weeks_on_Billboard': '20', 'Peak_Billboard_Position': '13', 'Spotify_Popularity': '64', 'Spotify_URI': 'spotify:album:3o5EnVZNJXtfPV8tCoagjI', 'Chartmetric_Link': 'https://app.chartmetric.com/album/3955868/about', 'Artist_Member_Count': '1', 'Artist_Gender': 'Female', 'Artist_Birth_Year_Sum': '1977', 'Debut_Album_Release_Year': '1996', 'Avg._Age_at_Top_500_Album': '22', 'Years_Between_Debut_and_Top_500_Album': '3', 'Album_ID': '3o5EnVZNJXtfPV8tCoagjI', 'Album_ID_Quoted': '\"3o5EnVZNJXtfPV8tCoagjI\",', '': ''}\n",
            "{'Sort_Name': 'Charles, Ray', 'Clean_Name': 'Ray Charles', 'Album': 'The Genius of Ray Charles', '2003_Rank_Old': '260', '2003_Rank': '263', '2012_Rank': '265', '2020_Rank': '', '2020_2003_Differential': '-238', 'Release_Year': '1959', 'Album_Genre': '', 'Album_Type': 'Studio', 'Weeks_on_Billboard': '-', 'Peak_Billboard_Position': '17', 'Spotify_Popularity': '52', 'Spotify_URI': 'spotify:album:4GFWnwli2cVOBp2G1zqhV1', 'Chartmetric_Link': 'https://app.chartmetric.com/album/3974621/about', 'Artist_Member_Count': '1', 'Artist_Gender': 'Male', 'Artist_Birth_Year_Sum': '1930', 'Debut_Album_Release_Year': '1949', 'Avg._Age_at_Top_500_Album': '29', 'Years_Between_Debut_and_Top_500_Album': '10', 'Album_ID': '4GFWnwli2cVOBp2G1zqhV1', 'Album_ID_Quoted': '\"4GFWnwli2cVOBp2G1zqhV1\",', '': ''}\n",
            "{'Sort_Name': 'Jackson, Janet', 'Clean_Name': 'Janet Jackson', 'Album': 'Control', '2003_Rank_Old': '', '2003_Rank': '', '2012_Rank': '', '2020_Rank': '111', '2020_2003_Differential': '390', 'Release_Year': '1986', 'Album_Genre': 'Soul/Gospel/R&B', 'Album_Type': 'Studio', 'Weeks_on_Billboard': '106', 'Peak_Billboard_Position': '1', 'Spotify_Popularity': '54', 'Spotify_URI': 'spotify:album:7GWkceE5McMVfffd1RGL6Y', 'Chartmetric_Link': 'https://app.chartmetric.com/album/3956683/about', 'Artist_Member_Count': '1', 'Artist_Gender': 'Female', 'Artist_Birth_Year_Sum': '1966', 'Debut_Album_Release_Year': '1982', 'Avg._Age_at_Top_500_Album': '20', 'Years_Between_Debut_and_Top_500_Album': '4', 'Album_ID': '7GWkceE5McMVfffd1RGL6Y', 'Album_ID_Quoted': '\"7GWkceE5McMVfffd1RGL6Y\",', '': ''}\n",
            "{'Sort_Name': 'Etta James', 'Clean_Name': 'Etta James', 'Album': 'At Last!', '2003_Rank_Old': '118', '2003_Rank': '116', '2012_Rank': '119', '2020_Rank': '191', '2020_2003_Differential': '-75', 'Release_Year': '1960', 'Album_Genre': 'Soul/Gospel/R&B', 'Album_Type': 'Studio', 'Weeks_on_Billboard': '-', 'Peak_Billboard_Position': '201', 'Spotify_Popularity': '75', 'Spotify_URI': 'spotify:album:7rd4PorIOPjPTy7qdUeeCt', 'Chartmetric_Link': 'https://app.chartmetric.com/album/3872384/about', 'Artist_Member_Count': '1', 'Artist_Gender': 'Female', 'Artist_Birth_Year_Sum': '1938', 'Debut_Album_Release_Year': '1960', 'Avg._Age_at_Top_500_Album': '22', 'Years_Between_Debut_and_Top_500_Album': '0', 'Album_ID': '7rd4PorIOPjPTy7qdUeeCt', 'Album_ID_Quoted': '\"7rd4PorIOPjPTy7qdUeeCt\",', '': ''}\n",
            "{'Sort_Name': 'Mitchell, Joni', 'Clean_Name': 'Joni Mitchell', 'Album': 'Hejira', '2003_Rank_Old': '', '2003_Rank': '', '2012_Rank': '', '2020_Rank': '133', '2020_2003_Differential': '368', 'Release_Year': '1976', 'Album_Genre': '', 'Album_Type': 'Studio', 'Weeks_on_Billboard': '18', 'Peak_Billboard_Position': '13', 'Spotify_Popularity': 'Not on Spotify', 'Spotify_URI': 'Not on Spotify', 'Chartmetric_Link': '', 'Artist_Member_Count': '1', 'Artist_Gender': 'Female', 'Artist_Birth_Year_Sum': '1943', 'Debut_Album_Release_Year': '1968', 'Avg._Age_at_Top_500_Album': '33', 'Years_Between_Debut_and_Top_500_Album': '8', 'Album_ID': 'NOS007', 'Album_ID_Quoted': '\"Not on Spotify\",', '': ''}\n",
            "{'Sort_Name': 'Adele', 'Clean_Name': 'Adele', 'Album': '21', '2003_Rank_Old': '', '2003_Rank': '', '2012_Rank': '', '2020_Rank': '137', '2020_2003_Differential': '364', 'Release_Year': '2011', 'Album_Genre': 'Soul/Gospel/R&B', 'Album_Type': 'Studio', 'Weeks_on_Billboard': '588', 'Peak_Billboard_Position': '1', 'Spotify_Popularity': '81', 'Spotify_URI': 'spotify:album:0Lg1uZvI312TPqxNWShFXL', 'Chartmetric_Link': 'https://app.chartmetric.com/album/7149504/about', 'Artist_Member_Count': '1', 'Artist_Gender': 'Female', 'Artist_Birth_Year_Sum': '1988', 'Debut_Album_Release_Year': '2008', 'Avg._Age_at_Top_500_Album': '23', 'Years_Between_Debut_and_Top_500_Album': '3', 'Album_ID': '0Lg1uZvI312TPqxNWShFXL', 'Album_ID_Quoted': '\"0Lg1uZvI312TPqxNWShFXL\",', '': ''}\n",
            "{'Sort_Name': 'Waters, Muddy', 'Clean_Name': 'Muddy Waters', 'Album': 'Muddy Waters at Newport 1960', '2003_Rank_Old': '344', '2003_Rank': '348', '2012_Rank': '348', '2020_Rank': '', '2020_2003_Differential': '-153', 'Release_Year': '1960', 'Album_Genre': 'Blues/Blues Rock', 'Album_Type': 'Live', 'Weeks_on_Billboard': '-', 'Peak_Billboard_Position': '201', 'Spotify_Popularity': '26', 'Spotify_URI': 'spotify:album:7gTcPv1bE0THbjuvDbK1gq', 'Chartmetric_Link': 'https://app.chartmetric.com/album/5054999/about', 'Artist_Member_Count': '1', 'Artist_Gender': 'Male', 'Artist_Birth_Year_Sum': '1913', 'Debut_Album_Release_Year': '1947', 'Avg._Age_at_Top_500_Album': '47', 'Years_Between_Debut_and_Top_500_Album': '13', 'Album_ID': '7gTcPv1bE0THbjuvDbK1gq', 'Album_ID_Quoted': '\"7gTcPv1bE0THbjuvDbK1gq\",', '': ''}\n",
            "{'Sort_Name': 'Davis, Miles', 'Clean_Name': 'Miles Davis', 'Album': 'Sketches of Spain', '2003_Rank_Old': '352', '2003_Rank': '356', '2012_Rank': '358', '2020_Rank': '', '2020_2003_Differential': '-145', 'Release_Year': '1960', 'Album_Genre': 'Big Band/Jazz', 'Album_Type': 'Studio', 'Weeks_on_Billboard': '-', 'Peak_Billboard_Position': '201', 'Spotify_Popularity': '35', 'Spotify_URI': 'spotify:album:2xyhltm9XWSQ5xok4C81BD', 'Chartmetric_Link': 'https://app.chartmetric.com/album/1082241/about', 'Artist_Member_Count': '1', 'Artist_Gender': 'Male', 'Artist_Birth_Year_Sum': '1926', 'Debut_Album_Release_Year': '1951', 'Avg._Age_at_Top_500_Album': '34', 'Years_Between_Debut_and_Top_500_Album': '9', 'Album_ID': '2xyhltm9XWSQ5xok4C81BD', 'Album_ID_Quoted': '\"2xyhltm9XWSQ5xok4C81BD\",', '': ''}\n",
            "{'Sort_Name': 'Franklin, Aretha', 'Clean_Name': 'Aretha Franklin', 'Album': 'Amazing Grace', '2003_Rank_Old': '', '2003_Rank': '', '2012_Rank': '', '2020_Rank': '154', '2020_2003_Differential': '347', 'Release_Year': '1972', 'Album_Genre': 'Soul/Gospel/R&B', 'Album_Type': 'Live', 'Weeks_on_Billboard': '23', 'Peak_Billboard_Position': '7', 'Spotify_Popularity': '38', 'Spotify_URI': 'spotify:album:5pIUimaQ6XePPXbMUi3te0', 'Chartmetric_Link': 'https://app.chartmetric.com/album/247778/about', 'Artist_Member_Count': '1', 'Artist_Gender': 'Female', 'Artist_Birth_Year_Sum': '1942', 'Debut_Album_Release_Year': '1961', 'Avg._Age_at_Top_500_Album': '30', 'Years_Between_Debut_and_Top_500_Album': '11', 'Album_ID': '5pIUimaQ6XePPXbMUi3te0', 'Album_ID_Quoted': '\"5pIUimaQ6XePPXbMUi3te0\",', '': ''}\n",
            "{'Sort_Name': 'Badu, Erykah', 'Clean_Name': 'Erykah Badu', 'Album': \"Mama's Gun\", '2003_Rank_Old': '', '2003_Rank': '', '2012_Rank': '', '2020_Rank': '158', '2020_2003_Differential': '343', 'Release_Year': '2000', 'Album_Genre': 'Soul/Gospel/R&B', 'Album_Type': 'Studio', 'Weeks_on_Billboard': '25', 'Peak_Billboard_Position': '11', 'Spotify_Popularity': '66', 'Spotify_URI': 'spotify:album:3cADvHRdKniF9ELCn1zbGH', 'Chartmetric_Link': 'https://app.chartmetric.com/album/3003175/about', 'Artist_Member_Count': '1', 'Artist_Gender': 'Female', 'Artist_Birth_Year_Sum': '1971', 'Debut_Album_Release_Year': '1997', 'Avg._Age_at_Top_500_Album': '29', 'Years_Between_Debut_and_Top_500_Album': '3', 'Album_ID': '3cADvHRdKniF9ELCn1zbGH', 'Album_ID_Quoted': '\"3cADvHRdKniF9ELCn1zbGH\",', '': ''}\n",
            "{'Sort_Name': 'Johnson, Robert', 'Clean_Name': 'Robert Johnson', 'Album': 'King of the Delta Blues Singers', '2003_Rank_Old': '', '2003_Rank': '27', '2012_Rank': '', '2020_Rank': '374', '2020_2003_Differential': '-347', 'Release_Year': '1961', 'Album_Genre': 'Blues/Blues Rock', 'Album_Type': 'Compilation', 'Weeks_on_Billboard': '-', 'Peak_Billboard_Position': '201', 'Spotify_Popularity': '47', 'Spotify_URI': 'spotify:album:2IWaNq5o4tG1w6yxve5BMU', 'Chartmetric_Link': 'https://app.chartmetric.com/album/3955150/about', 'Artist_Member_Count': '1', 'Artist_Gender': 'Male', 'Artist_Birth_Year_Sum': '1911', 'Debut_Album_Release_Year': '1937', 'Avg._Age_at_Top_500_Album': '50', 'Years_Between_Debut_and_Top_500_Album': '24', 'Album_ID': '2IWaNq5o4tG1w6yxve5BMU', 'Album_ID_Quoted': '\"2IWaNq5o4tG1w6yxve5BMU\",', '': ''}\n",
            "{'Sort_Name': 'West, Kanye', 'Clean_Name': 'Kanye West', 'Album': 'The College Dropout', '2003_Rank_Old': '', '2003_Rank': '', '2012_Rank': '298', '2020_Rank': '74', '2020_2003_Differential': '427', 'Release_Year': '2004', 'Album_Genre': 'Hip-Hop/Rap', 'Album_Type': 'Studio', 'Weeks_on_Billboard': '74', 'Peak_Billboard_Position': '2', 'Spotify_Popularity': '79', 'Spotify_URI': 'spotify:album:4Uv86qWpGTxf7fU7lG5X6F', 'Chartmetric_Link': 'https://app.chartmetric.com/album/2714535/about', 'Artist_Member_Count': '1', 'Artist_Gender': 'Male', 'Artist_Birth_Year_Sum': '1977', 'Debut_Album_Release_Year': '2004', 'Avg._Age_at_Top_500_Album': '27', 'Years_Between_Debut_and_Top_500_Album': '0', 'Album_ID': '4Uv86qWpGTxf7fU7lG5X6F', 'Album_ID_Quoted': '\"4Uv86qWpGTxf7fU7lG5X6F\",', '': ''}\n",
            "{'Sort_Name': 'Kinks', 'Clean_Name': 'The Kinks', 'Album': 'The Kinks Are The Village Green Preservation Society', '2003_Rank_Old': '252', '2003_Rank': '255', '2012_Rank': '258', '2020_Rank': '384', '2020_2003_Differential': '-129', 'Release_Year': '1968', 'Album_Genre': '', 'Album_Type': 'Studio', 'Weeks_on_Billboard': '-', 'Peak_Billboard_Position': '201', 'Spotify_Popularity': '47', 'Spotify_URI': 'spotify:album:10c0h2wJ40mTjfIM5B0Lwr', 'Chartmetric_Link': 'https://app.chartmetric.com/album/3414704/about', 'Artist_Member_Count': '4', 'Artist_Gender': 'Male', 'Artist_Birth_Year_Sum': '7778', 'Debut_Album_Release_Year': '1964', 'Avg._Age_at_Top_500_Album': '23.5', 'Years_Between_Debut_and_Top_500_Album': '4', 'Album_ID': '10c0h2wJ40mTjfIM5B0Lwr', 'Album_ID_Quoted': '\"10c0h2wJ40mTjfIM5B0Lwr\",', '': ''}\n",
            "{'Sort_Name': 'Redding, Otis', 'Clean_Name': 'Otis Redding', 'Album': 'The Dock of the Bay', '2003_Rank_Old': '160', '2003_Rank': '161', '2012_Rank': '161', '2020_Rank': '', '2020_2003_Differential': '-340', 'Release_Year': '1968', 'Album_Genre': 'Soul/Gospel/R&B', 'Album_Type': 'Compilation', 'Weeks_on_Billboard': '42', 'Peak_Billboard_Position': '4', 'Spotify_Popularity': '51', 'Spotify_URI': 'spotify:album:0kSkzG0sfuG4lRuFF5jWVr', 'Chartmetric_Link': 'https://app.chartmetric.com/album/3959015/about', 'Artist_Member_Count': '1', 'Artist_Gender': 'Male', 'Artist_Birth_Year_Sum': '1941', 'Debut_Album_Release_Year': '1964', 'Avg._Age_at_Top_500_Album': '27', 'Years_Between_Debut_and_Top_500_Album': '4', 'Album_ID': '0kSkzG0sfuG4lRuFF5jWVr', 'Album_ID_Quoted': '\"0kSkzG0sfuG4lRuFF5jWVr\",', '': ''}\n",
            "{'Sort_Name': 'Byrds', 'Clean_Name': 'The Byrds', 'Album': 'The Notorious Byrd Brothers', '2003_Rank_Old': '170', '2003_Rank': '171', '2012_Rank': '171', '2020_Rank': '', '2020_2003_Differential': '-330', 'Release_Year': '1968', 'Album_Genre': '', 'Album_Type': 'Studio', 'Weeks_on_Billboard': '19', 'Peak_Billboard_Position': '47', 'Spotify_Popularity': '45', 'Spotify_URI': 'spotify:album:5UI2X5VAmgu9xrlXDd5U7B', 'Chartmetric_Link': 'https://app.chartmetric.com/album/1561149/about', 'Artist_Member_Count': '5', 'Artist_Gender': 'Male', 'Artist_Birth_Year_Sum': '9717', 'Debut_Album_Release_Year': '1965', 'Avg._Age_at_Top_500_Album': '24.6', 'Years_Between_Debut_and_Top_500_Album': '3', 'Album_ID': '5UI2X5VAmgu9xrlXDd5U7B', 'Album_ID_Quoted': '\"5UI2X5VAmgu9xrlXDd5U7B\",', '': ''}\n",
            "{'Sort_Name': 'Ocean, Frank', 'Clean_Name': 'Frank Ocean', 'Album': 'Blonde', '2003_Rank_Old': '', '2003_Rank': '', '2012_Rank': '', '2020_Rank': '79', '2020_2003_Differential': '422', 'Release_Year': '2016', 'Album_Genre': 'Soul/Gospel/R&B', 'Album_Type': 'Studio', 'Weeks_on_Billboard': '354', 'Peak_Billboard_Position': '1', 'Spotify_Popularity': '86', 'Spotify_URI': 'spotify:album:3mH6qwIy9crq0I9YQbOuDf', 'Chartmetric_Link': 'https://app.chartmetric.com/album/315788/about', 'Artist_Member_Count': '1', 'Artist_Gender': 'Male', 'Artist_Birth_Year_Sum': '1987', 'Debut_Album_Release_Year': '2012', 'Avg._Age_at_Top_500_Album': '29', 'Years_Between_Debut_and_Top_500_Album': '4', 'Album_ID': '3mH6qwIy9crq0I9YQbOuDf', 'Album_ID_Quoted': '\"3mH6qwIy9crq0I9YQbOuDf\",', '': ''}\n",
            "{'Sort_Name': 'Cream', 'Clean_Name': 'Cream', 'Album': 'Wheels of Fire', '2003_Rank_Old': '201', '2003_Rank': '203', '2012_Rank': '205', '2020_Rank': '', '2020_2003_Differential': '-298', 'Release_Year': '1968', 'Album_Genre': 'Blues/Blues Rock', 'Album_Type': 'Studio', 'Weeks_on_Billboard': '50', 'Peak_Billboard_Position': '1', 'Spotify_Popularity': '62', 'Spotify_URI': 'spotify:album:0zrtTZC7yY2TOEhnbJzSb9', 'Chartmetric_Link': 'https://app.chartmetric.com/album/3134167/about', 'Artist_Member_Count': '3', 'Artist_Gender': 'Male', 'Artist_Birth_Year_Sum': '5827', 'Debut_Album_Release_Year': '1966', 'Avg._Age_at_Top_500_Album': '25.66666667', 'Years_Between_Debut_and_Top_500_Album': '2', 'Album_ID': '0zrtTZC7yY2TOEhnbJzSb9', 'Album_ID_Quoted': '\"0zrtTZC7yY2TOEhnbJzSb9\",', '': ''}\n",
            "{'Sort_Name': 'Simon & Garfunkel', 'Clean_Name': 'Simon & Garfunkel', 'Album': 'Bookends', '2003_Rank_Old': '229', '2003_Rank': '233', '2012_Rank': '234', '2020_Rank': '', '2020_2003_Differential': '-268', 'Release_Year': '1968', 'Album_Genre': 'Country/Folk/Country Rock/Folk Rock', 'Album_Type': 'Studio', 'Weeks_on_Billboard': '66', 'Peak_Billboard_Position': '1', 'Spotify_Popularity': '68', 'Spotify_URI': 'spotify:album:3bzgbgiytguTDnwzflAZr2', 'Chartmetric_Link': 'https://app.chartmetric.com/album/3952122/about', 'Artist_Member_Count': '2', 'Artist_Gender': 'Male', 'Artist_Birth_Year_Sum': '3882', 'Debut_Album_Release_Year': '1964', 'Avg._Age_at_Top_500_Album': '27', 'Years_Between_Debut_and_Top_500_Album': '4', 'Album_ID': '3bzgbgiytguTDnwzflAZr2', 'Album_ID_Quoted': '\"3bzgbgiytguTDnwzflAZr2\",', '': ''}\n",
            "{'Sort_Name': 'Blood, Sweat & Tears', 'Clean_Name': 'Blood, Sweat & Tears', 'Album': 'Child Is Father to the Man', '2003_Rank_Old': '261', '2003_Rank': '264', '2012_Rank': '266', '2020_Rank': '', '2020_2003_Differential': '-237', 'Release_Year': '1968', 'Album_Genre': '', 'Album_Type': 'Studio', 'Weeks_on_Billboard': '55', 'Peak_Billboard_Position': '47', 'Spotify_Popularity': '39', 'Spotify_URI': 'spotify:album:0OhNZ7R4dOqtDPLGp0jBAZ', 'Chartmetric_Link': 'https://app.chartmetric.com/album/170439/about', 'Artist_Member_Count': '8', 'Artist_Gender': 'Male', 'Artist_Birth_Year_Sum': '15557', 'Debut_Album_Release_Year': '1968', 'Avg._Age_at_Top_500_Album': '23.375', 'Years_Between_Debut_and_Top_500_Album': '0', 'Album_ID': '0OhNZ7R4dOqtDPLGp0jBAZ', 'Album_ID_Quoted': '\"0OhNZ7R4dOqtDPLGp0jBAZ\",', '': ''}\n",
            "{'Sort_Name': 'Grateful Dead', 'Clean_Name': 'Grateful Dead', 'Album': 'Anthem of the Sun', '2003_Rank_Old': '284', '2003_Rank': '287', '2012_Rank': '288', '2020_Rank': '', '2020_2003_Differential': '-214', 'Release_Year': '1968', 'Album_Genre': 'Blues/Blues Rock', 'Album_Type': 'Studio', 'Weeks_on_Billboard': '17', 'Peak_Billboard_Position': '87', 'Spotify_Popularity': '23', 'Spotify_URI': 'spotify:album:4ZaIo647CyWAgow8oxqajh', 'Chartmetric_Link': 'https://app.chartmetric.com/album/3972635/about', 'Artist_Member_Count': '6', 'Artist_Gender': 'Male', 'Artist_Birth_Year_Sum': '11663', 'Debut_Album_Release_Year': '1967', 'Avg._Age_at_Top_500_Album': '24.16666667', 'Years_Between_Debut_and_Top_500_Album': '1', 'Album_ID': '4ZaIo647CyWAgow8oxqajh', 'Album_ID_Quoted': '\"4ZaIo647CyWAgow8oxqajh\",', '': ''}\n",
            "{'Sort_Name': 'Mothers of Invention', 'Clean_Name': 'The Mothers of Invention', 'Album': \"We're Only in It for the Money\", '2003_Rank_Old': '292', '2003_Rank': '296', '2012_Rank': '297', '2020_Rank': '', '2020_2003_Differential': '-205', 'Release_Year': '1968', 'Album_Genre': '', 'Album_Type': 'Studio', 'Weeks_on_Billboard': '19', 'Peak_Billboard_Position': '30', 'Spotify_Popularity': '41', 'Spotify_URI': 'spotify:album:3u1f0ziKFCkqcHUQ0AldCU', 'Chartmetric_Link': 'https://app.chartmetric.com/album/3048435/about', 'Artist_Member_Count': '8', 'Artist_Gender': 'Male', 'Artist_Birth_Year_Sum': '15509', 'Debut_Album_Release_Year': '1966', 'Avg._Age_at_Top_500_Album': '29.375', 'Years_Between_Debut_and_Top_500_Album': '2', 'Album_ID': '3u1f0ziKFCkqcHUQ0AldCU', 'Album_ID_Quoted': '\"3u1f0ziKFCkqcHUQ0AldCU\",', '': ''}\n",
            "{'Sort_Name': 'Drifters', 'Clean_Name': 'The Drifters', 'Album': \"The Drifters' Golden Hits\", '2003_Rank_Old': '457', '2003_Rank': '465', '2012_Rank': '459', '2020_Rank': '', '2020_2003_Differential': '-36', 'Release_Year': '1968', 'Album_Genre': 'Soul/Gospel/R&B', 'Album_Type': 'Greatest Hits', 'Weeks_on_Billboard': '8', 'Peak_Billboard_Position': '122', 'Spotify_Popularity': '28', 'Spotify_URI': 'spotify:album:4PfgUTGoURqbID40xeSIRP', 'Chartmetric_Link': 'https://app.chartmetric.com/album/11947620/about', 'Artist_Member_Count': '2', 'Artist_Gender': 'Male', 'Artist_Birth_Year_Sum': '3870', 'Debut_Album_Release_Year': '1956', 'Avg._Age_at_Top_500_Album': '33', 'Years_Between_Debut_and_Top_500_Album': '12', 'Album_ID': '4PfgUTGoURqbID40xeSIRP', 'Album_ID_Quoted': '\"4PfgUTGoURqbID40xeSIRP\",', '': ''}\n",
            "{'Sort_Name': 'Velvet Underground', 'Clean_Name': 'The Velvet Underground', 'Album': 'White Light/White Heat', '2003_Rank_Old': '289', '2003_Rank': '292', '2012_Rank': '293', '2020_Rank': '272', '2020_2003_Differential': '20', 'Release_Year': '1968', 'Album_Genre': 'Punk/Post-Punk/New Wave/Power Pop', 'Album_Type': 'Studio', 'Weeks_on_Billboard': '2', 'Peak_Billboard_Position': '199', 'Spotify_Popularity': '28', 'Spotify_URI': 'spotify:album:2a5vbe7uTRGAshFI80sfAl', 'Chartmetric_Link': 'https://app.chartmetric.com/album/4139493/about', 'Artist_Member_Count': '4', 'Artist_Gender': 'Male/Female', 'Artist_Birth_Year_Sum': '7770', 'Debut_Album_Release_Year': '1967', 'Avg._Age_at_Top_500_Album': '25.5', 'Years_Between_Debut_and_Top_500_Album': '1', 'Album_ID': '2a5vbe7uTRGAshFI80sfAl', 'Album_ID_Quoted': '\"2a5vbe7uTRGAshFI80sfAl\",', '': ''}\n",
            "{'Sort_Name': 'Big Brother & the Holding Company', 'Clean_Name': 'Big Brother & the Holding Company', 'Album': 'Cheap Thrills', '2003_Rank_Old': '334', '2003_Rank': '338', '2012_Rank': '338', '2020_Rank': '372', '2020_2003_Differential': '-34', 'Release_Year': '1968', 'Album_Genre': 'Blues/Blues Rock', 'Album_Type': 'Studio', 'Weeks_on_Billboard': '66', 'Peak_Billboard_Position': '1', 'Spotify_Popularity': '61', 'Spotify_URI': 'spotify:album:2rogKfOpmCFuqNhtGKf2dX', 'Chartmetric_Link': 'https://app.chartmetric.com/album/3955160/about', 'Artist_Member_Count': '5', 'Artist_Gender': 'Male/Female', 'Artist_Birth_Year_Sum': '9707', 'Debut_Album_Release_Year': '1967', 'Avg._Age_at_Top_500_Album': '26.6', 'Years_Between_Debut_and_Top_500_Album': '1', 'Album_ID': '2rogKfOpmCFuqNhtGKf2dX', 'Album_ID_Quoted': '\"2rogKfOpmCFuqNhtGKf2dX\",', '': ''}\n",
            "{'Sort_Name': 'Dusty Springfield', 'Clean_Name': 'Dusty Springfield', 'Album': 'Dusty in Memphis', '2003_Rank_Old': '89', '2003_Rank': '89', '2012_Rank': '89', '2020_Rank': '83', '2020_2003_Differential': '6', 'Release_Year': '1969', 'Album_Genre': 'Soul/Gospel/R&B', 'Album_Type': 'Studio', 'Weeks_on_Billboard': '14', 'Peak_Billboard_Position': '99', 'Spotify_Popularity': '24', 'Spotify_URI': 'spotify:album:14UrtAcLym4a6f7IgXVGjF', 'Chartmetric_Link': 'https://app.chartmetric.com/album/1997152/about', 'Artist_Member_Count': '1', 'Artist_Gender': 'Female', 'Artist_Birth_Year_Sum': '1939', 'Debut_Album_Release_Year': '1964', 'Avg._Age_at_Top_500_Album': '30', 'Years_Between_Debut_and_Top_500_Album': '5', 'Album_ID': '14UrtAcLym4a6f7IgXVGjF', 'Album_ID_Quoted': '\"14UrtAcLym4a6f7IgXVGjF\",', '': ''}\n",
            "{'Sort_Name': 'Beatles', 'Clean_Name': 'The Beatles', 'Album': 'Abbey Road', '2003_Rank_Old': '14', '2003_Rank': '14', '2012_Rank': '14', '2020_Rank': '5', '2020_2003_Differential': '9', 'Release_Year': '1969', 'Album_Genre': '', 'Album_Type': 'Studio', 'Weeks_on_Billboard': '83', 'Peak_Billboard_Position': '1', 'Spotify_Popularity': '79', 'Spotify_URI': 'spotify:album:0ETFjACtuP2ADo6LFhL6HN', 'Chartmetric_Link': 'https://app.chartmetric.com/album/3212851/about', 'Artist_Member_Count': '4', 'Artist_Gender': 'Male', 'Artist_Birth_Year_Sum': '7765', 'Debut_Album_Release_Year': '1963', 'Avg._Age_at_Top_500_Album': '27.75', 'Years_Between_Debut_and_Top_500_Album': '6', 'Album_ID': '0ETFjACtuP2ADo6LFhL6HN', 'Album_ID_Quoted': '\"0ETFjACtuP2ADo6LFhL6HN\",', '': ''}\n",
            "{'Sort_Name': 'Drake', 'Clean_Name': 'Drake', 'Album': 'Take Care', '2003_Rank_Old': '', '2003_Rank': '', '2012_Rank': '', '2020_Rank': '95', '2020_2003_Differential': '406', 'Release_Year': '2011', 'Album_Genre': 'Hip-Hop/Rap', 'Album_Type': 'Studio', 'Weeks_on_Billboard': '557', 'Peak_Billboard_Position': '1', 'Spotify_Popularity': '84', 'Spotify_URI': 'spotify:album:6X1x82kppWZmDzlXXK3y3q', 'Chartmetric_Link': 'https://app.chartmetric.com/album/3194050/about', 'Artist_Member_Count': '1', 'Artist_Gender': 'Male', 'Artist_Birth_Year_Sum': '1986', 'Debut_Album_Release_Year': '2010', 'Avg._Age_at_Top_500_Album': '25', 'Years_Between_Debut_and_Top_500_Album': '1', 'Album_ID': '6X1x82kppWZmDzlXXK3y3q', 'Album_ID_Quoted': '\"6X1x82kppWZmDzlXXK3y3q\",', '': ''}\n",
            "{'Sort_Name': 'Rolling Stones', 'Clean_Name': 'Rolling Stones', 'Album': 'Let It Bleed', '2003_Rank_Old': '32', '2003_Rank': '32', '2012_Rank': '32', '2020_Rank': '41', '2020_2003_Differential': '-9', 'Release_Year': '1969', 'Album_Genre': 'Blues/Blues Rock', 'Album_Type': 'Studio', 'Weeks_on_Billboard': '39', 'Peak_Billboard_Position': '3', 'Spotify_Popularity': '46', 'Spotify_URI': 'spotify:album:47hOpZQfXVIRzTiv0Ef8pO', 'Chartmetric_Link': 'https://app.chartmetric.com/album/5119593/about', 'Artist_Member_Count': '6', 'Artist_Gender': 'Male', 'Artist_Birth_Year_Sum': '11654', 'Debut_Album_Release_Year': '1964', 'Avg._Age_at_Top_500_Album': '26.66666667', 'Years_Between_Debut_and_Top_500_Album': '5', 'Album_ID': '47hOpZQfXVIRzTiv0Ef8pO', 'Album_ID_Quoted': '\"47hOpZQfXVIRzTiv0Ef8pO\",', '': ''}\n",
            "{'Sort_Name': 'Band, The', 'Clean_Name': 'The Band', 'Album': 'The Band', '2003_Rank_Old': '45', '2003_Rank': '45', '2012_Rank': '45', '2020_Rank': '57', '2020_2003_Differential': '-12', 'Release_Year': '1969', 'Album_Genre': 'Country/Folk/Country Rock/Folk Rock', 'Album_Type': 'Studio', 'Weeks_on_Billboard': '49', 'Peak_Billboard_Position': '9', 'Spotify_Popularity': '58', 'Spotify_URI': 'spotify:album:4vXFiaDS8zuEl5bOUbW53x', 'Chartmetric_Link': 'https://app.chartmetric.com/album/5453556/about', 'Artist_Member_Count': '5', 'Artist_Gender': 'Male', 'Artist_Birth_Year_Sum': '9706', 'Debut_Album_Release_Year': '1968', 'Avg._Age_at_Top_500_Album': '27.8', 'Years_Between_Debut_and_Top_500_Album': '1', 'Album_ID': '4vXFiaDS8zuEl5bOUbW53x', 'Album_ID_Quoted': '\"4vXFiaDS8zuEl5bOUbW53x\",', '': ''}\n",
            "{'Sort_Name': 'Led Zeppelin', 'Clean_Name': 'Led Zeppelin', 'Album': 'Led Zeppelin', '2003_Rank_Old': '29', '2003_Rank': '29', '2012_Rank': '29', '2020_Rank': '101', '2020_2003_Differential': '-72', 'Release_Year': '1969', 'Album_Genre': 'Hard Rock/Metal', 'Album_Type': 'Studio', 'Weeks_on_Billboard': '73', 'Peak_Billboard_Position': '10', 'Spotify_Popularity': '53', 'Spotify_URI': 'spotify:album:1J8QW9qsMLx3staWaHpQmU', 'Chartmetric_Link': 'https://app.chartmetric.com/album/241247/about', 'Artist_Member_Count': '4', 'Artist_Gender': 'Male', 'Artist_Birth_Year_Sum': '7786', 'Debut_Album_Release_Year': '1969', 'Avg._Age_at_Top_500_Album': '22.5', 'Years_Between_Debut_and_Top_500_Album': '0', 'Album_ID': '1J8QW9qsMLx3staWaHpQmU', 'Album_ID_Quoted': '\"1J8QW9qsMLx3staWaHpQmU\",', '': ''}\n",
            "{'Sort_Name': 'Led Zeppelin', 'Clean_Name': 'Led Zeppelin', 'Album': 'Led Zeppelin II', '2003_Rank_Old': '76', '2003_Rank': '75', '2012_Rank': '79', '2020_Rank': '123', '2020_2003_Differential': '-48', 'Release_Year': '1969', 'Album_Genre': 'Hard Rock/Metal', 'Album_Type': 'Studio', 'Weeks_on_Billboard': '75', 'Peak_Billboard_Position': '1', 'Spotify_Popularity': '55', 'Spotify_URI': 'spotify:album:58MQ0PLijVHePUonQlK76Y', 'Chartmetric_Link': 'https://app.chartmetric.com/album/1709753/about', 'Artist_Member_Count': '4', 'Artist_Gender': 'Male', 'Artist_Birth_Year_Sum': '7786', 'Debut_Album_Release_Year': '1969', 'Avg._Age_at_Top_500_Album': '22.5', 'Years_Between_Debut_and_Top_500_Album': '0', 'Album_ID': '58MQ0PLijVHePUonQlK76Y', 'Album_ID_Quoted': '\"58MQ0PLijVHePUonQlK76Y\",', '': ''}\n",
            "{'Sort_Name': 'Crosby, Stills & Nash', 'Clean_Name': 'Crosby, Stills & Nash', 'Album': 'Crosby, Stills & Nash', '2003_Rank_Old': '256', '2003_Rank': '259', '2012_Rank': '262', '2020_Rank': '161', '2020_2003_Differential': '98', 'Release_Year': '1969', 'Album_Genre': 'Country/Folk/Country Rock/Folk Rock', 'Album_Type': 'Studio', 'Weeks_on_Billboard': '107', 'Peak_Billboard_Position': '6', 'Spotify_Popularity': 'Not on Spotify', 'Spotify_URI': 'Not on Spotify', 'Chartmetric_Link': '', 'Artist_Member_Count': '3', 'Artist_Gender': 'Male', 'Artist_Birth_Year_Sum': '5828', 'Debut_Album_Release_Year': '1969', 'Avg._Age_at_Top_500_Album': '26.33333333', 'Years_Between_Debut_and_Top_500_Album': '0', 'Album_ID': 'NOS008', 'Album_ID_Quoted': '\"Not on Spotify\",', '': ''}\n",
            "{'Sort_Name': 'Who, The', 'Clean_Name': 'The Who', 'Album': 'Tommy', '2003_Rank_Old': '97', '2003_Rank': '96', '2012_Rank': '96', '2020_Rank': '190', '2020_2003_Differential': '-94', 'Release_Year': '1969', 'Album_Genre': '', 'Album_Type': 'Studio', 'Weeks_on_Billboard': '126', 'Peak_Billboard_Position': '4', 'Spotify_Popularity': '39', 'Spotify_URI': 'spotify:album:2srjzxgFaYLNh8UlJPAJ8b', 'Chartmetric_Link': 'https://app.chartmetric.com/album/4384674/about', 'Artist_Member_Count': '4', 'Artist_Gender': 'Male', 'Artist_Birth_Year_Sum': '7779', 'Debut_Album_Release_Year': '1965', 'Avg._Age_at_Top_500_Album': '24.25', 'Years_Between_Debut_and_Top_500_Album': '4', 'Album_ID': '2srjzxgFaYLNh8UlJPAJ8b', 'Album_ID_Quoted': '\"2srjzxgFaYLNh8UlJPAJ8b\",', '': ''}\n",
            "{'Sort_Name': 'Creedence Clearwater Revival', 'Clean_Name': 'Creedence Clearwater Revival', 'Album': 'Willy and the Poor Boys', '2003_Rank_Old': '388', '2003_Rank': '392', '2012_Rank': '309', '2020_Rank': '193', '2020_2003_Differential': '199', 'Release_Year': '1969', 'Album_Genre': 'Blues/Blues Rock', 'Album_Type': 'Studio', 'Weeks_on_Billboard': '3', 'Peak_Billboard_Position': '60', 'Spotify_Popularity': '34', 'Spotify_URI': 'spotify:album:5hW8vgOySUKEglHdGmNALK', 'Chartmetric_Link': 'https://app.chartmetric.com/album/22959880/about', 'Artist_Member_Count': '4', 'Artist_Gender': 'Male', 'Artist_Birth_Year_Sum': '7776', 'Debut_Album_Release_Year': '1968', 'Avg._Age_at_Top_500_Album': '25', 'Years_Between_Debut_and_Top_500_Album': '1', 'Album_ID': '5hW8vgOySUKEglHdGmNALK', 'Album_ID_Quoted': '\"5hW8vgOySUKEglHdGmNALK\",', '': ''}\n",
            "{'Sort_Name': 'Presley, Elvis', 'Clean_Name': 'Elvis Presley', 'Album': 'From Elvis in Memphis', '2003_Rank_Old': '188', '2003_Rank': '190', '2012_Rank': '190', '2020_Rank': '322', '2020_2003_Differential': '-132', 'Release_Year': '1969', 'Album_Genre': \"Rock n' Roll/Rhythm & Blues\", 'Album_Type': 'Studio', 'Weeks_on_Billboard': '34', 'Peak_Billboard_Position': '13', 'Spotify_Popularity': '67', 'Spotify_URI': 'spotify:album:3ekkFrfotMsEAKc5g71GHk', 'Chartmetric_Link': 'https://app.chartmetric.com/album/840620/about', 'Artist_Member_Count': '1', 'Artist_Gender': 'Male', 'Artist_Birth_Year_Sum': '1935', 'Debut_Album_Release_Year': '1956', 'Avg._Age_at_Top_500_Album': '34', 'Years_Between_Debut_and_Top_500_Album': '13', 'Album_ID': '3ekkFrfotMsEAKc5g71GHk', 'Album_ID_Quoted': '\"3ekkFrfotMsEAKc5g71GHk\",', '': ''}\n",
            "{'Sort_Name': 'MC5', 'Clean_Name': 'MC5', 'Album': 'Kick Out the Jams', '2003_Rank_Old': '290', '2003_Rank': '294', '2012_Rank': '294', '2020_Rank': '349', '2020_2003_Differential': '-55', 'Release_Year': '1969', 'Album_Genre': 'Punk/Post-Punk/New Wave/Power Pop', 'Album_Type': 'Live', 'Weeks_on_Billboard': '23', 'Peak_Billboard_Position': '30', 'Spotify_Popularity': '36', 'Spotify_URI': 'spotify:album:0kT4F2mSpvTk3stwiaEStp', 'Chartmetric_Link': 'https://app.chartmetric.com/album/3956999/about', 'Artist_Member_Count': '5', 'Artist_Gender': 'Male', 'Artist_Birth_Year_Sum': '9731', 'Debut_Album_Release_Year': '1969', 'Avg._Age_at_Top_500_Album': '22.8', 'Years_Between_Debut_and_Top_500_Album': '0', 'Album_ID': '0kT4F2mSpvTk3stwiaEStp', 'Album_ID_Quoted': '\"0kT4F2mSpvTk3stwiaEStp\",', '': ''}\n",
            "{'Sort_Name': 'Young, Neil', 'Clean_Name': 'Neil Young', 'Album': 'Everybody Knows This Is Nowhere', '2003_Rank_Old': '206', '2003_Rank': '208', '2012_Rank': '210', '2020_Rank': '407', '2020_2003_Differential': '-199', 'Release_Year': '1969', 'Album_Genre': '', 'Album_Type': 'Studio', 'Weeks_on_Billboard': '98', 'Peak_Billboard_Position': '34', 'Spotify_Popularity': 'Not on Spotify', 'Spotify_URI': 'Not on Spotify', 'Chartmetric_Link': '', 'Artist_Member_Count': '1', 'Artist_Gender': 'Male', 'Artist_Birth_Year_Sum': '1945', 'Debut_Album_Release_Year': '1969', 'Avg._Age_at_Top_500_Album': '24', 'Years_Between_Debut_and_Top_500_Album': '0', 'Album_ID': 'NOS120', 'Album_ID_Quoted': '\"Not on Spotify\",', '': ''}\n",
            "{'Sort_Name': 'Flying Burrito Brothers', 'Clean_Name': 'The Flying Burrito Brothers', 'Album': 'The Gilded Palace of Sin', '2003_Rank_Old': '190', '2003_Rank': '192', '2012_Rank': '192', '2020_Rank': '462', '2020_2003_Differential': '-270', 'Release_Year': '1969', 'Album_Genre': '', 'Album_Type': 'Studio', 'Weeks_on_Billboard': '7', 'Peak_Billboard_Position': '164', 'Spotify_Popularity': '41', 'Spotify_URI': 'spotify:album:6VWKy5o2OcdeWa7yolazjU', 'Chartmetric_Link': 'https://app.chartmetric.com/album/3352008/about', 'Artist_Member_Count': '4', 'Artist_Gender': 'Male', 'Artist_Birth_Year_Sum': '7771', 'Debut_Album_Release_Year': '1969', 'Avg._Age_at_Top_500_Album': '26.25', 'Years_Between_Debut_and_Top_500_Album': '0', 'Album_ID': '6VWKy5o2OcdeWa7yolazjU', 'Album_ID_Quoted': '\"6VWKy5o2OcdeWa7yolazjU\",', '': ''}\n",
            "{'Sort_Name': 'Stooges', 'Clean_Name': 'The Stooges', 'Album': 'The Stooges', '2003_Rank_Old': '183', '2003_Rank': '185', '2012_Rank': '185', '2020_Rank': '488', '2020_2003_Differential': '-303', 'Release_Year': '1969', 'Album_Genre': 'Punk/Post-Punk/New Wave/Power Pop', 'Album_Type': 'Studio', 'Weeks_on_Billboard': '11', 'Peak_Billboard_Position': '106', 'Spotify_Popularity': '50', 'Spotify_URI': 'spotify:album:0Z1Y5L90NjqUD351YUQWdA', 'Chartmetric_Link': 'https://app.chartmetric.com/album/5127413/about', 'Artist_Member_Count': '4', 'Artist_Gender': 'Male', 'Artist_Birth_Year_Sum': '7791', 'Debut_Album_Release_Year': '1969', 'Avg._Age_at_Top_500_Album': '21.25', 'Years_Between_Debut_and_Top_500_Album': '0', 'Album_ID': '0Z1Y5L90NjqUD351YUQWdA', 'Album_ID_Quoted': '\"0Z1Y5L90NjqUD351YUQWdA\",', '': ''}\n",
            "{'Sort_Name': 'Captain Beefheart & His Magic Band', 'Clean_Name': 'Captain Beefheart & His Magic Band', 'Album': 'Trout Mask Replica', '2003_Rank_Old': '59', '2003_Rank': '58', '2012_Rank': '60', '2020_Rank': '', '2020_2003_Differential': '-443', 'Release_Year': '1969', 'Album_Genre': '', 'Album_Type': 'Studio', 'Weeks_on_Billboard': '-', 'Peak_Billboard_Position': '201', 'Spotify_Popularity': 'Not on Spotify', 'Spotify_URI': 'Not on Spotify', 'Chartmetric_Link': '', 'Artist_Member_Count': '6', 'Artist_Gender': 'Male', 'Artist_Birth_Year_Sum': '11682', 'Debut_Album_Release_Year': '1967', 'Avg._Age_at_Top_500_Album': '22', 'Years_Between_Debut_and_Top_500_Album': '2', 'Album_ID': 'NOS124', 'Album_ID_Quoted': '\"Not on Spotify\",', '': ''}\n",
            "{'Sort_Name': 'Lamar, Kendrick', 'Clean_Name': 'Kendrick Lamar', 'Album': 'good kid, m.A.A.d city', '2003_Rank_Old': '', '2003_Rank': '', '2012_Rank': '', '2020_Rank': '115', '2020_2003_Differential': '386', 'Release_Year': '2012', 'Album_Genre': 'Hip-Hop/Rap', 'Album_Type': 'Studio', 'Weeks_on_Billboard': '575', 'Peak_Billboard_Position': '2', 'Spotify_Popularity': '76', 'Spotify_URI': 'spotify:album:6PBZN8cbwkqm1ERj2BGXJ1', 'Chartmetric_Link': 'https://app.chartmetric.com/album/3341408/about', 'Artist_Member_Count': '1', 'Artist_Gender': 'Male', 'Artist_Birth_Year_Sum': '1987', 'Debut_Album_Release_Year': '2011', 'Avg._Age_at_Top_500_Album': '25', 'Years_Between_Debut_and_Top_500_Album': '1', 'Album_ID': '6PBZN8cbwkqm1ERj2BGXJ1', 'Album_ID_Quoted': '\"6PBZN8cbwkqm1ERj2BGXJ1\",', '': ''}\n",
            "{'Sort_Name': 'Creedence Clearwater Revival', 'Clean_Name': 'Creedence Clearwater Revival', 'Album': 'Green River', '2003_Rank_Old': '96', '2003_Rank': '95', '2012_Rank': '', '2020_Rank': '', '2020_2003_Differential': '-406', 'Release_Year': '1969', 'Album_Genre': 'Blues/Blues Rock', 'Album_Type': 'Studio', 'Weeks_on_Billboard': '1', 'Peak_Billboard_Position': '88', 'Spotify_Popularity': '74', 'Spotify_URI': 'spotify:album:0i9mOB6mPGqwVvtJEXiwPG', 'Chartmetric_Link': 'https://app.chartmetric.com/album/3468604/about', 'Artist_Member_Count': '4', 'Artist_Gender': 'Male', 'Artist_Birth_Year_Sum': '7776', 'Debut_Album_Release_Year': '1968', 'Avg._Age_at_Top_500_Album': '25', 'Years_Between_Debut_and_Top_500_Album': '1', 'Album_ID': '0i9mOB6mPGqwVvtJEXiwPG', 'Album_ID_Quoted': '\"0i9mOB6mPGqwVvtJEXiwPG\",', '': ''}\n",
            "{'Sort_Name': 'West, Kanye', 'Clean_Name': 'Kanye West', 'Album': 'Late Registration', '2003_Rank_Old': '', '2003_Rank': '', '2012_Rank': '118', '2020_Rank': '117', '2020_2003_Differential': '384', 'Release_Year': '2005', 'Album_Genre': 'Hip-Hop/Rap', 'Album_Type': 'Studio', 'Weeks_on_Billboard': '37', 'Peak_Billboard_Position': '1', 'Spotify_Popularity': '80', 'Spotify_URI': 'spotify:album:5ll74bqtkcXlKE7wwkMq4g', 'Chartmetric_Link': 'https://app.chartmetric.com/album/3300163/about', 'Artist_Member_Count': '1', 'Artist_Gender': 'Male', 'Artist_Birth_Year_Sum': '1977', 'Debut_Album_Release_Year': '2004', 'Avg._Age_at_Top_500_Album': '28', 'Years_Between_Debut_and_Top_500_Album': '1', 'Album_ID': '5ll74bqtkcXlKE7wwkMq4g', 'Album_ID_Quoted': '\"5ll74bqtkcXlKE7wwkMq4g\",', '': ''}\n",
            "{'Sort_Name': 'Santana', 'Clean_Name': 'Santana', 'Album': 'Santana', '2003_Rank_Old': '149', '2003_Rank': '150', '2012_Rank': '149', '2020_Rank': '', '2020_2003_Differential': '-351', 'Release_Year': '1969', 'Album_Genre': 'Blues/Blues Rock', 'Album_Type': 'Studio', 'Weeks_on_Billboard': '16', 'Peak_Billboard_Position': '4', 'Spotify_Popularity': '43', 'Spotify_URI': 'spotify:album:0hfFLQzo3OwgYFFFvTQYhT', 'Chartmetric_Link': 'https://app.chartmetric.com/album/652325/about', 'Artist_Member_Count': '6', 'Artist_Gender': 'Male', 'Artist_Birth_Year_Sum': '11683', 'Debut_Album_Release_Year': '1969', 'Avg._Age_at_Top_500_Album': '21.83333333', 'Years_Between_Debut_and_Top_500_Album': '0', 'Album_ID': '0hfFLQzo3OwgYFFFvTQYhT', 'Album_ID_Quoted': '\"0hfFLQzo3OwgYFFFvTQYhT\",', '': ''}\n",
            "{'Sort_Name': 'Quicksilver Messenger Service', 'Clean_Name': 'Quicksilver Messenger Service', 'Album': 'Happy Trails', '2003_Rank_Old': '187', '2003_Rank': '189', '2012_Rank': '189', '2020_Rank': '', '2020_2003_Differential': '-312', 'Release_Year': '1969', 'Album_Genre': 'Blues/Blues Rock', 'Album_Type': 'Live', 'Weeks_on_Billboard': '30', 'Peak_Billboard_Position': '27', 'Spotify_Popularity': '37', 'Spotify_URI': 'spotify:album:7d9IZA5hVMlRqkRszYt66r', 'Chartmetric_Link': 'https://app.chartmetric.com/album/3969681/about', 'Artist_Member_Count': '4', 'Artist_Gender': 'Male', 'Artist_Birth_Year_Sum': '7773', 'Debut_Album_Release_Year': '1968', 'Avg._Age_at_Top_500_Album': '25.75', 'Years_Between_Debut_and_Top_500_Album': '1', 'Album_ID': '7d9IZA5hVMlRqkRszYt66r', 'Album_ID_Quoted': '\"7d9IZA5hVMlRqkRszYt66r\",', '': ''}\n",
            "{'Sort_Name': 'Grateful Dead', 'Clean_Name': 'Grateful Dead', 'Album': 'Live/Dead', '2003_Rank_Old': '241', '2003_Rank': '244', '2012_Rank': '247', '2020_Rank': '', '2020_2003_Differential': '-257', 'Release_Year': '1969', 'Album_Genre': 'Blues/Blues Rock', 'Album_Type': 'Live', 'Weeks_on_Billboard': '15', 'Peak_Billboard_Position': '64', 'Spotify_Popularity': '32', 'Spotify_URI': 'spotify:album:6E7JCQINTT4vwRF4wBcsYk', 'Chartmetric_Link': 'https://app.chartmetric.com/album/3972640/about', 'Artist_Member_Count': '7', 'Artist_Gender': 'Male', 'Artist_Birth_Year_Sum': '13607', 'Debut_Album_Release_Year': '1967', 'Avg._Age_at_Top_500_Album': '25.14285714', 'Years_Between_Debut_and_Top_500_Album': '2', 'Album_ID': '6E7JCQINTT4vwRF4wBcsYk', 'Album_ID_Quoted': '\"6E7JCQINTT4vwRF4wBcsYk\",', '': ''}\n",
            "{'Sort_Name': 'Drake, Nick', 'Clean_Name': 'Nick Drake', 'Album': 'Five Leaves Left', '2003_Rank_Old': '280', '2003_Rank': '283', '2012_Rank': '', '2020_Rank': '', '2020_2003_Differential': '-218', 'Release_Year': '1969', 'Album_Genre': '', 'Album_Type': 'Studio', 'Weeks_on_Billboard': '-', 'Peak_Billboard_Position': '201', 'Spotify_Popularity': '59', 'Spotify_URI': 'spotify:album:7IpcJbVxLLEfW0KXB7ndE2', 'Chartmetric_Link': 'https://app.chartmetric.com/album/3918481/about', 'Artist_Member_Count': '1', 'Artist_Gender': 'Male', 'Artist_Birth_Year_Sum': '1948', 'Debut_Album_Release_Year': '1969', 'Avg._Age_at_Top_500_Album': '21', 'Years_Between_Debut_and_Top_500_Album': '0', 'Album_ID': '7IpcJbVxLLEfW0KXB7ndE2', 'Album_ID_Quoted': '\"7IpcJbVxLLEfW0KXB7ndE2\",', '': ''}\n",
            "{'Sort_Name': 'Sly & The Family Stone', 'Clean_Name': 'Sly & The Family Stone', 'Album': 'Stand!', '2003_Rank_Old': '120', '2003_Rank': '118', '2012_Rank': '121', '2020_Rank': '119', '2020_2003_Differential': '-1', 'Release_Year': '1969', 'Album_Genre': 'Soul/Gospel/R&B', 'Album_Type': 'Studio', 'Weeks_on_Billboard': '102', 'Peak_Billboard_Position': '13', 'Spotify_Popularity': '57', 'Spotify_URI': 'spotify:album:7iwS1r6JHYJe9xpPjzmWqD', 'Chartmetric_Link': 'https://app.chartmetric.com/album/362694/about', 'Artist_Member_Count': '10', 'Artist_Gender': 'Male/Female', 'Artist_Birth_Year_Sum': '19466', 'Debut_Album_Release_Year': '1967', 'Avg._Age_at_Top_500_Album': '22.4', 'Years_Between_Debut_and_Top_500_Album': '2', 'Album_ID': '7iwS1r6JHYJe9xpPjzmWqD', 'Album_ID_Quoted': '\"7iwS1r6JHYJe9xpPjzmWqD\",', '': ''}\n",
            "{'Sort_Name': 'Velvet Underground', 'Clean_Name': 'The Velvet Underground', 'Album': 'The Velvet Underground', '2003_Rank_Old': '310', '2003_Rank': '314', '2012_Rank': '316', '2020_Rank': '143', '2020_2003_Differential': '171', 'Release_Year': '1969', 'Album_Genre': 'Punk/Post-Punk/New Wave/Power Pop', 'Album_Type': 'Studio', 'Weeks_on_Billboard': '-', 'Peak_Billboard_Position': '201', 'Spotify_Popularity': '41', 'Spotify_URI': 'spotify:album:2Cdd4W17oumNihEt2aPNJB', 'Chartmetric_Link': 'https://app.chartmetric.com/album/4138551/about', 'Artist_Member_Count': '4', 'Artist_Gender': 'Male/Female', 'Artist_Birth_Year_Sum': '7775', 'Debut_Album_Release_Year': '1967', 'Avg._Age_at_Top_500_Album': '25.25', 'Years_Between_Debut_and_Top_500_Album': '2', 'Album_ID': '2Cdd4W17oumNihEt2aPNJB', 'Album_ID_Quoted': '\"2Cdd4W17oumNihEt2aPNJB\",', '': ''}\n",
            "{'Sort_Name': 'Jefferson Airplane', 'Clean_Name': 'Jefferson Airplane', 'Album': 'Volunteers', '2003_Rank_Old': '366', '2003_Rank': '370', '2012_Rank': '373', '2020_Rank': '', '2020_2003_Differential': '-131', 'Release_Year': '1969', 'Album_Genre': '', 'Album_Type': 'Studio', 'Weeks_on_Billboard': '44', 'Peak_Billboard_Position': '13', 'Spotify_Popularity': '35', 'Spotify_URI': 'spotify:album:5SxBU3zQaLOq5eapsG3jFQ', 'Chartmetric_Link': 'https://app.chartmetric.com/album/343080/about', 'Artist_Member_Count': '6', 'Artist_Gender': 'Male/Female', 'Artist_Birth_Year_Sum': '11644', 'Debut_Album_Release_Year': '1966', 'Avg._Age_at_Top_500_Album': '28.33333333', 'Years_Between_Debut_and_Top_500_Album': '3', 'Album_ID': '5SxBU3zQaLOq5eapsG3jFQ', 'Album_ID_Quoted': '\"5SxBU3zQaLOq5eapsG3jFQ\",', '': ''}\n",
            "{'Sort_Name': 'Lennon, John', 'Clean_Name': 'John Lennon', 'Album': 'Plastic Ono Band', '2003_Rank_Old': '23', '2003_Rank': '22', '2012_Rank': '23', '2020_Rank': '85', '2020_2003_Differential': '-63', 'Release_Year': '1970', 'Album_Genre': '', 'Album_Type': 'Studio', 'Weeks_on_Billboard': '33', 'Peak_Billboard_Position': '6', 'Spotify_Popularity': '59', 'Spotify_URI': 'spotify:album:0DFYbYCcHCEJPcN1hODG6K', 'Chartmetric_Link': 'https://app.chartmetric.com/album/3264926/about', 'Artist_Member_Count': '1', 'Artist_Gender': 'Male', 'Artist_Birth_Year_Sum': '1940', 'Debut_Album_Release_Year': '1968', 'Avg._Age_at_Top_500_Album': '30', 'Years_Between_Debut_and_Top_500_Album': '2', 'Album_ID': '0DFYbYCcHCEJPcN1hODG6K', 'Album_ID_Quoted': '\"0DFYbYCcHCEJPcN1hODG6K\",', '': ''}\n",
            "{'Sort_Name': 'Davis, Miles', 'Clean_Name': 'Miles Davis', 'Album': 'Bitches Brew', '2003_Rank_Old': '95', '2003_Rank': '94', '2012_Rank': '95', '2020_Rank': '87', '2020_2003_Differential': '7', 'Release_Year': '1970', 'Album_Genre': 'Big Band/Jazz', 'Album_Type': 'Studio', 'Weeks_on_Billboard': '29', 'Peak_Billboard_Position': '35', 'Spotify_Popularity': '39', 'Spotify_URI': 'spotify:album:3Q0zkOZEOC855ErOOJ1AdO', 'Chartmetric_Link': 'https://app.chartmetric.com/album/3955157/about', 'Artist_Member_Count': '1', 'Artist_Gender': 'Male', 'Artist_Birth_Year_Sum': '1926', 'Debut_Album_Release_Year': '1951', 'Avg._Age_at_Top_500_Album': '44', 'Years_Between_Debut_and_Top_500_Album': '19', 'Album_ID': '3Q0zkOZEOC855ErOOJ1AdO', 'Album_ID_Quoted': '\"3Q0zkOZEOC855ErOOJ1AdO\",', '': ''}\n",
            "{'Sort_Name': 'Young, Neil', 'Clean_Name': 'Neil Young', 'Album': 'After the Gold Rush', '2003_Rank_Old': '71', '2003_Rank': '71', '2012_Rank': '74', '2020_Rank': '90', '2020_2003_Differential': '-19', 'Release_Year': '1970', 'Album_Genre': '', 'Album_Type': 'Studio', 'Weeks_on_Billboard': '66', 'Peak_Billboard_Position': '8', 'Spotify_Popularity': 'Not on Spotify', 'Spotify_URI': 'Not on Spotify', 'Chartmetric_Link': '', 'Artist_Member_Count': '1', 'Artist_Gender': 'Male', 'Artist_Birth_Year_Sum': '1945', 'Debut_Album_Release_Year': '1969', 'Avg._Age_at_Top_500_Album': '25', 'Years_Between_Debut_and_Top_500_Album': '1', 'Album_ID': 'NOS005', 'Album_ID_Quoted': '\"Not on Spotify\",', '': ''}\n",
            "{'Sort_Name': 'Stooges', 'Clean_Name': 'The Stooges', 'Album': 'Fun House', '2003_Rank_Old': '189', '2003_Rank': '191', '2012_Rank': '191', '2020_Rank': '94', '2020_2003_Differential': '97', 'Release_Year': '1970', 'Album_Genre': 'Punk/Post-Punk/New Wave/Power Pop', 'Album_Type': 'Studio', 'Weeks_on_Billboard': '-', 'Peak_Billboard_Position': '201', 'Spotify_Popularity': '42', 'Spotify_URI': 'spotify:album:5qhXaVIC5BdE4a5Kq1FMZG', 'Chartmetric_Link': 'https://app.chartmetric.com/album/1009351/about', 'Artist_Member_Count': '5', 'Artist_Gender': 'Male', 'Artist_Birth_Year_Sum': '9740', 'Debut_Album_Release_Year': '1969', 'Avg._Age_at_Top_500_Album': '22', 'Years_Between_Debut_and_Top_500_Album': '1', 'Album_ID': '5qhXaVIC5BdE4a5Kq1FMZG', 'Album_ID_Quoted': '\"5qhXaVIC5BdE4a5Kq1FMZG\",', '': ''}\n",
            "{'Sort_Name': 'Morrison, Van', 'Clean_Name': 'Van Morrison', 'Album': 'Moondance', '2003_Rank_Old': '65', '2003_Rank': '65', '2012_Rank': '66', '2020_Rank': '120', '2020_2003_Differential': '-55', 'Release_Year': '1970', 'Album_Genre': '', 'Album_Type': 'Studio', 'Weeks_on_Billboard': '24', 'Peak_Billboard_Position': '29', 'Spotify_Popularity': '65', 'Spotify_URI': 'spotify:album:5PfnCqRbdfIDMb1x3MPQam', 'Chartmetric_Link': 'https://app.chartmetric.com/album/229521/about', 'Artist_Member_Count': '1', 'Artist_Gender': 'Male', 'Artist_Birth_Year_Sum': '1945', 'Debut_Album_Release_Year': '1967', 'Avg._Age_at_Top_500_Album': '25', 'Years_Between_Debut_and_Top_500_Album': '3', 'Album_ID': '5PfnCqRbdfIDMb1x3MPQam', 'Album_ID_Quoted': '\"5PfnCqRbdfIDMb1x3MPQam\",', '': ''}\n",
            "{'Sort_Name': 'Black Sabbath', 'Clean_Name': 'Black Sabbath', 'Album': 'Paranoid', '2003_Rank_Old': '130', '2003_Rank': '130', '2012_Rank': '131', '2020_Rank': '139', '2020_2003_Differential': '-9', 'Release_Year': '1970', 'Album_Genre': 'Hard Rock/Metal', 'Album_Type': 'Studio', 'Weeks_on_Billboard': '65', 'Peak_Billboard_Position': '12', 'Spotify_Popularity': '68', 'Spotify_URI': 'spotify:album:6r7LZXAVueS5DqdrvXJJK7', 'Chartmetric_Link': 'https://app.chartmetric.com/album/1865790/about', 'Artist_Member_Count': '4', 'Artist_Gender': 'Male', 'Artist_Birth_Year_Sum': '7793', 'Debut_Album_Release_Year': '1970', 'Avg._Age_at_Top_500_Album': '21.75', 'Years_Between_Debut_and_Top_500_Album': '0', 'Album_ID': '6r7LZXAVueS5DqdrvXJJK7', 'Album_ID_Quoted': '\"6r7LZXAVueS5DqdrvXJJK7\",', '': ''}\n",
            "{'Sort_Name': 'Simon & Garfunkel', 'Clean_Name': 'Simon & Garfunkel', 'Album': 'Bridge Over Troubled Water', '2003_Rank_Old': '51', '2003_Rank': '51', '2012_Rank': '51', '2020_Rank': '172', '2020_2003_Differential': '-121', 'Release_Year': '1970', 'Album_Genre': 'Country/Folk/Country Rock/Folk Rock', 'Album_Type': 'Studio', 'Weeks_on_Billboard': '85', 'Peak_Billboard_Position': '1', 'Spotify_Popularity': '71', 'Spotify_URI': 'spotify:album:0JwHz5SSvpYWuuCNbtYZoV', 'Chartmetric_Link': 'https://app.chartmetric.com/album/1772056/about', 'Artist_Member_Count': '2', 'Artist_Gender': 'Male', 'Artist_Birth_Year_Sum': '3882', 'Debut_Album_Release_Year': '1964', 'Avg._Age_at_Top_500_Album': '29', 'Years_Between_Debut_and_Top_500_Album': '6', 'Album_ID': '0JwHz5SSvpYWuuCNbtYZoV', 'Album_ID_Quoted': '\"0JwHz5SSvpYWuuCNbtYZoV\",', '': ''}\n",
            "{'Sort_Name': 'Taylor, James', 'Clean_Name': 'James Taylor', 'Album': 'Sweet Baby James', '2003_Rank_Old': '104', '2003_Rank': '103', '2012_Rank': '104', '2020_Rank': '182', '2020_2003_Differential': '-79', 'Release_Year': '1970', 'Album_Genre': '', 'Album_Type': 'Studio', 'Weeks_on_Billboard': '102', 'Peak_Billboard_Position': '3', 'Spotify_Popularity': '65', 'Spotify_URI': 'spotify:album:1HiG0ukRmFPN13EVcf98Jx', 'Chartmetric_Link': 'https://app.chartmetric.com/album/5280008/about', 'Artist_Member_Count': '1', 'Artist_Gender': 'Male', 'Artist_Birth_Year_Sum': '1948', 'Debut_Album_Release_Year': '1968', 'Avg._Age_at_Top_500_Album': '22', 'Years_Between_Debut_and_Top_500_Album': '2', 'Album_ID': '1HiG0ukRmFPN13EVcf98Jx', 'Album_ID_Quoted': '\"1HiG0ukRmFPN13EVcf98Jx\",', '': ''}\n",
            "{'Sort_Name': 'Stevens, Cat', 'Clean_Name': 'Cat Stevens', 'Album': 'Tea for the Tillerman', '2003_Rank_Old': '204', '2003_Rank': '206', '2012_Rank': '208', '2020_Rank': '205', '2020_2003_Differential': '1', 'Release_Year': '1970', 'Album_Genre': 'Country/Folk/Country Rock/Folk Rock', 'Album_Type': 'Studio', 'Weeks_on_Billboard': '79', 'Peak_Billboard_Position': '8', 'Spotify_Popularity': '73', 'Spotify_URI': 'spotify:album:44VxbAytHpVi3Rq8hRhild', 'Chartmetric_Link': 'https://app.chartmetric.com/album/7099770/about', 'Artist_Member_Count': '1', 'Artist_Gender': 'Male', 'Artist_Birth_Year_Sum': '1948', 'Debut_Album_Release_Year': '1967', 'Avg._Age_at_Top_500_Album': '22', 'Years_Between_Debut_and_Top_500_Album': '3', 'Album_ID': '44VxbAytHpVi3Rq8hRhild', 'Album_ID_Quoted': '\"44VxbAytHpVi3Rq8hRhild\",', '': ''}\n",
            "{'Sort_Name': 'Grateful Dead', 'Clean_Name': 'Grateful Dead', 'Album': 'American Beauty', '2003_Rank_Old': '255', '2003_Rank': '258', '2012_Rank': '261', '2020_Rank': '215', '2020_2003_Differential': '43', 'Release_Year': '1970', 'Album_Genre': 'Country/Folk/Country Rock/Folk Rock', 'Album_Type': 'Studio', 'Weeks_on_Billboard': '19', 'Peak_Billboard_Position': '30', 'Spotify_Popularity': '53', 'Spotify_URI': 'spotify:album:7rqgm1BnAZ8I4d6hukpkdg', 'Chartmetric_Link': 'https://app.chartmetric.com/album/3972634/about', 'Artist_Member_Count': '7', 'Artist_Gender': 'Male', 'Artist_Birth_Year_Sum': '13604', 'Debut_Album_Release_Year': '1967', 'Avg._Age_at_Top_500_Album': '26.57142857', 'Years_Between_Debut_and_Top_500_Album': '3', 'Album_ID': '7rqgm1BnAZ8I4d6hukpkdg', 'Album_ID_Quoted': '\"7rqgm1BnAZ8I4d6hukpkdg\",', '': ''}\n",
            "{'Sort_Name': 'Crosby, Stills, Nash & Young', 'Clean_Name': 'Crosby, Stills, Nash & Young', 'Album': 'Deja vu', '2003_Rank_Old': '147', '2003_Rank': '148', '2012_Rank': '147', '2020_Rank': '220', '2020_2003_Differential': '-72', 'Release_Year': '1970', 'Album_Genre': 'Country/Folk/Country Rock/Folk Rock', 'Album_Type': 'Studio', 'Weeks_on_Billboard': '97', 'Peak_Billboard_Position': '1', 'Spotify_Popularity': '64', 'Spotify_URI': 'spotify:album:5bHkK1X4WEOzNvRhehvOcb', 'Chartmetric_Link': 'https://app.chartmetric.com/album/1682679/about', 'Artist_Member_Count': '4', 'Artist_Gender': 'Male', 'Artist_Birth_Year_Sum': '7773', 'Debut_Album_Release_Year': '1969', 'Avg._Age_at_Top_500_Album': '26.75', 'Years_Between_Debut_and_Top_500_Album': '1', 'Album_ID': '5bHkK1X4WEOzNvRhehvOcb', 'Album_ID_Quoted': '\"5bHkK1X4WEOzNvRhehvOcb\",', '': ''}\n",
            "{'Sort_Name': 'Derek and the Dominos', 'Clean_Name': 'Derek and the Dominos', 'Album': 'Layla and Other Assorted Love Songs', '2003_Rank_Old': '117', '2003_Rank': '115', '2012_Rank': '117', '2020_Rank': '226', '2020_2003_Differential': '-111', 'Release_Year': '1970', 'Album_Genre': 'Blues/Blues Rock', 'Album_Type': 'Studio', 'Weeks_on_Billboard': '2', 'Peak_Billboard_Position': '131', 'Spotify_Popularity': '65', 'Spotify_URI': 'spotify:album:5iIWnMgvSM8uEBwXKsPcXM', 'Chartmetric_Link': 'https://app.chartmetric.com/album/3036898/about', 'Artist_Member_Count': '6', 'Artist_Gender': 'Male', 'Artist_Birth_Year_Sum': '11672', 'Debut_Album_Release_Year': '1970', 'Avg._Age_at_Top_500_Album': '24.66666667', 'Years_Between_Debut_and_Top_500_Album': '0', 'Album_ID': '5iIWnMgvSM8uEBwXKsPcXM', 'Album_ID_Quoted': '\"5iIWnMgvSM8uEBwXKsPcXM\",', '': ''}\n",
            "{'Sort_Name': 'Ocean, Frank', 'Clean_Name': 'Frank Ocean', 'Album': 'Channel Orange', '2003_Rank_Old': '', '2003_Rank': '', '2012_Rank': '', '2020_Rank': '148', '2020_2003_Differential': '353', 'Release_Year': '2012', 'Album_Genre': 'Soul/Gospel/R&B', 'Album_Type': 'Studio', 'Weeks_on_Billboard': '150', 'Peak_Billboard_Position': '2', 'Spotify_Popularity': '84', 'Spotify_URI': 'spotify:album:392p3shh2jkxUxY2VHvlH8', 'Chartmetric_Link': 'https://app.chartmetric.com/album/3343090/about', 'Artist_Member_Count': '1', 'Artist_Gender': 'Male', 'Artist_Birth_Year_Sum': '1987', 'Debut_Album_Release_Year': '2012', 'Avg._Age_at_Top_500_Album': '25', 'Years_Between_Debut_and_Top_500_Album': '0', 'Album_ID': '392p3shh2jkxUxY2VHvlH8', 'Album_ID_Quoted': '\"392p3shh2jkxUxY2VHvlH8\",', '': ''}\n",
            "{'Sort_Name': 'Who, The', 'Clean_Name': 'The Who', 'Album': 'Live at Leeds', '2003_Rank_Old': '169', '2003_Rank': '170', '2012_Rank': '170', '2020_Rank': '327', '2020_2003_Differential': '-157', 'Release_Year': '1970', 'Album_Genre': 'Blues/Blues Rock', 'Album_Type': 'Live', 'Weeks_on_Billboard': '44', 'Peak_Billboard_Position': '4', 'Spotify_Popularity': '35', 'Spotify_URI': 'spotify:album:6W3aTLI4B5UsPpWMvhT2W4', 'Chartmetric_Link': 'https://app.chartmetric.com/album/3361774/about', 'Artist_Member_Count': '4', 'Artist_Gender': 'Male', 'Artist_Birth_Year_Sum': '7779', 'Debut_Album_Release_Year': '1965', 'Avg._Age_at_Top_500_Album': '25.25', 'Years_Between_Debut_and_Top_500_Album': '5', 'Album_ID': '6W3aTLI4B5UsPpWMvhT2W4', 'Album_ID_Quoted': '\"6W3aTLI4B5UsPpWMvhT2W4\",', '': ''}\n",
            "{'Sort_Name': 'Santana', 'Clean_Name': 'Santana', 'Album': 'Abraxas', '2003_Rank_Old': '203', '2003_Rank': '205', '2012_Rank': '207', '2020_Rank': '334', '2020_2003_Differential': '-129', 'Release_Year': '1970', 'Album_Genre': 'Blues/Blues Rock', 'Album_Type': 'Studio', 'Weeks_on_Billboard': '88', 'Peak_Billboard_Position': '1', 'Spotify_Popularity': '62', 'Spotify_URI': 'spotify:album:1CHUXwuge9A7L2KiA3vnR6', 'Chartmetric_Link': 'https://app.chartmetric.com/album/742476/about', 'Artist_Member_Count': '6', 'Artist_Gender': 'Male', 'Artist_Birth_Year_Sum': '11683', 'Debut_Album_Release_Year': '1969', 'Avg._Age_at_Top_500_Album': '22.83333333', 'Years_Between_Debut_and_Top_500_Album': '1', 'Album_ID': '1CHUXwuge9A7L2KiA3vnR6', 'Album_ID_Quoted': '\"1CHUXwuge9A7L2KiA3vnR6\",', '': ''}\n",
            "{'Sort_Name': 'Beatles', 'Clean_Name': 'The Beatles', 'Album': 'Let It Be', '2003_Rank_Old': '86', '2003_Rank': '86', '2012_Rank': '392', '2020_Rank': '342', '2020_2003_Differential': '-256', 'Release_Year': '1970', 'Album_Genre': '', 'Album_Type': 'Studio', 'Weeks_on_Billboard': '59', 'Peak_Billboard_Position': '1', 'Spotify_Popularity': '76', 'Spotify_URI': 'spotify:album:0jTGHV5xqHPvEcwL8f6YU5', 'Chartmetric_Link': 'https://app.chartmetric.com/album/3089986/about', 'Artist_Member_Count': '4', 'Artist_Gender': 'Male', 'Artist_Birth_Year_Sum': '7765', 'Debut_Album_Release_Year': '1963', 'Avg._Age_at_Top_500_Album': '28.75', 'Years_Between_Debut_and_Top_500_Album': '7', 'Album_ID': '0jTGHV5xqHPvEcwL8f6YU5', 'Album_ID_Quoted': '\"0jTGHV5xqHPvEcwL8f6YU5\",', '': ''}\n",
            "{'Sort_Name': 'Jay-Z', 'Clean_Name': 'Jay-Z', 'Album': 'The Black Album', '2003_Rank_Old': '', '2003_Rank': '', '2012_Rank': '349', '2020_Rank': '155', '2020_2003_Differential': '346', 'Release_Year': '2003', 'Album_Genre': 'Hip-Hop/Rap', 'Album_Type': 'Studio', 'Weeks_on_Billboard': '58', 'Peak_Billboard_Position': '1', 'Spotify_Popularity': '65', 'Spotify_URI': 'spotify:album:4FWvo9oS4gRgHtAwDwUjiO', 'Chartmetric_Link': 'https://app.chartmetric.com/album/2929339/about', 'Artist_Member_Count': '1', 'Artist_Gender': 'Male', 'Artist_Birth_Year_Sum': '1969', 'Debut_Album_Release_Year': '1996', 'Avg._Age_at_Top_500_Album': '34', 'Years_Between_Debut_and_Top_500_Album': '7', 'Album_ID': '4FWvo9oS4gRgHtAwDwUjiO', 'Album_ID_Quoted': '\"4FWvo9oS4gRgHtAwDwUjiO\",', '': ''}\n",
            "{'Sort_Name': 'Black Sabbath', 'Clean_Name': 'Black Sabbath', 'Album': 'Black Sabbath', '2003_Rank_Old': '238', '2003_Rank': '241', '2012_Rank': '243', '2020_Rank': '355', '2020_2003_Differential': '-114', 'Release_Year': '1970', 'Album_Genre': 'Hard Rock/Metal', 'Album_Type': 'Studio', 'Weeks_on_Billboard': '65', 'Peak_Billboard_Position': '23', 'Spotify_Popularity': '50', 'Spotify_URI': 'spotify:album:4ZLy3U2q17Yjw7jkjXPJQj', 'Chartmetric_Link': 'https://app.chartmetric.com/album/1134466/about', 'Artist_Member_Count': '4', 'Artist_Gender': 'Male', 'Artist_Birth_Year_Sum': '7793', 'Debut_Album_Release_Year': '1970', 'Avg._Age_at_Top_500_Album': '21.75', 'Years_Between_Debut_and_Top_500_Album': '0', 'Album_ID': '4ZLy3U2q17Yjw7jkjXPJQj', 'Album_ID_Quoted': '\"4ZLy3U2q17Yjw7jkjXPJQj\",', '': ''}\n",
            "{'Sort_Name': 'Harrison, George', 'Clean_Name': 'George Harrison', 'Album': 'All Things Must Pass', '2003_Rank_Old': '429', '2003_Rank': '437', '2012_Rank': '433', '2020_Rank': '368', '2020_2003_Differential': '69', 'Release_Year': '1970', 'Album_Genre': 'Singer-Songwriter/Heartland Rock', 'Album_Type': 'Studio', 'Weeks_on_Billboard': '41', 'Peak_Billboard_Position': '1', 'Spotify_Popularity': '63', 'Spotify_URI': 'spotify:album:7j7lsExGJtBHLgDYzjclwk', 'Chartmetric_Link': 'https://app.chartmetric.com/album/3176485/about', 'Artist_Member_Count': '1', 'Artist_Gender': 'Male', 'Artist_Birth_Year_Sum': '1943', 'Debut_Album_Release_Year': '1968', 'Avg._Age_at_Top_500_Album': '27', 'Years_Between_Debut_and_Top_500_Album': '2', 'Album_ID': '7j7lsExGJtBHLgDYzjclwk', 'Album_ID_Quoted': '\"7j7lsExGJtBHLgDYzjclwk\",', '': ''}\n",
            "{'Sort_Name': 'Grateful Dead', 'Clean_Name': 'Grateful Dead', 'Album': \"Workingman's Dead\", '2003_Rank_Old': '259', '2003_Rank': '262', '2012_Rank': '264', '2020_Rank': '409', '2020_2003_Differential': '-147', 'Release_Year': '1970', 'Album_Genre': 'Blues/Blues Rock', 'Album_Type': 'Studio', 'Weeks_on_Billboard': '26', 'Peak_Billboard_Position': '27', 'Spotify_Popularity': '55', 'Spotify_URI': 'spotify:album:4jxokHekH1qSad1DcC82ku', 'Chartmetric_Link': 'https://app.chartmetric.com/album/433345/about', 'Artist_Member_Count': '7', 'Artist_Gender': 'Male', 'Artist_Birth_Year_Sum': '13607', 'Debut_Album_Release_Year': '1967', 'Avg._Age_at_Top_500_Album': '26.14285714', 'Years_Between_Debut_and_Top_500_Album': '3', 'Album_ID': '4jxokHekH1qSad1DcC82ku', 'Album_ID_Quoted': '\"4jxokHekH1qSad1DcC82ku\",', '': ''}\n",
            "{'Sort_Name': 'Creedence Clearwater Revival', 'Clean_Name': 'Creedence Clearwater Revival', 'Album': \"Cosmo's Factory\", '2003_Rank_Old': '262', '2003_Rank': '265', '2012_Rank': '', '2020_Rank': '413', '2020_2003_Differential': '-148', 'Release_Year': '1970', 'Album_Genre': 'Blues/Blues Rock', 'Album_Type': 'Studio', 'Weeks_on_Billboard': '1', 'Peak_Billboard_Position': '69', 'Spotify_Popularity': '74', 'Spotify_URI': 'spotify:album:5w2X5ZmdE4u0XGkOU7BiLG', 'Chartmetric_Link': 'https://app.chartmetric.com/album/22030530/about', 'Artist_Member_Count': '4', 'Artist_Gender': 'Male', 'Artist_Birth_Year_Sum': '7776', 'Debut_Album_Release_Year': '1968', 'Avg._Age_at_Top_500_Album': '26', 'Years_Between_Debut_and_Top_500_Album': '2', 'Album_ID': '5w2X5ZmdE4u0XGkOU7BiLG', 'Album_ID_Quoted': '\"5w2X5ZmdE4u0XGkOU7BiLG\",', '': ''}\n",
            "{'Sort_Name': 'Meters', 'Clean_Name': 'The Meters', 'Album': 'Look-Ka Py Py', '2003_Rank_Old': '216', '2003_Rank': '218', '2012_Rank': '220', '2020_Rank': '415', '2020_2003_Differential': '-197', 'Release_Year': '1970', 'Album_Genre': 'Funk/Disco', 'Album_Type': 'Studio', 'Weeks_on_Billboard': '2', 'Peak_Billboard_Position': '198', 'Spotify_Popularity': '36', 'Spotify_URI': 'spotify:album:6mGpQtwteyjKS4Up9tXuND', 'Chartmetric_Link': 'https://app.chartmetric.com/album/3974282/about', 'Artist_Member_Count': '4', 'Artist_Gender': 'Male', 'Artist_Birth_Year_Sum': '7778', 'Debut_Album_Release_Year': '1969', 'Avg._Age_at_Top_500_Album': '25.5', 'Years_Between_Debut_and_Top_500_Album': '1', 'Album_ID': '6mGpQtwteyjKS4Up9tXuND', 'Album_ID_Quoted': '\"6mGpQtwteyjKS4Up9tXuND\",', '': ''}\n",
            "{'Sort_Name': 'Newman, Randy', 'Clean_Name': 'Randy Newman', 'Album': '12 Songs', '2003_Rank_Old': '350', '2003_Rank': '354', '2012_Rank': '356', '2020_Rank': '', '2020_2003_Differential': '-147', 'Release_Year': '1970', 'Album_Genre': '', 'Album_Type': 'Studio', 'Weeks_on_Billboard': '16', 'Peak_Billboard_Position': '4', 'Spotify_Popularity': '25', 'Spotify_URI': 'spotify:album:3HhJGNadZnFCkAYrPgSuVR', 'Chartmetric_Link': 'https://app.chartmetric.com/album/3967282/about', 'Artist_Member_Count': '1', 'Artist_Gender': 'Male', 'Artist_Birth_Year_Sum': '1943', 'Debut_Album_Release_Year': '1968', 'Avg._Age_at_Top_500_Album': '27', 'Years_Between_Debut_and_Top_500_Album': '2', 'Album_ID': '3HhJGNadZnFCkAYrPgSuVR', 'Album_ID_Quoted': '\"3HhJGNadZnFCkAYrPgSuVR\",', '': ''}\n",
            "{'Sort_Name': 'Beach Boys', 'Clean_Name': 'The Beach Boys', 'Album': 'Sunflower', '2003_Rank_Old': '376', '2003_Rank': '380', '2012_Rank': '', '2020_Rank': '', '2020_2003_Differential': '-121', 'Release_Year': '1970', 'Album_Genre': '', 'Album_Type': 'Studio', 'Weeks_on_Billboard': '4', 'Peak_Billboard_Position': '151', 'Spotify_Popularity': '47', 'Spotify_URI': 'spotify:album:6oUeivCrkGIQwM9uSy0N1P', 'Chartmetric_Link': 'https://app.chartmetric.com/album/3210803/about', 'Artist_Member_Count': '6', 'Artist_Gender': 'Male', 'Artist_Birth_Year_Sum': '11657', 'Debut_Album_Release_Year': '1962', 'Avg._Age_at_Top_500_Album': '27.16666667', 'Years_Between_Debut_and_Top_500_Album': '8', 'Album_ID': '6oUeivCrkGIQwM9uSy0N1P', 'Album_ID_Quoted': '\"6oUeivCrkGIQwM9uSy0N1P\",', '': ''}\n",
            "{'Sort_Name': 'MC5', 'Clean_Name': 'MC5', 'Album': 'Back in the USA', '2003_Rank_Old': '443', '2003_Rank': '451', '2012_Rank': '446', '2020_Rank': '', '2020_2003_Differential': '-50', 'Release_Year': '1970', 'Album_Genre': 'Punk/Post-Punk/New Wave/Power Pop', 'Album_Type': 'Studio', 'Weeks_on_Billboard': '7', 'Peak_Billboard_Position': '137', 'Spotify_Popularity': '37', 'Spotify_URI': 'spotify:album:67NkpPGMcxoIiumOW3oRpL', 'Chartmetric_Link': 'https://app.chartmetric.com/album/3973066/about', 'Artist_Member_Count': '5', 'Artist_Gender': 'Male', 'Artist_Birth_Year_Sum': '9731', 'Debut_Album_Release_Year': '1969', 'Avg._Age_at_Top_500_Album': '23.8', 'Years_Between_Debut_and_Top_500_Album': '1', 'Album_ID': '67NkpPGMcxoIiumOW3oRpL', 'Album_ID_Quoted': '\"67NkpPGMcxoIiumOW3oRpL\",', '': ''}\n",
            "{'Sort_Name': 'John, Elton', 'Clean_Name': 'Elton John', 'Album': 'Tumbleweed Connection', '2003_Rank_Old': '455', '2003_Rank': '463', '2012_Rank': '458', '2020_Rank': '', '2020_2003_Differential': '-38', 'Release_Year': '1970', 'Album_Genre': 'Singer-Songwriter/Heartland Rock', 'Album_Type': 'Studio', 'Weeks_on_Billboard': '37', 'Peak_Billboard_Position': '5', 'Spotify_Popularity': '46', 'Spotify_URI': 'spotify:album:03zfU3IwWmymKoaWnwFNaY', 'Chartmetric_Link': 'https://app.chartmetric.com/album/3331478/about', 'Artist_Member_Count': '1', 'Artist_Gender': 'Male', 'Artist_Birth_Year_Sum': '1947', 'Debut_Album_Release_Year': '1969', 'Avg._Age_at_Top_500_Album': '23', 'Years_Between_Debut_and_Top_500_Album': '1', 'Album_ID': '03zfU3IwWmymKoaWnwFNaY', 'Album_ID_Quoted': '\"03zfU3IwWmymKoaWnwFNaY\",', '': ''}\n",
            "{'Sort_Name': 'John, Elton', 'Clean_Name': 'Elton John', 'Album': 'Elton John', '2003_Rank_Old': '460', '2003_Rank': '468', '2012_Rank': '', '2020_Rank': '', '2020_2003_Differential': '-33', 'Release_Year': '1970', 'Album_Genre': 'Singer-Songwriter/Heartland Rock', 'Album_Type': 'Studio', 'Weeks_on_Billboard': '51', 'Peak_Billboard_Position': '4', 'Spotify_Popularity': '52', 'Spotify_URI': 'spotify:album:0C2grVR8DnJnL8rg7OP6Zm', 'Chartmetric_Link': 'https://app.chartmetric.com/album/3288861/about', 'Artist_Member_Count': '1', 'Artist_Gender': 'Male', 'Artist_Birth_Year_Sum': '1947', 'Debut_Album_Release_Year': '1969', 'Avg._Age_at_Top_500_Album': '23', 'Years_Between_Debut_and_Top_500_Album': '1', 'Album_ID': '0C2grVR8DnJnL8rg7OP6Zm', 'Album_ID_Quoted': '\"0C2grVR8DnJnL8rg7OP6Zm\",', '': ''}\n",
            "{'Sort_Name': 'Johnson, Robert', 'Clean_Name': 'Robert Johnson', 'Album': 'King of the Delta Blues Singers, vol 2', '2003_Rank_Old': '', '2003_Rank': '424', '2012_Rank': '', '2020_Rank': '', '2020_2003_Differential': '-77', 'Release_Year': '1970', 'Album_Genre': '', 'Album_Type': 'Compilation', 'Weeks_on_Billboard': '-', 'Peak_Billboard_Position': '201', 'Spotify_Popularity': '49', 'Spotify_URI': 'spotify:album:65Qaqh5BI4sTDSfzDT9rDJ', 'Chartmetric_Link': 'https://app.chartmetric.com/album/813134/about', 'Artist_Member_Count': '1', 'Artist_Gender': 'Male', 'Artist_Birth_Year_Sum': '1911', 'Debut_Album_Release_Year': '1937', 'Avg._Age_at_Top_500_Album': '59', 'Years_Between_Debut_and_Top_500_Album': '33', 'Album_ID': '65Qaqh5BI4sTDSfzDT9rDJ', 'Album_ID_Quoted': '\"65Qaqh5BI4sTDSfzDT9rDJ\",', '': ''}\n",
            "{'Sort_Name': 'Velvet Underground', 'Clean_Name': 'The Velvet Underground', 'Album': 'Loaded', '2003_Rank_Old': '110', '2003_Rank': '109', '2012_Rank': '110', '2020_Rank': '242', '2020_2003_Differential': '-133', 'Release_Year': '1970', 'Album_Genre': 'Punk/Post-Punk/New Wave/Power Pop', 'Album_Type': 'Studio', 'Weeks_on_Billboard': '-', 'Peak_Billboard_Position': '201', 'Spotify_Popularity': '50', 'Spotify_URI': 'spotify:album:4RMGrhJRnGiNqmKqhqpLlX', 'Chartmetric_Link': 'https://app.chartmetric.com/album/684092/about', 'Artist_Member_Count': '4', 'Artist_Gender': 'Male/Female', 'Artist_Birth_Year_Sum': '7775', 'Debut_Album_Release_Year': '1967', 'Avg._Age_at_Top_500_Album': '26.25', 'Years_Between_Debut_and_Top_500_Album': '3', 'Album_ID': '4RMGrhJRnGiNqmKqhqpLlX', 'Album_ID_Quoted': '\"4RMGrhJRnGiNqmKqhqpLlX\",', '': ''}\n",
            "{'Sort_Name': 'Sly & The Family Stone', 'Clean_Name': 'Sly & The Family Stone', 'Album': 'Greatest Hits', '2003_Rank_Old': '60', '2003_Rank': '60', '2012_Rank': '61', '2020_Rank': '343', '2020_2003_Differential': '-283', 'Release_Year': '1970', 'Album_Genre': 'Funk/Disco', 'Album_Type': 'Greatest Hits', 'Weeks_on_Billboard': '79', 'Peak_Billboard_Position': '2', 'Spotify_Popularity': '51', 'Spotify_URI': 'spotify:album:0UM9SydcBtsklCTFgGLvcT', 'Chartmetric_Link': 'https://app.chartmetric.com/album/1459479/about', 'Artist_Member_Count': '10', 'Artist_Gender': 'Male/Female', 'Artist_Birth_Year_Sum': '19466', 'Debut_Album_Release_Year': '1967', 'Avg._Age_at_Top_500_Album': '23.4', 'Years_Between_Debut_and_Top_500_Album': '3', 'Album_ID': '0UM9SydcBtsklCTFgGLvcT', 'Album_ID_Quoted': '\"0UM9SydcBtsklCTFgGLvcT\",', '': ''}\n",
            "{'Sort_Name': 'Carpenters', 'Clean_Name': 'The Carpenters', 'Album': 'Close to You', '2003_Rank_Old': '174', '2003_Rank': '175', '2012_Rank': '175', '2020_Rank': '', '2020_2003_Differential': '-326', 'Release_Year': '1970', 'Album_Genre': '', 'Album_Type': 'Studio', 'Weeks_on_Billboard': '87', 'Peak_Billboard_Position': '2', 'Spotify_Popularity': '54', 'Spotify_URI': 'spotify:album:1CsuCA05y9r7ftG9bGGtWV', 'Chartmetric_Link': 'https://app.chartmetric.com/album/3375766/about', 'Artist_Member_Count': '2', 'Artist_Gender': 'Male/Female', 'Artist_Birth_Year_Sum': '3896', 'Debut_Album_Release_Year': '1969', 'Avg._Age_at_Top_500_Album': '22', 'Years_Between_Debut_and_Top_500_Album': '1', 'Album_ID': '1CsuCA05y9r7ftG9bGGtWV', 'Album_ID_Quoted': '\"1CsuCA05y9r7ftG9bGGtWV\",', '': ''}\n",
            "{'Sort_Name': 'Mitchell, Joni', 'Clean_Name': 'Joni Mitchell', 'Album': 'Blue', '2003_Rank_Old': '30', '2003_Rank': '30', '2012_Rank': '30', '2020_Rank': '3', '2020_2003_Differential': '27', 'Release_Year': '1971', 'Album_Genre': 'Country/Folk/Country Rock/Folk Rock', 'Album_Type': 'Studio', 'Weeks_on_Billboard': '28', 'Peak_Billboard_Position': '15', 'Spotify_Popularity': 'Not on Spotify', 'Spotify_URI': 'Not on Spotify', 'Chartmetric_Link': '', 'Artist_Member_Count': '1', 'Artist_Gender': 'Female', 'Artist_Birth_Year_Sum': '1943', 'Debut_Album_Release_Year': '1968', 'Avg._Age_at_Top_500_Album': '28', 'Years_Between_Debut_and_Top_500_Album': '3', 'Album_ID': 'NOS001', 'Album_ID_Quoted': '\"Not on Spotify\",', '': ''}\n",
            "{'Sort_Name': 'King, Carole', 'Clean_Name': 'Carole King', 'Album': 'Tapestry', '2003_Rank_Old': '36', '2003_Rank': '36', '2012_Rank': '36', '2020_Rank': '25', '2020_2003_Differential': '11', 'Release_Year': '1971', 'Album_Genre': 'Singer-Songwriter/Heartland Rock', 'Album_Type': 'Studio', 'Weeks_on_Billboard': '302', 'Peak_Billboard_Position': '1', 'Spotify_Popularity': '68', 'Spotify_URI': 'spotify:album:12n11cgnpjXKLeqrnIERoS', 'Chartmetric_Link': 'https://app.chartmetric.com/album/2013644/about', 'Artist_Member_Count': '1', 'Artist_Gender': 'Female', 'Artist_Birth_Year_Sum': '1942', 'Debut_Album_Release_Year': '1970', 'Avg._Age_at_Top_500_Album': '29', 'Years_Between_Debut_and_Top_500_Album': '1', 'Album_ID': '12n11cgnpjXKLeqrnIERoS', 'Album_ID_Quoted': '\"12n11cgnpjXKLeqrnIERoS\",', '': ''}\n",
            "{'Sort_Name': 'Lamar, Kendrick', 'Clean_Name': 'Kendrick Lamar', 'Album': 'DAMN', '2003_Rank_Old': '', '2003_Rank': '', '2012_Rank': '', '2020_Rank': '175', '2020_2003_Differential': '326', 'Release_Year': '2017', 'Album_Genre': 'Hip-Hop/Rap', 'Album_Type': 'Studio', 'Weeks_on_Billboard': '342', 'Peak_Billboard_Position': '1', 'Spotify_Popularity': '85', 'Spotify_URI': 'spotify:album:4eLPsYPBmXABThSJ821sqY', 'Chartmetric_Link': 'https://app.chartmetric.com/album/270790/about', 'Artist_Member_Count': '1', 'Artist_Gender': 'Male', 'Artist_Birth_Year_Sum': '1987', 'Debut_Album_Release_Year': '2011', 'Avg._Age_at_Top_500_Album': '30', 'Years_Between_Debut_and_Top_500_Album': '6', 'Album_ID': '4eLPsYPBmXABThSJ821sqY', 'Album_ID_Quoted': '\"4eLPsYPBmXABThSJ821sqY\",', '': ''}\n",
            "{'Sort_Name': 'Parton, Dolly', 'Clean_Name': 'Dolly Parton', 'Album': 'Coat of Many Colors', '2003_Rank_Old': '295', '2003_Rank': '299', '2012_Rank': '301', '2020_Rank': '257', '2020_2003_Differential': '42', 'Release_Year': '1971', 'Album_Genre': 'Country/Folk/Country Rock/Folk Rock', 'Album_Type': 'Studio', 'Weeks_on_Billboard': '-', 'Peak_Billboard_Position': '201', 'Spotify_Popularity': '50', 'Spotify_URI': 'spotify:album:17CT6ru3CyDXAi6xVaSUzg', 'Chartmetric_Link': 'https://app.chartmetric.com/album/1440154/about', 'Artist_Member_Count': '1', 'Artist_Gender': 'Female', 'Artist_Birth_Year_Sum': '1946', 'Debut_Album_Release_Year': '1967', 'Avg._Age_at_Top_500_Album': '25', 'Years_Between_Debut_and_Top_500_Album': '4', 'Album_ID': '17CT6ru3CyDXAi6xVaSUzg', 'Album_ID_Quoted': '\"17CT6ru3CyDXAi6xVaSUzg\",', '': ''}\n",
            "{'Sort_Name': 'Janis Joplin', 'Clean_Name': 'Janis Joplin', 'Album': 'Pearl', '2003_Rank_Old': '124', '2003_Rank': '122', '2012_Rank': '125', '2020_Rank': '259', '2020_2003_Differential': '-137', 'Release_Year': '1971', 'Album_Genre': 'Blues/Blues ROck', 'Album_Type': 'Studio', 'Weeks_on_Billboard': '42', 'Peak_Billboard_Position': '1', 'Spotify_Popularity': '27', 'Spotify_URI': 'spotify:album:6JltsW8Goc3cZQ0GOtTX2z', 'Chartmetric_Link': 'https://app.chartmetric.com/album/2395543/about', 'Artist_Member_Count': '1', 'Artist_Gender': 'Female', 'Artist_Birth_Year_Sum': '1943', 'Debut_Album_Release_Year': '1969', 'Avg._Age_at_Top_500_Album': '28', 'Years_Between_Debut_and_Top_500_Album': '2', 'Album_ID': '6JltsW8Goc3cZQ0GOtTX2z', 'Album_ID_Quoted': '\"6JltsW8Goc3cZQ0GOtTX2z\",', '': ''}\n",
            "{'Sort_Name': 'Gaye, Marvin', 'Clean_Name': 'Marvin Gaye', 'Album': \"What's Going On\", '2003_Rank_Old': '6', '2003_Rank': '6', '2012_Rank': '6', '2020_Rank': '1', '2020_2003_Differential': '5', 'Release_Year': '1971', 'Album_Genre': 'Soul/Gospel/R&B', 'Album_Type': 'Studio', 'Weeks_on_Billboard': '48', 'Peak_Billboard_Position': '6', 'Spotify_Popularity': '68', 'Spotify_URI': 'spotify:album:2v6ANhWhZBUKkg6pJJBs3B', 'Chartmetric_Link': 'https://app.chartmetric.com/album/7000844/about', 'Artist_Member_Count': '1', 'Artist_Gender': 'Male', 'Artist_Birth_Year_Sum': '1939', 'Debut_Album_Release_Year': '1961', 'Avg._Age_at_Top_500_Album': '32', 'Years_Between_Debut_and_Top_500_Album': '10', 'Album_ID': '2v6ANhWhZBUKkg6pJJBs3B', 'Album_ID_Quoted': '\"2v6ANhWhZBUKkg6pJJBs3B\",', '': ''}\n",
            "{'Sort_Name': 'Led Zeppelin', 'Clean_Name': 'Led Zeppelin', 'Album': 'Led Zeppelin IV', '2003_Rank_Old': '66', '2003_Rank': '66', '2012_Rank': '69', '2020_Rank': '58', '2020_2003_Differential': '8', 'Release_Year': '1971', 'Album_Genre': 'Hard Rock/Metal', 'Album_Type': 'Studio', 'Weeks_on_Billboard': '218', 'Peak_Billboard_Position': '2', 'Spotify_Popularity': '58', 'Spotify_URI': 'spotify:album:5EyIDBAqhnlkAHqvPRwdbX', 'Chartmetric_Link': 'https://app.chartmetric.com/album/170707/about', 'Artist_Member_Count': '4', 'Artist_Gender': 'Male', 'Artist_Birth_Year_Sum': '7786', 'Debut_Album_Release_Year': '1969', 'Avg._Age_at_Top_500_Album': '24.5', 'Years_Between_Debut_and_Top_500_Album': '2', 'Album_ID': '5EyIDBAqhnlkAHqvPRwdbX', 'Album_ID_Quoted': '\"5EyIDBAqhnlkAHqvPRwdbX\",', '': ''}\n",
            "{'Sort_Name': 'Who, The', 'Clean_Name': 'The Who', 'Album': \"Who's Next\", '2003_Rank_Old': '28', '2003_Rank': '28', '2012_Rank': '28', '2020_Rank': '77', '2020_2003_Differential': '-49', 'Release_Year': '1971', 'Album_Genre': '', 'Album_Type': 'Studio', 'Weeks_on_Billboard': '43', 'Peak_Billboard_Position': '4', 'Spotify_Popularity': '29', 'Spotify_URI': 'spotify:album:5mQnSrc0cFV6greyhJJIR6', 'Chartmetric_Link': 'https://app.chartmetric.com/album/30997513/about', 'Artist_Member_Count': '4', 'Artist_Gender': 'Male', 'Artist_Birth_Year_Sum': '7779', 'Debut_Album_Release_Year': '1965', 'Avg._Age_at_Top_500_Album': '26.25', 'Years_Between_Debut_and_Top_500_Album': '6', 'Album_ID': '5mQnSrc0cFV6greyhJJIR6', 'Album_ID_Quoted': '\"5mQnSrc0cFV6greyhJJIR6\",', '': ''}\n",
            "{'Sort_Name': 'Bowie, David', 'Clean_Name': 'David Bowie', 'Album': 'Hunky Dory', '2003_Rank_Old': '108', '2003_Rank': '107', '2012_Rank': '108', '2020_Rank': '88', '2020_2003_Differential': '19', 'Release_Year': '1971', 'Album_Genre': '', 'Album_Type': 'Studio', 'Weeks_on_Billboard': '16', 'Peak_Billboard_Position': '93', 'Spotify_Popularity': '66', 'Spotify_URI': 'spotify:album:6fQElzBNTiEMGdIeY0hy5l', 'Chartmetric_Link': 'https://app.chartmetric.com/album/476476/about', 'Artist_Member_Count': '1', 'Artist_Gender': 'Male', 'Artist_Birth_Year_Sum': '1947', 'Debut_Album_Release_Year': '1967', 'Avg._Age_at_Top_500_Album': '24', 'Years_Between_Debut_and_Top_500_Album': '4', 'Album_ID': '6fQElzBNTiEMGdIeY0hy5l', 'Album_ID_Quoted': '\"6fQElzBNTiEMGdIeY0hy5l\",', '': ''}\n",
            "{'Sort_Name': 'Rolling Stones', 'Clean_Name': 'Rolling Stones', 'Album': 'Sticky Fingers', '2003_Rank_Old': '63', '2003_Rank': '63', '2012_Rank': '64', '2020_Rank': '104', '2020_2003_Differential': '-41', 'Release_Year': '1971', 'Album_Genre': 'Blues/Blues Rock', 'Album_Type': 'Studio', 'Weeks_on_Billboard': '62', 'Peak_Billboard_Position': '1', 'Spotify_Popularity': '70', 'Spotify_URI': 'spotify:album:29m6DinzdaD0OPqWKGyMdz', 'Chartmetric_Link': 'https://app.chartmetric.com/album/3265256/about', 'Artist_Member_Count': '5', 'Artist_Gender': 'Male', 'Artist_Birth_Year_Sum': '9712', 'Debut_Album_Release_Year': '1964', 'Avg._Age_at_Top_500_Album': '28.6', 'Years_Between_Debut_and_Top_500_Album': '7', 'Album_ID': '29m6DinzdaD0OPqWKGyMdz', 'Album_ID_Quoted': '\"29m6DinzdaD0OPqWKGyMdz\",', '': ''}\n",
            "{'Sort_Name': \"D'Angelo\", 'Clean_Name': \"D'Angelo\", 'Album': 'Brown Sugar', '2003_Rank_Old': '', '2003_Rank': '', '2012_Rank': '', '2020_Rank': '183', '2020_2003_Differential': '318', 'Release_Year': '1995', 'Album_Genre': 'Soul/Gospel/R&B', 'Album_Type': 'Studio', 'Weeks_on_Billboard': '65', 'Peak_Billboard_Position': '22', 'Spotify_Popularity': '59', 'Spotify_URI': 'spotify:album:4HTVABUq8amDUxBv3zJbX4', 'Chartmetric_Link': 'https://app.chartmetric.com/album/2999094/about', 'Artist_Member_Count': '1', 'Artist_Gender': 'Male', 'Artist_Birth_Year_Sum': '1974', 'Debut_Album_Release_Year': '1995', 'Avg._Age_at_Top_500_Album': '21', 'Years_Between_Debut_and_Top_500_Album': '0', 'Album_ID': '4HTVABUq8amDUxBv3zJbX4', 'Album_ID_Quoted': '\"4HTVABUq8amDUxBv3zJbX4\",', '': ''}\n",
            "{'Sort_Name': 'Allman Brothers Band', 'Clean_Name': 'The Allman Brothers Band', 'Album': 'At Fillmore East', '2003_Rank_Old': '49', '2003_Rank': '49', '2012_Rank': '49', '2020_Rank': '105', '2020_2003_Differential': '-56', 'Release_Year': '1971', 'Album_Genre': 'Blues/Blues Rock', 'Album_Type': 'Live', 'Weeks_on_Billboard': '47', 'Peak_Billboard_Position': '13', 'Spotify_Popularity': '46', 'Spotify_URI': 'spotify:album:0Y5Wlv2OJKaW0uDJ5HnUfy', 'Chartmetric_Link': 'https://app.chartmetric.com/album/3048115/about', 'Artist_Member_Count': '6', 'Artist_Gender': 'Male', 'Artist_Birth_Year_Sum': '11675', 'Debut_Album_Release_Year': '1969', 'Avg._Age_at_Top_500_Album': '25.16666667', 'Years_Between_Debut_and_Top_500_Album': '2', 'Album_ID': '0Y5Wlv2OJKaW0uDJ5HnUfy', 'Album_ID_Quoted': '\"0Y5Wlv2OJKaW0uDJ5HnUfy\",', '': ''}\n",
            "{'Sort_Name': 'Funkadelic', 'Clean_Name': 'Funkadelic', 'Album': 'Maggot Brain', '2003_Rank_Old': '478', '2003_Rank': '486', '2012_Rank': '479', '2020_Rank': '136', '2020_2003_Differential': '350', 'Release_Year': '1971', 'Album_Genre': 'Funk/Disco', 'Album_Type': 'Studio', 'Weeks_on_Billboard': '16', 'Peak_Billboard_Position': '108', 'Spotify_Popularity': '57', 'Spotify_URI': 'spotify:album:3ywVzrwMQ3Kq43N9zBdBQm', 'Chartmetric_Link': 'https://app.chartmetric.com/album/17086816/about', 'Artist_Member_Count': '10', 'Artist_Gender': 'Male', 'Artist_Birth_Year_Sum': '19447', 'Debut_Album_Release_Year': '1970', 'Avg._Age_at_Top_500_Album': '26.3', 'Years_Between_Debut_and_Top_500_Album': '1', 'Album_ID': '3ywVzrwMQ3Kq43N9zBdBQm', 'Album_ID_Quoted': '\"3ywVzrwMQ3Kq43N9zBdBQm\",', '': ''}\n",
            "{'Sort_Name': 'Ice Cube', 'Clean_Name': 'Ice Cube', 'Album': \"AmeriKKKa's Most Wanted\", '2003_Rank_Old': '', '2003_Rank': '', '2012_Rank': '', '2020_Rank': '187', '2020_2003_Differential': '314', 'Release_Year': '1990', 'Album_Genre': 'Hip-Hop/Rap', 'Album_Type': 'Studio', 'Weeks_on_Billboard': '26', 'Peak_Billboard_Position': '19', 'Spotify_Popularity': '53', 'Spotify_URI': 'spotify:album:3AI5kAUjgNtZBwFRi6opDc', 'Chartmetric_Link': 'https://app.chartmetric.com/album/3030995/about', 'Artist_Member_Count': '1', 'Artist_Gender': 'Male', 'Artist_Birth_Year_Sum': '1969', 'Debut_Album_Release_Year': '1990', 'Avg._Age_at_Top_500_Album': '21', 'Years_Between_Debut_and_Top_500_Album': '0', 'Album_ID': '3AI5kAUjgNtZBwFRi6opDc', 'Album_ID_Quoted': '\"3AI5kAUjgNtZBwFRi6opDc\",', '': ''}\n",
            "{'Sort_Name': 'Prine, John', 'Clean_Name': 'John Prince', 'Album': 'John Prine', '2003_Rank_Old': '450', '2003_Rank': '458', '2012_Rank': '452', '2020_Rank': '149', '2020_2003_Differential': '309', 'Release_Year': '1971', 'Album_Genre': 'Country/Folk/Country Rock/Folk Rock', 'Album_Type': 'Studio', 'Weeks_on_Billboard': '3', 'Peak_Billboard_Position': '154', 'Spotify_Popularity': '54', 'Spotify_URI': 'spotify:album:5t4FHrIAHI8nolSAOBRgPp', 'Chartmetric_Link': 'https://app.chartmetric.com/album/3959047/about', 'Artist_Member_Count': '1', 'Artist_Gender': 'Male', 'Artist_Birth_Year_Sum': '1946', 'Debut_Album_Release_Year': '1971', 'Avg._Age_at_Top_500_Album': '25', 'Years_Between_Debut_and_Top_500_Album': '0', 'Album_ID': '5t4FHrIAHI8nolSAOBRgPp', 'Album_ID_Quoted': '\"5t4FHrIAHI8nolSAOBRgPp\",', '': ''}\n",
            "{'Sort_Name': 'Stewart, Rod', 'Clean_Name': 'Rod Stewart', 'Album': 'Every Picture Tells a Story', '2003_Rank_Old': '171', '2003_Rank': '172', '2012_Rank': '172', '2020_Rank': '177', '2020_2003_Differential': '-5', 'Release_Year': '1971', 'Album_Genre': '', 'Album_Type': 'Studio', 'Weeks_on_Billboard': '52', 'Peak_Billboard_Position': '1', 'Spotify_Popularity': '62', 'Spotify_URI': 'spotify:album:4VykjLwkyfKMZVLrJJVrYh', 'Chartmetric_Link': 'https://app.chartmetric.com/album/4137456/about', 'Artist_Member_Count': '1', 'Artist_Gender': 'Male', 'Artist_Birth_Year_Sum': '1945', 'Debut_Album_Release_Year': '1969', 'Avg._Age_at_Top_500_Album': '26', 'Years_Between_Debut_and_Top_500_Album': '2', 'Album_ID': '4VykjLwkyfKMZVLrJJVrYh', 'Album_ID_Quoted': '\"4VykjLwkyfKMZVLrJJVrYh\",', '': ''}\n",
            "{'Sort_Name': 'T. Rex', 'Clean_Name': 'T. Rex', 'Album': 'Electric Warrior', '2003_Rank_Old': '159', '2003_Rank': '160', '2012_Rank': '160', '2020_Rank': '188', '2020_2003_Differential': '-28', 'Release_Year': '1971', 'Album_Genre': 'Blues/Blues Rock', 'Album_Type': 'Studio', 'Weeks_on_Billboard': '34', 'Peak_Billboard_Position': '32', 'Spotify_Popularity': '34', 'Spotify_URI': 'spotify:album:4Yw5uS8at8GkWmH2gZmLY0', 'Chartmetric_Link': 'https://app.chartmetric.com/album/1130881/about', 'Artist_Member_Count': '4', 'Artist_Gender': 'Male', 'Artist_Birth_Year_Sum': '7790', 'Debut_Album_Release_Year': '1968', 'Avg._Age_at_Top_500_Album': '23.5', 'Years_Between_Debut_and_Top_500_Album': '3', 'Album_ID': '4Yw5uS8at8GkWmH2gZmLY0', 'Album_ID_Quoted': '\"4Yw5uS8at8GkWmH2gZmLY0\",', '': ''}\n",
            "{'Sort_Name': 'Lennon, John', 'Clean_Name': 'John Lennon', 'Album': 'Imagine', '2003_Rank_Old': '77', '2003_Rank': '76', '2012_Rank': '80', '2020_Rank': '223', '2020_2003_Differential': '-147', 'Release_Year': '1971', 'Album_Genre': '', 'Album_Type': 'Studio', 'Weeks_on_Billboard': '45', 'Peak_Billboard_Position': '1', 'Spotify_Popularity': '69', 'Spotify_URI': 'spotify:album:0xzaemKucrJpYhyl7TltAk', 'Chartmetric_Link': 'https://app.chartmetric.com/album/3238663/about', 'Artist_Member_Count': '1', 'Artist_Gender': 'Male', 'Artist_Birth_Year_Sum': '1940', 'Debut_Album_Release_Year': '1968', 'Avg._Age_at_Top_500_Album': '31', 'Years_Between_Debut_and_Top_500_Album': '3', 'Album_ID': '0xzaemKucrJpYhyl7TltAk', 'Album_ID_Quoted': '\"0xzaemKucrJpYhyl7TltAk\",', '': ''}\n",
            "{'Sort_Name': 'Black Sabbath', 'Clean_Name': 'Black Sabbath', 'Album': 'Master of Reality', '2003_Rank_Old': '294', '2003_Rank': '298', '2012_Rank': '300', '2020_Rank': '234', '2020_2003_Differential': '64', 'Release_Year': '1971', 'Album_Genre': 'Hard Rock/Metal', 'Album_Type': 'Studio', 'Weeks_on_Billboard': '43', 'Peak_Billboard_Position': '8', 'Spotify_Popularity': '58', 'Spotify_URI': 'spotify:album:7pGb2cOGVz6vLyaZaKOQ7D', 'Chartmetric_Link': 'https://app.chartmetric.com/album/327665/about', 'Artist_Member_Count': '4', 'Artist_Gender': 'Male', 'Artist_Birth_Year_Sum': '7793', 'Debut_Album_Release_Year': '1970', 'Avg._Age_at_Top_500_Album': '22.75', 'Years_Between_Debut_and_Top_500_Album': '1', 'Album_ID': '7pGb2cOGVz6vLyaZaKOQ7D', 'Album_ID_Quoted': '\"7pGb2cOGVz6vLyaZaKOQ7D\",', '': ''}\n",
            "{'Sort_Name': 'Cohen, Leonard', 'Clean_Name': 'Leonard Cohen', 'Album': 'Songs of Love and Hate', '2003_Rank_Old': '', '2003_Rank': '', '2012_Rank': '295', '2020_Rank': '195', '2020_2003_Differential': '306', 'Release_Year': '1970', 'Album_Genre': 'Country/Folk/Country Rock/Folk Rock', 'Album_Type': 'Studio', 'Weeks_on_Billboard': '11', 'Peak_Billboard_Position': '145', 'Spotify_Popularity': '53', 'Spotify_URI': 'spotify:album:2Om4oR7plGGub1aYe5uB7B', 'Chartmetric_Link': 'https://app.chartmetric.com/album/1393360/about', 'Artist_Member_Count': '1', 'Artist_Gender': 'Male', 'Artist_Birth_Year_Sum': '1934', 'Debut_Album_Release_Year': '1967', 'Avg._Age_at_Top_500_Album': '36', 'Years_Between_Debut_and_Top_500_Album': '3', 'Album_ID': '2Om4oR7plGGub1aYe5uB7B', 'Album_ID_Quoted': '\"2Om4oR7plGGub1aYe5uB7B\",', '': ''}\n",
            "{'Sort_Name': 'Drake, Nick', 'Clean_Name': 'Nick Drake', 'Album': 'Bryter Later', '2003_Rank_Old': '242', '2003_Rank': '245', '2012_Rank': '', '2020_Rank': '', '2020_2003_Differential': '-256', 'Release_Year': '1971', 'Album_Genre': '', 'Album_Type': 'Studio', 'Weeks_on_Billboard': '-', 'Peak_Billboard_Position': '201', 'Spotify_Popularity': '60', 'Spotify_URI': 'spotify:album:04FfqGvZJ9oUBGRVrq2FE5', 'Chartmetric_Link': 'https://app.chartmetric.com/album/3918647/about', 'Artist_Member_Count': '1', 'Artist_Gender': 'Male', 'Artist_Birth_Year_Sum': '1948', 'Debut_Album_Release_Year': '1969', 'Avg._Age_at_Top_500_Album': '23', 'Years_Between_Debut_and_Top_500_Album': '2', 'Album_ID': '04FfqGvZJ9oUBGRVrq2FE5', 'Album_ID_Quoted': '\"04FfqGvZJ9oUBGRVrq2FE5\",', '': ''}\n",
            "{'Sort_Name': 'Jethro Tull', 'Clean_Name': 'Jethro Tull', 'Album': 'Aqualung', '2003_Rank_Old': '333', '2003_Rank': '337', '2012_Rank': '337', '2020_Rank': '', '2020_2003_Differential': '-164', 'Release_Year': '1971', 'Album_Genre': 'Blues/Blues Rock', 'Album_Type': 'Studio', 'Weeks_on_Billboard': '76', 'Peak_Billboard_Position': '7', 'Spotify_Popularity': '62', 'Spotify_URI': 'spotify:album:0NGM3Ftwjw0dLNpAowmz3x', 'Chartmetric_Link': 'https://app.chartmetric.com/album/3132051/about', 'Artist_Member_Count': '5', 'Artist_Gender': 'Male', 'Artist_Birth_Year_Sum': '9733', 'Debut_Album_Release_Year': '1968', 'Avg._Age_at_Top_500_Album': '24.4', 'Years_Between_Debut_and_Top_500_Album': '3', 'Album_ID': '0NGM3Ftwjw0dLNpAowmz3x', 'Album_ID_Quoted': '\"0NGM3Ftwjw0dLNpAowmz3x\",', '': ''}\n",
            "{'Sort_Name': 'A Tribe Called Quest', 'Clean_Name': 'A Tribe Called Quest', 'Album': 'Midnight Marauders', '2003_Rank_Old': '', '2003_Rank': '', '2012_Rank': '', '2020_Rank': '201', '2020_2003_Differential': '300', 'Release_Year': '1993', 'Album_Genre': 'Hip-Hop/Rap', 'Album_Type': 'Studio', 'Weeks_on_Billboard': '29', 'Peak_Billboard_Position': '8', 'Spotify_Popularity': '61', 'Spotify_URI': 'spotify:album:4v5x3Oo3UjQ9YmF3hRAip5', 'Chartmetric_Link': 'https://app.chartmetric.com/album/3874606/about', 'Artist_Member_Count': '4', 'Artist_Gender': 'Male', 'Artist_Birth_Year_Sum': '7890', 'Debut_Album_Release_Year': '1990', 'Avg._Age_at_Top_500_Album': '20.5', 'Years_Between_Debut_and_Top_500_Album': '3', 'Album_ID': '4v5x3Oo3UjQ9YmF3hRAip5', 'Album_ID_Quoted': '\"4v5x3Oo3UjQ9YmF3hRAip5\",', '': ''}\n",
            "{'Sort_Name': 'Doors', 'Clean_Name': 'The Doors', 'Album': 'L.A. Woman', '2003_Rank_Old': '358', '2003_Rank': '362', '2012_Rank': '364', '2020_Rank': '', '2020_2003_Differential': '-139', 'Release_Year': '1971', 'Album_Genre': 'Blues/Blues Rock', 'Album_Type': 'Studio', 'Weeks_on_Billboard': '34', 'Peak_Billboard_Position': '9', 'Spotify_Popularity': '68', 'Spotify_URI': 'spotify:album:7IKUTIc9UWuVngyGPtqNHS', 'Chartmetric_Link': 'https://app.chartmetric.com/album/3956960/about', 'Artist_Member_Count': '4', 'Artist_Gender': 'Male', 'Artist_Birth_Year_Sum': '7772', 'Debut_Album_Release_Year': '1967', 'Avg._Age_at_Top_500_Album': '28', 'Years_Between_Debut_and_Top_500_Album': '4', 'Album_ID': '7IKUTIc9UWuVngyGPtqNHS', 'Album_ID_Quoted': '\"7IKUTIc9UWuVngyGPtqNHS\",', '': ''}\n",
            "{'Sort_Name': 'West, Kanye', 'Clean_Name': 'Kanye West', 'Album': 'Graduation', '2003_Rank_Old': '', '2003_Rank': '', '2012_Rank': '', '2020_Rank': '204', '2020_2003_Differential': '297', 'Release_Year': '2007', 'Album_Genre': 'Hip-Hop/Rap', 'Album_Type': 'Studio', 'Weeks_on_Billboard': '52', 'Peak_Billboard_Position': '1', 'Spotify_Popularity': '87', 'Spotify_URI': 'spotify:album:4SZko61aMnmgvNhfhgTuD3', 'Chartmetric_Link': 'https://app.chartmetric.com/album/5082783/about', 'Artist_Member_Count': '1', 'Artist_Gender': 'Male', 'Artist_Birth_Year_Sum': '1977', 'Debut_Album_Release_Year': '2004', 'Avg._Age_at_Top_500_Album': '30', 'Years_Between_Debut_and_Top_500_Album': '3', 'Album_ID': '4SZko61aMnmgvNhfhgTuD3', 'Album_ID_Quoted': '\"4SZko61aMnmgvNhfhgTuD3\",', '': ''}\n",
            "{'Sort_Name': 'Cooper, Alice', 'Clean_Name': 'Alice Cooper', 'Album': 'Love It to Death', '2003_Rank_Old': '452', '2003_Rank': '460', '2012_Rank': '454', '2020_Rank': '', '2020_2003_Differential': '-41', 'Release_Year': '1971', 'Album_Genre': 'Hard Rock/Metal', 'Album_Type': 'Studio', 'Weeks_on_Billboard': '38', 'Peak_Billboard_Position': '35', 'Spotify_Popularity': '51', 'Spotify_URI': 'spotify:album:6p7jHbG5Bd6z2JgfKx0um7', 'Chartmetric_Link': 'https://app.chartmetric.com/album/3974160/about', 'Artist_Member_Count': '5', 'Artist_Gender': 'Male', 'Artist_Birth_Year_Sum': '9736', 'Debut_Album_Release_Year': '1969', 'Avg._Age_at_Top_500_Album': '23.8', 'Years_Between_Debut_and_Top_500_Album': '2', 'Album_ID': '6p7jHbG5Bd6z2JgfKx0um7', 'Album_ID_Quoted': '\"6p7jHbG5Bd6z2JgfKx0um7\",', '': ''}\n",
            "{'Sort_Name': 'Sly & The Family Stone', 'Clean_Name': 'Sly & The Family Stone', 'Album': \"There's a Riot Goin' On\", '2003_Rank_Old': '100', '2003_Rank': '99', '2012_Rank': '99', '2020_Rank': '82', '2020_2003_Differential': '17', 'Release_Year': '1971', 'Album_Genre': 'Funk/Disco', 'Album_Type': 'Studio', 'Weeks_on_Billboard': '31', 'Peak_Billboard_Position': '1', 'Spotify_Popularity': '47', 'Spotify_URI': 'spotify:album:29f2cOueckYE8Nc1pkJjrU', 'Chartmetric_Link': 'https://app.chartmetric.com/album/1146824/about', 'Artist_Member_Count': '10', 'Artist_Gender': 'Male/Female', 'Artist_Birth_Year_Sum': '19466', 'Debut_Album_Release_Year': '1967', 'Avg._Age_at_Top_500_Album': '24.4', 'Years_Between_Debut_and_Top_500_Album': '4', 'Album_ID': '29f2cOueckYE8Nc1pkJjrU', 'Album_ID_Quoted': '\"29f2cOueckYE8Nc1pkJjrU\",', '': ''}\n",
            "{'Sort_Name': 'Rolling Stones', 'Clean_Name': 'Rolling Stones', 'Album': 'Exile on Main St.', '2003_Rank_Old': '7', '2003_Rank': '7', '2012_Rank': '7', '2020_Rank': '14', '2020_2003_Differential': '-7', 'Release_Year': '1972', 'Album_Genre': 'Blues/Blues Rock', 'Album_Type': 'Studio', 'Weeks_on_Billboard': '43', 'Peak_Billboard_Position': '1', 'Spotify_Popularity': '61', 'Spotify_URI': 'spotify:album:5U4dnRZsfW8NmwBBkELFPh', 'Chartmetric_Link': 'https://app.chartmetric.com/album/2981668/about', 'Artist_Member_Count': '5', 'Artist_Gender': 'Male', 'Artist_Birth_Year_Sum': '9712', 'Debut_Album_Release_Year': '1964', 'Avg._Age_at_Top_500_Album': '29.6', 'Years_Between_Debut_and_Top_500_Album': '8', 'Album_ID': '5U4dnRZsfW8NmwBBkELFPh', 'Album_ID_Quoted': '\"5U4dnRZsfW8NmwBBkELFPh\",', '': ''}\n",
            "{'Sort_Name': 'Lil Wayne', 'Clean_Name': 'Lil Wayne', 'Album': 'Tha Carter III', '2003_Rank_Old': '', '2003_Rank': '', '2012_Rank': '437', '2020_Rank': '208', '2020_2003_Differential': '293', 'Release_Year': '2008', 'Album_Genre': 'Hip-Hop/Rap', 'Album_Type': 'Studio', 'Weeks_on_Billboard': '147', 'Peak_Billboard_Position': '1', 'Spotify_Popularity': '71', 'Spotify_URI': 'spotify:album:5BGzOpea6At0Nd7tYtYZOP', 'Chartmetric_Link': 'https://app.chartmetric.com/album/2990909/about', 'Artist_Member_Count': '1', 'Artist_Gender': 'Male', 'Artist_Birth_Year_Sum': '1982', 'Debut_Album_Release_Year': '1999', 'Avg._Age_at_Top_500_Album': '26', 'Years_Between_Debut_and_Top_500_Album': '9', 'Album_ID': '5BGzOpea6At0Nd7tYtYZOP', 'Album_ID_Quoted': '\"5BGzOpea6At0Nd7tYtYZOP\",', '': ''}\n",
            "{'Sort_Name': 'Pink Floyd', 'Clean_Name': 'Pink Floyd', 'Album': 'Wish You Were Here', '2003_Rank_Old': '207', '2003_Rank': '209', '2012_Rank': '211', '2020_Rank': '264', '2020_2003_Differential': '-55', 'Release_Year': '1975', 'Album_Genre': '', 'Album_Type': 'Studio', 'Weeks_on_Billboard': '39', 'Peak_Billboard_Position': '1', 'Spotify_Popularity': '70', 'Spotify_URI': 'spotify:album:0bCAjiUamIFqKJsekOYuRw', 'Chartmetric_Link': 'https://app.chartmetric.com/album/1939823/about', 'Artist_Member_Count': '4', 'Artist_Gender': 'Male', 'Artist_Birth_Year_Sum': '7776', 'Debut_Album_Release_Year': '1967', 'Avg._Age_at_Top_500_Album': '31', 'Years_Between_Debut_and_Top_500_Album': '8', 'Album_ID': '0bCAjiUamIFqKJsekOYuRw', 'Album_ID_Quoted': '\"0bCAjiUamIFqKJsekOYuRw\",', '': ''}\n",
            "{'Sort_Name': 'Young, Neil', 'Clean_Name': 'Neil Young', 'Album': \"Tonight's the Night\", '2003_Rank_Old': '327', '2003_Rank': '331', '2012_Rank': '330', '2020_Rank': '302', '2020_2003_Differential': '29', 'Release_Year': '1975', 'Album_Genre': '', 'Album_Type': 'Studio', 'Weeks_on_Billboard': '12', 'Peak_Billboard_Position': '25', 'Spotify_Popularity': 'Not on Spotify', 'Spotify_URI': 'Not on Spotify', 'Chartmetric_Link': '', 'Artist_Member_Count': '1', 'Artist_Gender': 'Male', 'Artist_Birth_Year_Sum': '1945', 'Debut_Album_Release_Year': '1969', 'Avg._Age_at_Top_500_Album': '30', 'Years_Between_Debut_and_Top_500_Album': '6', 'Album_ID': 'NOS113', 'Album_ID_Quoted': '\"Not on Spotify\",', '': ''}\n",
            "{'Sort_Name': 'KISS', 'Clean_Name': 'KISS', 'Album': 'Alive!', '2003_Rank_Old': '158', '2003_Rank': '159', '2012_Rank': '159', '2020_Rank': '305', '2020_2003_Differential': '-146', 'Release_Year': '1975', 'Album_Genre': 'Hard Rock/Metal', 'Album_Type': 'Live', 'Weeks_on_Billboard': '9', 'Peak_Billboard_Position': '110', 'Spotify_Popularity': '44', 'Spotify_URI': 'spotify:album:6TRmLIsPKSPS71Cnq8FiMc', 'Chartmetric_Link': 'https://app.chartmetric.com/album/3178956/about', 'Artist_Member_Count': '4', 'Artist_Gender': 'Male', 'Artist_Birth_Year_Sum': '7797', 'Debut_Album_Release_Year': '1974', 'Avg._Age_at_Top_500_Album': '25.75', 'Years_Between_Debut_and_Top_500_Album': '1', 'Album_ID': '6TRmLIsPKSPS71Cnq8FiMc', 'Album_ID_Quoted': '\"6TRmLIsPKSPS71Cnq8FiMc\",', '': ''}\n",
            "{'Sort_Name': 'Dylan, Bob', 'Clean_Name': 'Bob Dylan', 'Album': 'The Basement Tapes', '2003_Rank_Old': '288', '2003_Rank': '291', '2012_Rank': '292', '2020_Rank': '335', '2020_2003_Differential': '-44', 'Release_Year': '1975', 'Album_Genre': 'Country/Folk/Country Rock/Folk Rock', 'Album_Type': 'Studio', 'Weeks_on_Billboard': '14', 'Peak_Billboard_Position': '7', 'Spotify_Popularity': '44', 'Spotify_URI': 'spotify:album:6BOlD6UGUg45IsUXPSplkY', 'Chartmetric_Link': 'https://app.chartmetric.com/album/1975397/about', 'Artist_Member_Count': '1', 'Artist_Gender': 'Male', 'Artist_Birth_Year_Sum': '1941', 'Debut_Album_Release_Year': '1962', 'Avg._Age_at_Top_500_Album': '34', 'Years_Between_Debut_and_Top_500_Album': '13', 'Album_ID': '6BOlD6UGUg45IsUXPSplkY', 'Album_ID_Quoted': '\"6BOlD6UGUg45IsUXPSplkY\",', '': ''}\n",
            "{'Sort_Name': 'Eno, Brian', 'Clean_Name': 'Brian Eno', 'Album': 'Another Green World', '2003_Rank_Old': '425', '2003_Rank': '433', '2012_Rank': '429', '2020_Rank': '338', '2020_2003_Differential': '95', 'Release_Year': '1975', 'Album_Genre': '', 'Album_Type': 'Studio', 'Weeks_on_Billboard': '-', 'Peak_Billboard_Position': '201', 'Spotify_Popularity': '49', 'Spotify_URI': 'spotify:album:6uoeezh45SYEb8lcT8gDTY', 'Chartmetric_Link': 'https://app.chartmetric.com/album/3277587/about', 'Artist_Member_Count': '1', 'Artist_Gender': 'Male', 'Artist_Birth_Year_Sum': '1948', 'Debut_Album_Release_Year': '1974', 'Avg._Age_at_Top_500_Album': '27', 'Years_Between_Debut_and_Top_500_Album': '1', 'Album_ID': '6uoeezh45SYEb8lcT8gDTY', 'Album_ID_Quoted': '\"6uoeezh45SYEb8lcT8gDTY\",', '': ''}\n",
            "{'Sort_Name': 'Parliament', 'Clean_Name': 'Parliament', 'Album': 'Mothership Connection', '2003_Rank_Old': '271', '2003_Rank': '274', '2012_Rank': '276', '2020_Rank': '363', '2020_2003_Differential': '-89', 'Release_Year': '1975', 'Album_Genre': 'Funk/Disco', 'Album_Type': 'Studio', 'Weeks_on_Billboard': '37', 'Peak_Billboard_Position': '13', 'Spotify_Popularity': '57', 'Spotify_URI': 'spotify:album:4q1HNSka8CzuLvC8ydcsD2', 'Chartmetric_Link': 'https://app.chartmetric.com/album/2986594/about', 'Artist_Member_Count': '12', 'Artist_Gender': 'Male', 'Artist_Birth_Year_Sum': '23368', 'Debut_Album_Release_Year': '1970', 'Avg._Age_at_Top_500_Album': '27.66666667', 'Years_Between_Debut_and_Top_500_Album': '5', 'Album_ID': '4q1HNSka8CzuLvC8ydcsD2', 'Album_ID_Quoted': '\"4q1HNSka8CzuLvC8ydcsD2\",', '': ''}\n",
            "{'Sort_Name': 'Earth, Wind & Fire', 'Clean_Name': 'Earth, Wind & Fire', 'Album': \"That's the Way of the World\", '2003_Rank_Old': '485', '2003_Rank': '493', '2012_Rank': '486', '2020_Rank': '420', '2020_2003_Differential': '73', 'Release_Year': '1975', 'Album_Genre': 'Funk/Disco', 'Album_Type': 'Studio', 'Weeks_on_Billboard': '55', 'Peak_Billboard_Position': '1', 'Spotify_Popularity': '65', 'Spotify_URI': 'spotify:album:5tXZfxvr2VaWibD74nw8VL', 'Chartmetric_Link': 'https://app.chartmetric.com/album/3952271/about', 'Artist_Member_Count': '8', 'Artist_Gender': 'Male', 'Artist_Birth_Year_Sum': '15620', 'Debut_Album_Release_Year': '1971', 'Avg._Age_at_Top_500_Album': '22.5', 'Years_Between_Debut_and_Top_500_Album': '4', 'Album_ID': '5tXZfxvr2VaWibD74nw8VL', 'Album_ID_Quoted': '\"5tXZfxvr2VaWibD74nw8VL\",', '': ''}\n",
            "{'Sort_Name': 'Green, Al', 'Clean_Name': 'Al Green', 'Album': 'Greatest Hits', '2003_Rank_Old': '52', '2003_Rank': '52', '2012_Rank': '52', '2020_Rank': '456', '2020_2003_Differential': '-404', 'Release_Year': '1975', 'Album_Genre': 'Soul/Gospel/R&B', 'Album_Type': 'Greatest Hits', 'Weeks_on_Billboard': '21', 'Peak_Billboard_Position': '17', 'Spotify_Popularity': '43', 'Spotify_URI': 'spotify:album:6W0V8B0fJItvOwC8v114rZ', 'Chartmetric_Link': 'https://app.chartmetric.com/album/324197/about', 'Artist_Member_Count': '1', 'Artist_Gender': 'Male', 'Artist_Birth_Year_Sum': '1946', 'Debut_Album_Release_Year': '1967', 'Avg._Age_at_Top_500_Album': '29', 'Years_Between_Debut_and_Top_500_Album': '8', 'Album_ID': '6W0V8B0fJItvOwC8v114rZ', 'Album_ID_Quoted': '\"6W0V8B0fJItvOwC8v114rZ\",', '': ''}\n",
            "{'Sort_Name': 'My Chemical Romance', 'Clean_Name': 'My Chemical Romance', 'Album': 'The Black Parade', '2003_Rank_Old': '', '2003_Rank': '', '2012_Rank': '', '2020_Rank': '361', '2020_2003_Differential': '140', 'Release_Year': '2006', 'Album_Genre': 'Punk/Post-Punk/New Wave/Power Pop', 'Album_Type': 'Studio', 'Weeks_on_Billboard': '58', 'Peak_Billboard_Position': '2', 'Spotify_Popularity': '80', 'Spotify_URI': 'spotify:album:0FZK97MXMm5mUQ8mtudjuK', 'Chartmetric_Link': 'https://app.chartmetric.com/album/3989108/about', 'Artist_Member_Count': '5', 'Artist_Gender': 'Male', 'Artist_Birth_Year_Sum': '9894', 'Debut_Album_Release_Year': '2002', 'Avg._Age_at_Top_500_Album': '27.2', 'Years_Between_Debut_and_Top_500_Album': '4', 'Album_ID': '0FZK97MXMm5mUQ8mtudjuK', 'Album_ID_Quoted': '\"0FZK97MXMm5mUQ8mtudjuK\",', '': ''}\n",
            "{'Sort_Name': 'Vandross, Luther', 'Clean_Name': 'Luther Vandross', 'Album': 'Never Too Much', '2003_Rank_Old': '', '2003_Rank': '', '2012_Rank': '', '2020_Rank': '362', '2020_2003_Differential': '139', 'Release_Year': '1981', 'Album_Genre': 'Funk/Disco', 'Album_Type': 'Studio', 'Weeks_on_Billboard': '36', 'Peak_Billboard_Position': '19', 'Spotify_Popularity': '64', 'Spotify_URI': 'spotify:album:1B4oPgG5ljWTRxsKcTHAYn', 'Chartmetric_Link': 'https://app.chartmetric.com/album/542999/about', 'Artist_Member_Count': '1', 'Artist_Gender': 'Male', 'Artist_Birth_Year_Sum': '1951', 'Debut_Album_Release_Year': '1981', 'Avg._Age_at_Top_500_Album': '30', 'Years_Between_Debut_and_Top_500_Album': '0', 'Album_ID': '1B4oPgG5ljWTRxsKcTHAYn', 'Album_ID_Quoted': '\"1B4oPgG5ljWTRxsKcTHAYn\",', '': ''}\n",
            "{'Sort_Name': 'John, Elton', 'Clean_Name': 'Elton John', 'Album': 'Captain Fantastic and the Brown Dirt Cowboy', '2003_Rank_Old': '157', '2003_Rank': '158', '2012_Rank': '158', '2020_Rank': '', '2020_2003_Differential': '-343', 'Release_Year': '1975', 'Album_Genre': 'Singer-Songwriter/Heartland Rock', 'Album_Type': 'Studio', 'Weeks_on_Billboard': '43', 'Peak_Billboard_Position': '1', 'Spotify_Popularity': '54', 'Spotify_URI': 'spotify:album:4UcpKa4yD9AA3iEHI8MFSF', 'Chartmetric_Link': 'https://app.chartmetric.com/album/3302359/about', 'Artist_Member_Count': '1', 'Artist_Gender': 'Male', 'Artist_Birth_Year_Sum': '1947', 'Debut_Album_Release_Year': '1969', 'Avg._Age_at_Top_500_Album': '28', 'Years_Between_Debut_and_Top_500_Album': '6', 'Album_ID': '4UcpKa4yD9AA3iEHI8MFSF', 'Album_ID_Quoted': '\"4UcpKa4yD9AA3iEHI8MFSF\",', '': ''}\n",
            "{'Sort_Name': 'Madvillain', 'Clean_Name': 'Madvillain', 'Album': 'Madvillainy', '2003_Rank_Old': '', '2003_Rank': '', '2012_Rank': '', '2020_Rank': '365', '2020_2003_Differential': '136', 'Release_Year': '2004', 'Album_Genre': 'Hip-Hop/Rap', 'Album_Type': 'Studio', 'Weeks_on_Billboard': '1', 'Peak_Billboard_Position': '179', 'Spotify_Popularity': '73', 'Spotify_URI': 'spotify:album:19bQiwEKhXUBJWY6oV3KZk', 'Chartmetric_Link': 'https://app.chartmetric.com/album/2177624/about', 'Artist_Member_Count': '2', 'Artist_Gender': 'Male', 'Artist_Birth_Year_Sum': '3944', 'Debut_Album_Release_Year': '2004', 'Avg._Age_at_Top_500_Album': '32', 'Years_Between_Debut_and_Top_500_Album': '0', 'Album_ID': '19bQiwEKhXUBJWY6oV3KZk', 'Album_ID_Quoted': '\"19bQiwEKhXUBJWY6oV3KZk\",', '': ''}\n",
            "{'Sort_Name': 'Aerosmith', 'Clean_Name': 'Aerosmith', 'Album': 'Toys in the Attic', '2003_Rank_Old': '224', '2003_Rank': '228', '2012_Rank': '229', '2020_Rank': '', '2020_2003_Differential': '-273', 'Release_Year': '1975', 'Album_Genre': 'Hard Rock/Metal', 'Album_Type': 'Studio', 'Weeks_on_Billboard': '128', 'Peak_Billboard_Position': '11', 'Spotify_Popularity': '72', 'Spotify_URI': 'spotify:album:6As5aOEQjfxLIChIB3fQRD', 'Chartmetric_Link': 'https://app.chartmetric.com/album/3953957/about', 'Artist_Member_Count': '5', 'Artist_Gender': 'Male', 'Artist_Birth_Year_Sum': '9751', 'Debut_Album_Release_Year': '1973', 'Avg._Age_at_Top_500_Album': '24.8', 'Years_Between_Debut_and_Top_500_Album': '2', 'Album_ID': '6As5aOEQjfxLIChIB3fQRD', 'Album_ID_Quoted': '\"6As5aOEQjfxLIChIB3fQRD\",', '': ''}\n",
            "{'Sort_Name': 'Drake', 'Clean_Name': 'Drake', 'Album': \"If You're Reading This It's Too Late\", '2003_Rank_Old': '', '2003_Rank': '', '2012_Rank': '', '2020_Rank': '367', '2020_2003_Differential': '134', 'Release_Year': '2015', 'Album_Genre': 'Hip-Hop/Rap', 'Album_Type': 'Studio', 'Weeks_on_Billboard': '201', 'Peak_Billboard_Position': '1', 'Spotify_Popularity': '77', 'Spotify_URI': 'spotify:album:0ptlfJfwGTy0Yvrk14JK1I', 'Chartmetric_Link': 'https://app.chartmetric.com/album/2957697/about', 'Artist_Member_Count': '1', 'Artist_Gender': 'Male', 'Artist_Birth_Year_Sum': '1986', 'Debut_Album_Release_Year': '2010', 'Avg._Age_at_Top_500_Album': '29', 'Years_Between_Debut_and_Top_500_Album': '5', 'Album_ID': '0ptlfJfwGTy0Yvrk14JK1I', 'Album_ID_Quoted': '\"0ptlfJfwGTy0Yvrk14JK1I\",', '': ''}\n",
            "{'Sort_Name': 'Roxy Music', 'Clean_Name': 'Roxy Music', 'Album': 'Siren', '2003_Rank_Old': '367', '2003_Rank': '371', '2012_Rank': '374', '2020_Rank': '', '2020_2003_Differential': '-130', 'Release_Year': '1975', 'Album_Genre': 'Punk/Post-Punk/New Wave/Power Pop', 'Album_Type': 'Studio', 'Weeks_on_Billboard': '20', 'Peak_Billboard_Position': '50', 'Spotify_Popularity': '49', 'Spotify_URI': 'spotify:album:5Tpor3YZBVEJ9tWD5L31mH', 'Chartmetric_Link': 'https://app.chartmetric.com/album/3153335/about', 'Artist_Member_Count': '6', 'Artist_Gender': 'Male', 'Artist_Birth_Year_Sum': '11690', 'Debut_Album_Release_Year': '1972', 'Avg._Age_at_Top_500_Album': '26.66666667', 'Years_Between_Debut_and_Top_500_Album': '3', 'Album_ID': '5Tpor3YZBVEJ9tWD5L31mH', 'Album_ID_Quoted': '\"5Tpor3YZBVEJ9tWD5L31mH\",', '': ''}\n",
            "{'Sort_Name': 'Mobb Deep', 'Clean_Name': 'Mobb Deep', 'Album': 'The Infamous', '2003_Rank_Old': '', '2003_Rank': '', '2012_Rank': '', '2020_Rank': '369', '2020_2003_Differential': '132', 'Release_Year': '1995', 'Album_Genre': 'Hip-Hop/Rap', 'Album_Type': 'Studio', 'Weeks_on_Billboard': '18', 'Peak_Billboard_Position': '18', 'Spotify_Popularity': '71', 'Spotify_URI': 'spotify:album:1cCAb1vN8uUsdfEylVmTLs', 'Chartmetric_Link': 'https://app.chartmetric.com/album/3970872/about', 'Artist_Member_Count': '2', 'Artist_Gender': 'Male', 'Artist_Birth_Year_Sum': '3948', 'Debut_Album_Release_Year': '1993', 'Avg._Age_at_Top_500_Album': '21', 'Years_Between_Debut_and_Top_500_Album': '2', 'Album_ID': '1cCAb1vN8uUsdfEylVmTLs', 'Album_ID_Quoted': '\"1cCAb1vN8uUsdfEylVmTLs\",', '': ''}\n",
            "{'Sort_Name': 'Lil Wayne', 'Clean_Name': 'Lil Wayne', 'Album': 'Tha Carter II', '2003_Rank_Old': '', '2003_Rank': '', '2012_Rank': '', '2020_Rank': '370', '2020_2003_Differential': '131', 'Release_Year': '2005', 'Album_Genre': 'Hip-Hop/Rap', 'Album_Type': 'Studio', 'Weeks_on_Billboard': '43', 'Peak_Billboard_Position': '2', 'Spotify_Popularity': '63', 'Spotify_URI': 'spotify:album:7slHgsEMuJfnuft5LAPyw6', 'Chartmetric_Link': 'https://app.chartmetric.com/album/3097232/about', 'Artist_Member_Count': '1', 'Artist_Gender': 'Male', 'Artist_Birth_Year_Sum': '1982', 'Debut_Album_Release_Year': '1999', 'Avg._Age_at_Top_500_Album': '23', 'Years_Between_Debut_and_Top_500_Album': '6', 'Album_ID': '7slHgsEMuJfnuft5LAPyw6', 'Album_ID_Quoted': '\"7slHgsEMuJfnuft5LAPyw6\",', '': ''}\n",
            "{'Sort_Name': 'Fleetwood Mac', 'Clean_Name': 'Fleetwood Mac', 'Album': 'Fleetwood Mac', '2003_Rank_Old': '181', '2003_Rank': '183', '2012_Rank': '182', '2020_Rank': '', '2020_2003_Differential': '-318', 'Release_Year': '1975', 'Album_Genre': 'Singer-Songwriter/Heartland Rock', 'Album_Type': 'Studio', 'Weeks_on_Billboard': '166', 'Peak_Billboard_Position': '1', 'Spotify_Popularity': '50', 'Spotify_URI': 'spotify:album:6jTUmLtY779ZNYsyugOq2q', 'Chartmetric_Link': 'https://app.chartmetric.com/album/2376919/about', 'Artist_Member_Count': '5', 'Artist_Gender': 'Male/Female', 'Artist_Birth_Year_Sum': '9732', 'Debut_Album_Release_Year': '1968', 'Avg._Age_at_Top_500_Album': '28.6', 'Years_Between_Debut_and_Top_500_Album': '7', 'Album_ID': '6jTUmLtY779ZNYsyugOq2q', 'Album_ID_Quoted': '\"6jTUmLtY779ZNYsyugOq2q\",', '': ''}\n",
            "{'Sort_Name': 'Hayes, Isaac', 'Clean_Name': 'Isaac Hayes', 'Album': 'Hot Buttered Soul', '2003_Rank_Old': '', '2003_Rank': '', '2012_Rank': '', '2020_Rank': '373', '2020_2003_Differential': '128', 'Release_Year': '1969', 'Album_Genre': 'Soul/Gospel/R&B', 'Album_Type': 'Studio', 'Weeks_on_Billboard': '81', 'Peak_Billboard_Position': '8', 'Spotify_Popularity': '34', 'Spotify_URI': 'spotify:album:71rxIr6MJYUzDG9ge6Jq3J', 'Chartmetric_Link': 'https://app.chartmetric.com/album/3039752/about', 'Artist_Member_Count': '1', 'Artist_Gender': 'Male', 'Artist_Birth_Year_Sum': '1942', 'Debut_Album_Release_Year': '1968', 'Avg._Age_at_Top_500_Album': '27', 'Years_Between_Debut_and_Top_500_Album': '1', 'Album_ID': '71rxIr6MJYUzDG9ge6Jq3J', 'Album_ID_Quoted': '\"71rxIr6MJYUzDG9ge6Jq3J\",', '': ''}\n",
            "{'Sort_Name': 'Wonder, Stevie', 'Clean_Name': 'Stevie Wonder', 'Album': 'Songs in the Key of Life', '2003_Rank_Old': '57', '2003_Rank': '56', '2012_Rank': '57', '2020_Rank': '4', '2020_2003_Differential': '52', 'Release_Year': '1976', 'Album_Genre': 'Soul/Gospel/R&B', 'Album_Type': 'Studio', 'Weeks_on_Billboard': '77', 'Peak_Billboard_Position': '1', 'Spotify_Popularity': '70', 'Spotify_URI': 'spotify:album:6YUCc2RiXcEKS9ibuZxjt0', 'Chartmetric_Link': 'https://app.chartmetric.com/album/4239795/about', 'Artist_Member_Count': '1', 'Artist_Gender': 'Male', 'Artist_Birth_Year_Sum': '1950', 'Debut_Album_Release_Year': '1962', 'Avg._Age_at_Top_500_Album': '26', 'Years_Between_Debut_and_Top_500_Album': '14', 'Album_ID': '6YUCc2RiXcEKS9ibuZxjt0', 'Album_ID_Quoted': '\"6YUCc2RiXcEKS9ibuZxjt0\",', '': ''}\n",
            "{'Sort_Name': 'Ramones', 'Clean_Name': 'Ramones', 'Album': 'Ramones', '2003_Rank_Old': '33', '2003_Rank': '33', '2012_Rank': '33', '2020_Rank': '47', '2020_2003_Differential': '-14', 'Release_Year': '1976', 'Album_Genre': 'Punk/Post-Punk/New Wave/Power Pop', 'Album_Type': 'Studio', 'Weeks_on_Billboard': '18', 'Peak_Billboard_Position': '111', 'Spotify_Popularity': '41', 'Spotify_URI': 'spotify:album:3ToX9inehiXTv17hpaOyie', 'Chartmetric_Link': 'https://app.chartmetric.com/album/2193108/about', 'Artist_Member_Count': '4', 'Artist_Gender': 'Male', 'Artist_Birth_Year_Sum': '7799', 'Debut_Album_Release_Year': '1976', 'Avg._Age_at_Top_500_Album': '26.25', 'Years_Between_Debut_and_Top_500_Album': '0', 'Album_ID': '3ToX9inehiXTv17hpaOyie', 'Album_ID_Quoted': '\"3ToX9inehiXTv17hpaOyie\",', '': ''}\n",
            "{'Sort_Name': 'Neutral Milk Hotel', 'Clean_Name': 'Neutral Milk Hotel', 'Album': 'In the Aeroplane Over the Sea', '2003_Rank_Old': '', '2003_Rank': '', '2012_Rank': '', '2020_Rank': '376', '2020_2003_Differential': '125', 'Release_Year': '1998', 'Album_Genre': 'Indie/Alternative Rock', 'Album_Type': 'Studio', 'Weeks_on_Billboard': '-', 'Peak_Billboard_Position': '201', 'Spotify_Popularity': '63', 'Spotify_URI': 'spotify:album:0vVekV45lOaVKs6RZQQNob', 'Chartmetric_Link': 'https://app.chartmetric.com/album/3912136/about', 'Artist_Member_Count': '4', 'Artist_Gender': 'Male', 'Artist_Birth_Year_Sum': '7883', 'Debut_Album_Release_Year': '1996', 'Avg._Age_at_Top_500_Album': '27.25', 'Years_Between_Debut_and_Top_500_Album': '2', 'Album_ID': '0vVekV45lOaVKs6RZQQNob', 'Album_ID_Quoted': '\"0vVekV45lOaVKs6RZQQNob\",', '': ''}\n",
            "{'Sort_Name': 'Bowie, David', 'Clean_Name': 'David Bowie', 'Album': 'Station to Station', '2003_Rank_Old': '319', '2003_Rank': '323', '2012_Rank': '324', '2020_Rank': '52', '2020_2003_Differential': '271', 'Release_Year': '1976', 'Album_Genre': '', 'Album_Type': 'Studio', 'Weeks_on_Billboard': '32', 'Peak_Billboard_Position': '3', 'Spotify_Popularity': '55', 'Spotify_URI': 'spotify:album:0MWrKayUshRuT8maG4ZAOU', 'Chartmetric_Link': 'https://app.chartmetric.com/album/852382/about', 'Artist_Member_Count': '1', 'Artist_Gender': 'Male', 'Artist_Birth_Year_Sum': '1947', 'Debut_Album_Release_Year': '1967', 'Avg._Age_at_Top_500_Album': '29', 'Years_Between_Debut_and_Top_500_Album': '9', 'Album_ID': '0MWrKayUshRuT8maG4ZAOU', 'Album_ID_Quoted': '\"0MWrKayUshRuT8maG4ZAOU\",', '': ''}\n",
            "{'Sort_Name': 'Rush', 'Clean_Name': 'Rush', 'Album': 'Moving Pictures', '2003_Rank_Old': '', '2003_Rank': '', '2012_Rank': '', '2020_Rank': '379', '2020_2003_Differential': '122', 'Release_Year': '1981', 'Album_Genre': 'Hard Rock/Metal', 'Album_Type': 'Studio', 'Weeks_on_Billboard': '68', 'Peak_Billboard_Position': '3', 'Spotify_Popularity': '65', 'Spotify_URI': 'spotify:album:2xg7iIKoSqaDNpDbJnyCjY', 'Chartmetric_Link': 'https://app.chartmetric.com/album/3352608/about', 'Artist_Member_Count': '3', 'Artist_Gender': 'Male', 'Artist_Birth_Year_Sum': '5858', 'Debut_Album_Release_Year': '1974', 'Avg._Age_at_Top_500_Album': '28.33333333', 'Years_Between_Debut_and_Top_500_Album': '7', 'Album_ID': '2xg7iIKoSqaDNpDbJnyCjY', 'Album_ID_Quoted': '\"2xg7iIKoSqaDNpDbJnyCjY\",', '': ''}\n",
            "Passed\n"
          ]
        }
      ],
      "source": [
        "# test cell\n",
        "# Run this cell to test if your code is correct\n",
        "albums_list_4a = albums_list[11:28]\n",
        "assert albums_2020_released_before_2003(albums_list_4a) == (7, [{'Artist Clean Name': 'Aretha Franklin', 'Album Name': 'Amazing Grace', 'Year Released': '1972'}, {'Artist Clean Name': 'Erykah Badu', 'Album Name': 'Baduizm', 'Year Released': '1997'}, {'Artist Clean Name': 'Erykah Badu', 'Album Name': \"Mama's Gun\", 'Year Released': '2000'}, {'Artist Clean Name': 'Fiona Apple', 'Album Name': 'When the Pawn...', 'Year Released': '1999'}, {'Artist Clean Name': 'Janet Jackson', 'Album Name': 'Control', 'Year Released': '1986'}, {'Artist Clean Name': 'Joni Mitchell', 'Album Name': 'Hejira', 'Year Released': '1976'}, {'Artist Clean Name': 'Missy Elliott', 'Album Name': 'Supa Dupa Fly', 'Year Released': '1997'}]), \"Your function does not return the correct voters in the first test data set.\"\n",
        "albums_list_4b = albums_list[151:250]\n",
        "assert albums_2020_released_before_2003(albums_list_4b) == (4, [{'Artist Clean Name': 'A Tribe Called Quest', 'Album Name': 'Midnight Marauders', 'Year Released': '1993'}, {'Artist Clean Name': \"D'Angelo\", 'Album Name': 'Brown Sugar', 'Year Released': '1995'}, {'Artist Clean Name': 'Ice Cube', 'Album Name': \"AmeriKKKa's Most Wanted\", 'Year Released': '1990'}, {'Artist Clean Name': 'Leonard Cohen', 'Album Name': 'Songs of Love and Hate', 'Year Released': '1970'}]), \"Your function does not return the correct voters in the second test data set.\"\n",
        "albums_list_4c = albums_list[351:375]\n",
        "assert albums_2020_released_before_2003(albums_list_4c) == (5, [{'Artist Clean Name': 'Isaac Hayes', 'Album Name': 'Hot Buttered Soul', 'Year Released': '1969'}, {'Artist Clean Name': 'Luther Vandross', 'Album Name': 'Never Too Much', 'Year Released': '1981'}, {'Artist Clean Name': 'Mobb Deep', 'Album Name': 'The Infamous', 'Year Released': '1995'}, {'Artist Clean Name': 'Neutral Milk Hotel', 'Album Name': 'In the Aeroplane Over the Sea', 'Year Released': '1998'}, {'Artist Clean Name': 'Rush', 'Album Name': 'Moving Pictures', 'Year Released': '1981'}]), \"Your function does not return the correct voters in the third test data set.\"\n",
        "print(\"Passed\")"
      ]
    },
    {
      "cell_type": "code",
      "execution_count": null,
      "id": "bc8b08ad-203b-464f-861d-b60798d65870",
      "metadata": {
        "id": "bc8b08ad-203b-464f-861d-b60798d65870"
      },
      "outputs": [],
      "source": []
    }
  ],
  "metadata": {
    "celltoolbar": "Edit Metadata",
    "hide_input": false,
    "interpreter": {
      "hash": "f2b38b6e01547e8f771d473ea2b8718fd0728eea782e4c924ed8783f739d4a6c"
    },
    "kernelspec": {
      "display_name": "Python 3 (ipykernel)",
      "language": "python",
      "name": "python3"
    },
    "language_info": {
      "codemirror_mode": {
        "name": "ipython",
        "version": 3
      },
      "file_extension": ".py",
      "mimetype": "text/x-python",
      "name": "python",
      "nbconvert_exporter": "python",
      "pygments_lexer": "ipython3",
      "version": "3.12.7"
    },
    "toc": {
      "base_numbering": 1,
      "nav_menu": {},
      "number_sections": false,
      "sideBar": true,
      "skip_h1_title": false,
      "title_cell": "Table of Contents",
      "title_sidebar": "Contents",
      "toc_cell": false,
      "toc_position": {
        "height": "calc(100% - 180px)",
        "left": "10px",
        "top": "150px",
        "width": "247px"
      },
      "toc_section_display": true,
      "toc_window_display": true
    },
    "colab": {
      "provenance": [],
      "include_colab_link": true
    }
  },
  "nbformat": 4,
  "nbformat_minor": 5
}