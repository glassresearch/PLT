{
  "cells": [
    {
      "cell_type": "markdown",
      "metadata": {
        "id": "view-in-github",
        "colab_type": "text"
      },
      "source": [
        "<a href=\"https://colab.research.google.com/github/glassresearch/PLT/blob/master/Python%20colab%20Georgia%20Tech/music_album_rankings_5_working.ipynb\" target=\"_parent\"><img src=\"https://colab.research.google.com/assets/colab-badge.svg\" alt=\"Open In Colab\"/></a>"
      ]
    },
    {
      "cell_type": "markdown",
      "id": "5dda78ce",
      "metadata": {
        "nbgrader": {
          "grade": false,
          "locked": true,
          "solution": false
        },
        "tags": [
          "notebook_header"
        ],
        "id": "5dda78ce"
      },
      "source": [
        "# Bootcamp Practice Notebooks:  Music Album Rankings Analysis\n",
        "\n",
        "## Notebook 5:  Complex Analysis"
      ]
    },
    {
      "cell_type": "markdown",
      "id": "4d58b4a0",
      "metadata": {
        "nbgrader": {
          "grade": false,
          "locked": true,
          "solution": false
        },
        "tags": [
          "topic_intro"
        ],
        "id": "4d58b4a0"
      },
      "source": [
        " # Overview: Music Album Rankings #\n",
        "\n",
        "`Rolling Stone` magazine is an American monthly magazine that focuses on music, politics, and popular culture. It was founded in San Francisco, California in 1967 and still publishes monthly to this day. The magazine is known for its coverage of music, entertainment, and politics.\n",
        "\n",
        "In 2003, the magazine released its `“500 Greatest Albums of All Time,”` placing the Beatles’ “Sgt. Pepper’s Lonely Hearts Club Band” in the top slot. It has since released two additional `\"500 Greatest\"` lists, in 2012 and 2020. While not necessary for this analysis, to gain a full understanding of these rankings, see this Wikipedia article:  https://en.wikipedia.org/wiki/Rolling_Stone%27s_500_Greatest_Albums_of_All_Time\n",
        "\n"
      ]
    },
    {
      "cell_type": "markdown",
      "id": "438ee3df",
      "metadata": {
        "nbgrader": {
          "grade": false,
          "locked": true,
          "solution": false
        },
        "id": "438ee3df"
      },
      "source": [
        "# Setup and Data Load\n",
        "\n",
        "To get started, run the following code cells. They will load the data files and populate the `voters` and `albums` datasets that you will be working with."
      ]
    },
    {
      "cell_type": "code",
      "execution_count": 4,
      "id": "ec48fa08-3e49-401a-a776-dd06ca0537b4",
      "metadata": {
        "id": "ec48fa08-3e49-401a-a776-dd06ca0537b4",
        "outputId": "2096be6e-c67c-49ea-c90a-09bb43be1247",
        "colab": {
          "base_uri": "https://localhost:8080/"
        }
      },
      "outputs": [
        {
          "output_type": "stream",
          "name": "stdout",
          "text": [
            "--2025-09-13 11:36:51--  https://github.com/gt-cse-6040/bootcamp/raw/main/practice_exercises/voters.json\n",
            "Resolving github.com (github.com)... 140.82.112.3\n",
            "Connecting to github.com (github.com)|140.82.112.3|:443... connected.\n",
            "HTTP request sent, awaiting response... 302 Found\n",
            "Location: https://raw.githubusercontent.com/gt-cse-6040/bootcamp/main/practice_exercises/voters.json [following]\n",
            "--2025-09-13 11:36:51--  https://raw.githubusercontent.com/gt-cse-6040/bootcamp/main/practice_exercises/voters.json\n",
            "Resolving raw.githubusercontent.com (raw.githubusercontent.com)... 185.199.108.133, 185.199.109.133, 185.199.110.133, ...\n",
            "Connecting to raw.githubusercontent.com (raw.githubusercontent.com)|185.199.108.133|:443... connected.\n",
            "HTTP request sent, awaiting response... 200 OK\n",
            "Length: 328847 (321K) [text/plain]\n",
            "Saving to: ‘voters.json’\n",
            "\n",
            "voters.json         100%[===================>] 321.14K  --.-KB/s    in 0.03s   \n",
            "\n",
            "2025-09-13 11:36:51 (11.8 MB/s) - ‘voters.json’ saved [328847/328847]\n",
            "\n",
            "--2025-09-13 11:36:51--  https://github.com/gt-cse-6040/bootcamp/raw/main/practice_exercises/Rolling_Stone_500_public.json\n",
            "Resolving github.com (github.com)... 140.82.112.3\n",
            "Connecting to github.com (github.com)|140.82.112.3|:443... connected.\n",
            "HTTP request sent, awaiting response... 302 Found\n",
            "Location: https://raw.githubusercontent.com/gt-cse-6040/bootcamp/main/practice_exercises/Rolling_Stone_500_public.json [following]\n",
            "--2025-09-13 11:36:52--  https://raw.githubusercontent.com/gt-cse-6040/bootcamp/main/practice_exercises/Rolling_Stone_500_public.json\n",
            "Resolving raw.githubusercontent.com (raw.githubusercontent.com)... 185.199.110.133, 185.199.109.133, 185.199.108.133, ...\n",
            "Connecting to raw.githubusercontent.com (raw.githubusercontent.com)|185.199.110.133|:443... connected.\n",
            "HTTP request sent, awaiting response... 200 OK\n",
            "Length: 714833 (698K) [text/plain]\n",
            "Saving to: ‘Rolling_Stone_500_public.json’\n",
            "\n",
            "Rolling_Stone_500_p 100%[===================>] 698.08K  --.-KB/s    in 0.03s   \n",
            "\n",
            "2025-09-13 11:36:52 (21.0 MB/s) - ‘Rolling_Stone_500_public.json’ saved [714833/714833]\n",
            "\n"
          ]
        }
      ],
      "source": [
        "!wget https://github.com/gt-cse-6040/bootcamp/raw/main/practice_exercises/voters.json\n",
        "!wget https://github.com/gt-cse-6040/bootcamp/raw/main/practice_exercises/Rolling_Stone_500_public.json"
      ]
    },
    {
      "cell_type": "code",
      "execution_count": 5,
      "id": "13a71351",
      "metadata": {
        "id": "13a71351"
      },
      "outputs": [],
      "source": [
        "import json\n",
        "\n",
        "with open(\"voters.json\", \"r\") as read_file:\n",
        "    voters = json.load(read_file)\n",
        "read_file.close()\n",
        "\n",
        "with open(\"Rolling_Stone_500_public.json\", \"r\") as read_file:\n",
        "    albums = json.load(read_file)\n",
        "read_file.close()"
      ]
    },
    {
      "cell_type": "markdown",
      "id": "3cb1d2ad-3e77-4c1d-94f2-289f867beb77",
      "metadata": {
        "id": "3cb1d2ad-3e77-4c1d-94f2-289f867beb77"
      },
      "source": [
        "## As we noted in the description notebook, the feedback on the three lists focused on the following:\n",
        "\n",
        "- The `2003` list was heavily criticized for being male-dominated, outmoded, and almost entirely Anglo-American in focus.\n",
        "\n",
        "- The `2012` list was also heavily critcised in a similar manner, with one music critic noting that the only one album in the top 10 was less than 40 years old.\n",
        "\n",
        "- The `2020` list was much more diverse in its representation of different music genres, musicians, and time periods. Music critics were much more positive in their reviews of the list, noting the lesser representation of white male rock musicians, and the move to recognize more contemporary albums and a wider range of tastes."
      ]
    },
    {
      "cell_type": "markdown",
      "id": "a9eb04c0-8828-430b-934a-bab585494321",
      "metadata": {
        "id": "a9eb04c0-8828-430b-934a-bab585494321"
      },
      "source": [
        "## So our final two exercises will analyze the voter and albums data, to confirm or refute the list feedback.\n",
        "\n",
        "### Exercise 7 will focus on the voter demographics, and exercise 8 will be for the album demographics.\n",
        "\n",
        "### From the results of these two exercises, you will be able to understand the feedback and determine for yourselves if it valid."
      ]
    },
    {
      "cell_type": "markdown",
      "id": "b68d60fe-81ab-4293-8eb6-3e3bdb56738f",
      "metadata": {
        "id": "b68d60fe-81ab-4293-8eb6-3e3bdb56738f"
      },
      "source": [
        "# Ex. 7 (**3 points**): `voter_demographics` #\n",
        "\n",
        "Given a list of dictionaries, `voters_list`, complete the function,\n",
        "```python\n",
        "def voter_demographics(albums_list,years):\n",
        "    ...\n",
        "```\n",
        "so that it returns a list of dictionaries of the voter demographics for the voters in the `voters` variable that is passed in.\n",
        "\n",
        "**Input:**\n",
        "- A list of dictionaries, `voters_list`. It will have the same format as the `voters` variable above. For testing, it may or may not contain all of the values in the variable, so your code must account for a different number of voters to be in your input.\n",
        "- A list of integers of the year(s) to compute the demographics for. There may be one or more years in this list. The years may or may not correspond to the year(s) that voting occurred.\n",
        "\n",
        "**Your task:** Copy this list and output the list of dictionaries.\n",
        "\n",
        "**Output:** Return a list of dictionaries of the voter demographics for the albums in the `voters_list` variable that is passed in, without modifying the input `voters_list`. If the year passed in does not correspond to one of the years that voting occurred, return an empty list.\n",
        "\n",
        "Each entry of the dictionaries in the list should contain the the following key-value pairs:\n",
        "- Key = `'Year'`.\n",
        "- Value = String. Year that the voting occurred. Be aware of the data types for this variable.\n",
        "\n",
        "- Key = `'Median_Birth_Year'`.\n",
        "- Value = Integer. The median birth year for the voters who participated in that year's voting. Round the computed value so that the output is an integer.\n",
        "\n",
        "- Key = `'Average_Age'`.\n",
        "- Value = Integer. The average age for the voters who participated in that year's voting. Round the computed value so that the output is an integer.\n",
        "\n",
        "- Key = `'Median_Age'`.\n",
        "- Value = Integer. The median age for the voters who participated in that year's voting. Round the computed value so that the output is an integer.\n",
        "\n",
        "- Key = `'Teen_Decade'`.\n",
        "- Value = Sorted List of Tuples.\n",
        "\n",
        "    Each tuple will have two elements:\n",
        "      - String: The decade\n",
        "      - Integer: The number of voters in that Teen Decade\n",
        "      - The list of tuples should be sorted by the number of voters in descending order, with ties broken by the decade in ascending order.\n",
        "\n",
        "\n",
        "**Caveat(s)/comment(s)/hint(s):**\n",
        "1. The list of dictionaries passed into the function may be smaller or larger than the entire list of voters.\n",
        "\n",
        "2. Ensure that your data types are correct, as the data types input may not always be the same as what you need to output.\n",
        "\n",
        "3. For some voters, their age at the time of voting was not known. In these cases, the `Age_at_Vote` value is populated with `'N/A'`. Do not include these voters in your calculations.\n",
        "\n",
        "4. Using the statistics module and Counter function may be helpful in solving the exercise."
      ]
    },
    {
      "cell_type": "markdown",
      "id": "be778f7d-7f0e-4061-9fcc-ad2214c89c9e",
      "metadata": {
        "id": "be778f7d-7f0e-4061-9fcc-ad2214c89c9e"
      },
      "source": [
        "#### A properly-coded function will return the following dictionary, for the demo data (which is the year 2003):\n",
        "\n",
        "[{'Year': '2003',\n",
        "  'Median_Birth_Year': 1952,\n",
        "  'Average_Age': 50,\n",
        "  'Median_Age': 51,\n",
        "  'Teen_Decade': [('1970s', 92),\n",
        "   ('1960s', 68),\n",
        "   ('1980s', 54),\n",
        "   ('1990s', 30),\n",
        "   ('1950s', 14),\n",
        "   ('1940s', 4),\n",
        "   ('2000s', 4)]}]"
      ]
    },
    {
      "cell_type": "code",
      "execution_count": 4,
      "id": "843fd641",
      "metadata": {
        "id": "843fd641",
        "outputId": "7a9409bd-5a7e-4125-f1fc-dcbc99ce87ab",
        "colab": {
          "base_uri": "https://localhost:8080/",
          "height": 225
        }
      },
      "outputs": [
        {
          "output_type": "display_data",
          "data": {
            "text/plain": [
              "[{'Year': '2003',\n",
              "  'Median_Birth_Year': 1952,\n",
              "  'Average_Age': 50,\n",
              "  'Median_Age': 51,\n",
              "  'Teen_Decade': [('1970s', 92),\n",
              "   ('1960s', 68),\n",
              "   ('1980s', 54),\n",
              "   ('1990s', 30),\n",
              "   ('1950s', 14),\n",
              "   ('1940s', 4),\n",
              "   ('2000s', 4)]}]"
            ]
          },
          "metadata": {}
        },
        {
          "output_type": "stream",
          "name": "stdout",
          "text": [
            "passed demo data\n"
          ]
        }
      ],
      "source": [
        "### Exercise 7 solution -- 3 points ###\n",
        "def voter_demographics(voters,years):\n",
        "    import statistics\n",
        "    from collections import Counter\n",
        "    '''\n",
        "    for each year, compute:\n",
        "        0. Year of the vote\n",
        "        1. Median voter birth year\n",
        "        2. Voter average age\n",
        "        3. Voter median age\n",
        "        4. Count of teen decades\n",
        "    '''\n",
        "\n",
        "    ## YOUR CODE HERE\n",
        "    result = []\n",
        "    for year in years:\n",
        "      year_str = str(year)\n",
        "      filtered = [voter for voter in voters if voter['Year'] == year_str and voter['Age_at_Vote'] != 'N/A']\n",
        "      if len(filtered) > 0:\n",
        "        ages = [int(voter['Age_at_Vote']) for voter in filtered]\n",
        "        #print(\"ages : \",ages)\n",
        "        birth_year = [int(voter['Estimated_Birthyear']) for voter in filtered]\n",
        "        decades =  [voter['Teenage_Decade'] for voter in filtered]\n",
        "        decade_counter = Counter(decade for decade in decades)\n",
        "        #print(\"decade_counter : \",decade_counter)\n",
        "        sorted_decade = sorted(decade_counter.items(), key=lambda x: (-x[1],int(x[0][:4])))\n",
        "        #print(\"sorted_decade : \",sorted_decade)\n",
        "\n",
        "        result.append({\n",
        "           'Year': year_str,\n",
        "           'Median_Birth_Year': int(statistics.median(birth_year)),\n",
        "           'Average_Age': round(statistics.mean(ages)),\n",
        "           'Median_Age': int(statistics.median(ages)),\n",
        "           'Teen_Decade': sorted_decade\n",
        "        })\n",
        "\n",
        "    #print(\"result : \",result)\n",
        "    return result\n",
        "\n",
        "    #pass\n",
        "\n",
        "\n",
        "result5 = voter_demographics(voters,[2003])\n",
        "display(result5)\n",
        "assert result5 == [{'Year': '2003',\n",
        "  'Median_Birth_Year': 1952,\n",
        "  'Average_Age': 50,\n",
        "  'Median_Age': 51,\n",
        "  'Teen_Decade': [('1970s', 92),\n",
        "   ('1960s', 68),\n",
        "   ('1980s', 54),\n",
        "   ('1990s', 30),\n",
        "   ('1950s', 14),\n",
        "   ('1940s', 4),\n",
        "   ('2000s', 4)]}], 'Demo data does not pass.'\n",
        "print('passed demo data')\n",
        "\n",
        "# result_full = voter_demographics(voters,[2003,2020])\n",
        "# display(result_full)"
      ]
    },
    {
      "cell_type": "markdown",
      "id": "d0c162c3-f526-4431-b4e4-d97a8356982e",
      "metadata": {
        "id": "d0c162c3-f526-4431-b4e4-d97a8356982e"
      },
      "source": [
        "# Ex. 8 (**3 points**): `album_demographics` #\n",
        "\n",
        "Given a list of dictionaries, `albums_list`, complete the function,\n",
        "```python\n",
        "def album_demographics(albums_list,years):\n",
        "    ...\n",
        "```\n",
        "so that it returns a list of lists of dictionaries of the albums demographics for the albums in the `albums` variable that is passed in.\n",
        "\n",
        "**Input:**\n",
        "- A list of dictionaries, `albums_list`. It will have the same format as the `albums` variable above. For testing, it may or may not contain all of the values in the variable, so your code must account for a different number of albums to be in your input.\n",
        "\n",
        "**Your task:** Copy this list and output the list of lists of dictionaries.\n",
        "\n",
        "**Output:** Return a list of lists of dictionaries of the voter demographics for the albums in the `albums_list` variable that is passed in, without modifying the input `albums_list`.\n",
        "\n",
        "Each entry of the dictionaries in the nested list should contain the the following key-value pairs:\n",
        "- Key = `'Year'`.\n",
        "- Value = String. Year that the voting occurred. Be aware of the data types for this variable.\n",
        "\n",
        "- Key = `'Median Release Year'`.\n",
        "- Value = Integer. The median release year for the albums that were ranked in that year's voting. Round the computed value so that the output is an integer.\n",
        "\n",
        "- Key = `'Artist Gender Mix'`.\n",
        "- Value = Value = Sorted List of Tuples.\n",
        "\n",
        "    Each tuple will have two elements:\n",
        "      - String: The artist gender\n",
        "      - Integer: The number of artists with that gender\n",
        "      - The list of tuples should be in the order of 'Male', then 'Female', then 'Mixed'.\n",
        "\n",
        "- Key = `'Artist Median Birth Year'`.\n",
        "- Value = Integer. The median birth year for the artists whose albums were ranked for that year. Round the computed value so that the output is an integer. For groups in which there are multiple members, convert the sum of the birth years field to an integer, divide by the number band members also converted to an integer, and round the result.\n",
        "\n",
        "- Key = `'Average Billboard Peak'`.\n",
        "- Value = Integer. The average Billboard peak position for the albums that were ranked for that year. Round the computed value so that the output is an integer.\n",
        "\n",
        "    \n",
        "**Caveat(s)/comment(s)/hint(s):**\n",
        "1. The list of dictionaries passed into the function may be smaller or larger than the entire list of albums.\n",
        "\n",
        "2. Ensure that your data types are correct, as the data types input may not always be the same as what you need to output.\n",
        "\n",
        "3. The input dictionaries do not have `Mixed` as a value for the key `Artist Gender`. In groups that have both male and female members, the value is some form of \"Male/Female\", but the spacing and capitization may vary. This is dirty data. The only thing we know for sure is that there will be a forward slash `'` in the field. Translate these gender inputs to output as `Mixed`.\n",
        "\n",
        "4. Some of the albums that were ranked are know as `Compilation Albums`. What this means is that the songs on that album were not all performed by the same artist. An example of this is the album `The Best of the Girl Groups, Volume 1`, which is an album containing popular songs from the 1960s. In cases such as this, the `Clean_Name` field in the input dictionary will be `Various Artists`. Exclude these albums from your computations.\n",
        "\n",
        "https://en.wikipedia.org/wiki/The_Best_of_the_Girl_Groups\n",
        "\n",
        "\n",
        "5. Using the statistics module and Counter function may be helpful in solving the exercise.\n",
        "\n",
        "6. A helper function may be useful to perform repetitive operations."
      ]
    },
    {
      "cell_type": "markdown",
      "id": "38c7f43d-945e-40dd-b942-c671a0c40663",
      "metadata": {
        "id": "38c7f43d-945e-40dd-b942-c671a0c40663"
      },
      "source": [
        "#### A properly-coded function will return the following list of lists of dictionaries, for the demo data:\n",
        "\n",
        "[[{'Year': '2003'},\n",
        "  {'Median Release Year': 1961},\n",
        "  {'Artist Gender Mix': [('Male', 14), ('Female', 1)]},\n",
        "  {'Artist Median Birth Year': 1930},\n",
        "  {'Average Billboard Peak': 134}],\n",
        " [{'Year': '2012'},\n",
        "  {'Median Release Year': 1962},\n",
        "  {'Artist Gender Mix': [('Male', 12), ('Female', 2)]},\n",
        "  {'Artist Median Birth Year': 1930},\n",
        "  {'Average Billboard Peak': 144}],\n",
        " [{'Year': '2020'},\n",
        "  {'Median Release Year': 1992},\n",
        "  {'Artist Gender Mix': [('Female', 24), ('Male', 6)]},\n",
        "  {'Artist Median Birth Year': 1966},\n",
        "  {'Average Billboard Peak': 47}]]"
      ]
    },
    {
      "cell_type": "code",
      "execution_count": 6,
      "id": "72116cdc-a5cf-4479-a0df-19ac36cc9e53",
      "metadata": {
        "id": "72116cdc-a5cf-4479-a0df-19ac36cc9e53"
      },
      "outputs": [],
      "source": [
        "albums_demo = albums[10:50]"
      ]
    },
    {
      "cell_type": "code",
      "execution_count": 13,
      "id": "35f271a8",
      "metadata": {
        "id": "35f271a8",
        "outputId": "df0a9211-a189-4e24-b5e6-1f0b1a35ea0f",
        "colab": {
          "base_uri": "https://localhost:8080/",
          "height": 173
        }
      },
      "outputs": [
        {
          "output_type": "stream",
          "name": "stdout",
          "text": [
            "Peak_Billboard :  [201, 201, 201, 17, 201, 201, 201, 201, 201, 1, 201, 91, 22, 74, 201, 1]\n",
            "result  [{'Year': '2003', 'Median Release Year': 1961, 'Artist Gender Mix': Counter({'Male': 15, 'Female': 1}), 'Artist Median Birth Year': 0, 'Average Peak Billboard': 138}]\n",
            "Peak_Billboard :  [201, 201, 201, 17, 201, 201, 201, 201, 201, 1, 201, 91, 22, 74, 201]\n",
            "result  [{'Year': '2012', 'Median Release Year': 1961, 'Artist Gender Mix': Counter({'Male': 13, 'Female': 2}), 'Artist Median Birth Year': 0, 'Average Peak Billboard': 148}]\n",
            "Peak_Billboard :  [201, 1, 201, 2, 3, 201, 1, 13, 1, 201, 13, 1, 7, 11, 201, 201, 142, 5, 28, 9, 3, 1, 1, 91, 1, 38, 3, 22, 4, 4, 6, 1]\n",
            "result  [{'Year': '2020', 'Median Release Year': 1992, 'Artist Gender Mix': Counter({'Female': 25, 'Male': 7}), 'Artist Median Birth Year': 0, 'Average Peak Billboard': 51}]\n",
            "result_2003 : \n",
            " [{'Year': '2003', 'Median Release Year': 1961, 'Artist Gender Mix': Counter({'Male': 15, 'Female': 1}), 'Artist Median Birth Year': 0, 'Average Peak Billboard': 138}]\n"
          ]
        },
        {
          "output_type": "display_data",
          "data": {
            "text/plain": [
              "None"
            ]
          },
          "metadata": {}
        }
      ],
      "source": [
        "from collections import defaultdict\n",
        "### Exercise 8 solution -- 3 points ###\n",
        "def album_demographics(album_list):\n",
        "    '''\n",
        "    for each year, compute:\n",
        "        0. Year\n",
        "        1. Median release year\n",
        "        2. Artist gender count -- Male/Female set to \"Mixed\"\n",
        "        3. Median birth year of artist -- birth year / artist member count\n",
        "        4. Average peak billboard position\n",
        "    '''\n",
        "\n",
        "    ## YOUR CODE HERE\n",
        "    import statistics\n",
        "    from collections import Counter\n",
        "\n",
        "    def album_details(input_list,year):\n",
        "\n",
        "      #year_str = str(year)\n",
        "      result = []\n",
        "      Gender_list = []\n",
        "      Artist_Gender_Mix = []\n",
        "      Artist_Birth_Year_list = []\n",
        "      Release_Year_list = []\n",
        "      Peak_Billboard_list = []\n",
        "      Artist_Birth_Year_Sum = 0\n",
        "\n",
        "      for item in input_list:\n",
        "        Release_Year_list.append(int(item['Release_Year']))\n",
        "\n",
        "\n",
        "        if '/' in item['Artist_Gender']:\n",
        "          item['Artist_Gender'] = 'Mixed'\n",
        "        Gender_list.append(item['Artist_Gender'])\n",
        "        Artist_Gender_Mix = Counter(Gender_list)\n",
        "        #print(\"Artist_Gender_Mix : \",Artist_Gender_Mix)\n",
        "\n",
        "        if int(item['Artist_Member_Count']) > 1:\n",
        "          Artist_Birth_Year_Sum = round(int(item['Artist_Birth_Year_Sum'])/int(item['Artist_Member_Count']))\n",
        "\n",
        "        Artist_Birth_Year_list.append(Artist_Birth_Year_Sum)\n",
        "        Artist_Birth_Year_Sum = 0\n",
        "        #print(\"Artist_Birth_Year : \",Artist_Birth_Year)\n",
        "\n",
        "        Peak_Billboard_list.append(int(item['Peak_Billboard_Position']))\n",
        "\n",
        "\n",
        "      print(\"Peak_Billboard : \",Peak_Billboard_list)\n",
        "      result.append({\n",
        "            'Year': year,\n",
        "            'Median Release Year': int(statistics.median(Release_Year_list)),\n",
        "            'Artist Gender Mix': Artist_Gender_Mix,\n",
        "            'Artist Median Birth Year': int(statistics.median(Artist_Birth_Year_list)),\n",
        "            'Average Peak Billboard': round(statistics.mean(Peak_Billboard_list))\n",
        "          })\n",
        "\n",
        "      print(\"result \",result)\n",
        "      return result\n",
        "\n",
        "    list_2003 = []\n",
        "    list_2012 = []\n",
        "    list_2020 = []\n",
        "    result_2003, result_2012, result_2020 = {}, {}, {}\n",
        "\n",
        "    for album in album_list:\n",
        "      #print(album)\n",
        "      if album['Clean_Name'] != 'Various Artists':\n",
        "        if album['2003_Rank'] != '' :\n",
        "          list_2003.append(album)\n",
        "        if album['2012_Rank'] != '':\n",
        "          list_2012.append(album)\n",
        "        if album['2020_Rank'] != '':\n",
        "          list_2020.append(album)\n",
        "\n",
        "    result_2003 = album_details(list_2003,'2003')\n",
        "    result_2012 = album_details(list_2012,'2012')\n",
        "    result_2020 = album_details(list_2020,'2020')\n",
        "\n",
        "    print(\"result_2003 : \\n\",result_2003)\n",
        "\n",
        "    #print(\"list_2003 : \",[item['Artist_Gender'] for item in list_2003])\n",
        "    #print(\"list_2012 : \",len(list_2012))\n",
        "    #print(\"list_2020 : \",len(list_2020))\n",
        "\n",
        "\n",
        "    pass\n",
        "\n",
        "\n",
        "\n",
        "\n",
        "result = album_demographics(albums_demo)\n",
        "display(result)\n",
        "\n",
        "#result2 = album_demographics(albums)\n",
        "#display(result2)"
      ]
    },
    {
      "cell_type": "code",
      "execution_count": null,
      "id": "7fafaafa",
      "metadata": {
        "editable": true,
        "tags": [],
        "id": "7fafaafa"
      },
      "outputs": [],
      "source": []
    }
  ],
  "metadata": {
    "celltoolbar": "Edit Metadata",
    "hide_input": false,
    "interpreter": {
      "hash": "f2b38b6e01547e8f771d473ea2b8718fd0728eea782e4c924ed8783f739d4a6c"
    },
    "kernelspec": {
      "display_name": "Python 3 (ipykernel)",
      "language": "python",
      "name": "python3"
    },
    "language_info": {
      "codemirror_mode": {
        "name": "ipython",
        "version": 3
      },
      "file_extension": ".py",
      "mimetype": "text/x-python",
      "name": "python",
      "nbconvert_exporter": "python",
      "pygments_lexer": "ipython3",
      "version": "3.12.7"
    },
    "toc": {
      "base_numbering": 1,
      "nav_menu": {},
      "number_sections": false,
      "sideBar": true,
      "skip_h1_title": false,
      "title_cell": "Table of Contents",
      "title_sidebar": "Contents",
      "toc_cell": false,
      "toc_position": {
        "height": "calc(100% - 180px)",
        "left": "10px",
        "top": "150px",
        "width": "247px"
      },
      "toc_section_display": true,
      "toc_window_display": true
    },
    "colab": {
      "provenance": [],
      "include_colab_link": true
    }
  },
  "nbformat": 4,
  "nbformat_minor": 5
}