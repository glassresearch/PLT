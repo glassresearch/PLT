{
  "cells": [
    {
      "cell_type": "markdown",
      "metadata": {
        "id": "view-in-github",
        "colab_type": "text"
      },
      "source": [
        "<a href=\"https://colab.research.google.com/github/glassresearch/PLT/blob/master/Python%20colab%20Georgia%20Tech/numpy_boolean_mask_FA25.ipynb\" target=\"_parent\"><img src=\"https://colab.research.google.com/assets/colab-badge.svg\" alt=\"Open In Colab\"/></a>"
      ]
    },
    {
      "cell_type": "markdown",
      "id": "0acde91d",
      "metadata": {
        "id": "0acde91d"
      },
      "source": [
        "# Numpy Boolean Masks"
      ]
    },
    {
      "cell_type": "code",
      "execution_count": 2,
      "id": "1c9e9523",
      "metadata": {
        "id": "1c9e9523"
      },
      "outputs": [],
      "source": [
        "import numpy as np\n",
        "import random"
      ]
    },
    {
      "cell_type": "markdown",
      "id": "9f991718",
      "metadata": {
        "id": "9f991718"
      },
      "source": [
        "### Why are we covering this topic?\n",
        "\n",
        "#### Historically, students have had difficulty understanding the boolean mask concept when asked to use it in homework and exam exercises. So we introduce it here, to help with that understanding. We will not be doing complex exercises here, but simply introducing the concept.\n",
        "\n",
        "Additionally, there are many instances in real world data analysis in which we want to only return the data elements the meet (or don't meet) some condition. So understanding what these masks are and how they are used is a necessary skill for DA/DS roles.\n",
        "\n",
        "Finally, students will see that most of the previous MT2 and Final Exams (though not all) asked the students to do some form of selection, from either a pandas dataframe or numpy array, and the application of a boolean mask to the data structure would be the most appropriate manner of solving the requirement."
      ]
    },
    {
      "cell_type": "markdown",
      "id": "079ca192",
      "metadata": {
        "id": "079ca192"
      },
      "source": [
        "# Numpy boolean masks"
      ]
    },
    {
      "cell_type": "markdown",
      "id": "e74cb74e",
      "metadata": {
        "id": "e74cb74e"
      },
      "source": [
        "### What is a boolean mask?\n",
        "\n",
        "**In pandas, as we saw earlier, a mask is used filter and return only the rows that meet a certain condition.**\n",
        "\n",
        "What is returned is only the rows that meet the masking condition.\n",
        "\n",
        "For a good example and review, see this link, down toward the bottom, where it discusses Boolean Masks:  https://www.geeksforgeeks.org/boolean-indexing-in-pandas/"
      ]
    },
    {
      "cell_type": "markdown",
      "id": "d274dc42-3cda-4c3a-a4cb-27e1e21fc82e",
      "metadata": {
        "id": "d274dc42-3cda-4c3a-a4cb-27e1e21fc82e"
      },
      "source": [
        "**In numpy however, a mask creates a \"truth array\" of the same shape as the source array being compared.**\n",
        "\n",
        "Each element in the \"truth array\" will have a value of either `True` or `False`, depending on the result of the comparison on that element in the source array.\n",
        "\n",
        "You can then use the truth array to filter/select only the source array elements that you need in your exercise."
      ]
    },
    {
      "cell_type": "code",
      "execution_count": 3,
      "id": "8e615152",
      "metadata": {
        "id": "8e615152",
        "outputId": "25b153fd-10ab-4629-a2d8-911c3d194eba",
        "colab": {
          "base_uri": "https://localhost:8080/",
          "height": 69
        }
      },
      "outputs": [
        {
          "output_type": "display_data",
          "data": {
            "text/plain": [
              "array([[4, 7, 1],\n",
              "       [7, 0, 5],\n",
              "       [9, 4, 2]])"
            ]
          },
          "metadata": {}
        }
      ],
      "source": [
        "# create two 2x2 numpy arrays\n",
        "a = np.random.randint(0,10,(3,3))\n",
        "display(a)"
      ]
    },
    {
      "cell_type": "code",
      "execution_count": 4,
      "id": "679ed47a",
      "metadata": {
        "id": "679ed47a",
        "outputId": "e8edc7df-4d08-42e1-c388-7468da8d2ea4",
        "colab": {
          "base_uri": "https://localhost:8080/"
        }
      },
      "outputs": [
        {
          "output_type": "execute_result",
          "data": {
            "text/plain": [
              "array([4, 1, 0, 4, 2])"
            ]
          },
          "metadata": {},
          "execution_count": 4
        }
      ],
      "source": [
        "a < 5\n",
        "a[a<5]"
      ]
    },
    {
      "cell_type": "code",
      "execution_count": 5,
      "id": "91d147c7",
      "metadata": {
        "id": "91d147c7",
        "outputId": "2a8280ef-7063-4a5d-a84b-2702cddf4310",
        "colab": {
          "base_uri": "https://localhost:8080/",
          "height": 86
        }
      },
      "outputs": [
        {
          "output_type": "display_data",
          "data": {
            "text/plain": [
              "array([[ True, False,  True],\n",
              "       [False,  True, False],\n",
              "       [False,  True,  True]])"
            ]
          },
          "metadata": {}
        },
        {
          "output_type": "display_data",
          "data": {
            "text/plain": [
              "dtype('bool')"
            ]
          },
          "metadata": {}
        }
      ],
      "source": [
        "# using parentheses for readability\n",
        "truth_less_than_five = (a < 5)\n",
        "display(truth_less_than_five)\n",
        "display(truth_less_than_five.dtype)"
      ]
    },
    {
      "cell_type": "code",
      "execution_count": 6,
      "id": "31eebe75",
      "metadata": {
        "id": "31eebe75",
        "outputId": "2431fb62-e109-4449-f617-5d407c372cdb",
        "colab": {
          "base_uri": "https://localhost:8080/",
          "height": 86
        }
      },
      "outputs": [
        {
          "output_type": "display_data",
          "data": {
            "text/plain": [
              "array([[False,  True, False],\n",
              "       [ True, False,  True],\n",
              "       [ True, False, False]])"
            ]
          },
          "metadata": {}
        },
        {
          "output_type": "display_data",
          "data": {
            "text/plain": [
              "dtype('bool')"
            ]
          },
          "metadata": {}
        }
      ],
      "source": [
        "# using parentheses for readability\n",
        "truth_greater_equal_five = (a >= 5)\n",
        "display(truth_greater_equal_five)\n",
        "display(truth_greater_equal_five.dtype)"
      ]
    },
    {
      "cell_type": "markdown",
      "id": "d490c108-20ad-4394-807f-54c3c1a9ccd6",
      "metadata": {
        "id": "d490c108-20ad-4394-807f-54c3c1a9ccd6"
      },
      "source": [
        "### So now that we have the truth array, what can we do with it?\n",
        "\n",
        "1. We can return the values in the source array that meet (or do not meet) the truth condition. We do this by addressing the source array directly, with the truth condition itself.\n",
        "\n",
        "    -- To select these values from the array, we simply index on the Boolean array; this is known as a masking operation.\n",
        "\n",
        "2. We can return the (row,column) locations within the source array that meet (or do not meet) the truth condition. We do this using the numpy function np.where().\n",
        "\n",
        "#### Let's look at an example, first scenario."
      ]
    },
    {
      "cell_type": "code",
      "execution_count": 7,
      "id": "7dad4519-f2c0-4413-bf28-6b0778eeb4f3",
      "metadata": {
        "id": "7dad4519-f2c0-4413-bf28-6b0778eeb4f3",
        "outputId": "f0975200-4d53-4fff-ac40-0644eae42844",
        "colab": {
          "base_uri": "https://localhost:8080/"
        }
      },
      "outputs": [
        {
          "output_type": "execute_result",
          "data": {
            "text/plain": [
              "array([[4, 7, 1],\n",
              "       [7, 0, 5],\n",
              "       [9, 4, 2]])"
            ]
          },
          "metadata": {},
          "execution_count": 7
        }
      ],
      "source": [
        "a"
      ]
    },
    {
      "cell_type": "code",
      "execution_count": 8,
      "id": "b2354ed8-8cee-46c6-b368-87f43227b295",
      "metadata": {
        "id": "b2354ed8-8cee-46c6-b368-87f43227b295",
        "outputId": "7d8197ad-e11d-4f07-ee54-8bdff2de413a",
        "colab": {
          "base_uri": "https://localhost:8080/"
        }
      },
      "outputs": [
        {
          "output_type": "execute_result",
          "data": {
            "text/plain": [
              "array([4, 1, 0, 4, 2])"
            ]
          },
          "metadata": {},
          "execution_count": 8
        }
      ],
      "source": [
        "# select the values in the array that meet the condition.\n",
        "a[a < 5]"
      ]
    },
    {
      "cell_type": "code",
      "execution_count": 9,
      "id": "1d759761-9bf2-4b69-bfd6-b51a924513e5",
      "metadata": {
        "id": "1d759761-9bf2-4b69-bfd6-b51a924513e5",
        "outputId": "3d4d2cf0-7508-48e8-fcbd-0488dda5d676",
        "colab": {
          "base_uri": "https://localhost:8080/"
        }
      },
      "outputs": [
        {
          "output_type": "execute_result",
          "data": {
            "text/plain": [
              "array([4, 1, 0, 4, 2])"
            ]
          },
          "metadata": {},
          "execution_count": 9
        }
      ],
      "source": [
        "# select the values in the array that meet the condition.\n",
        "a[truth_less_than_five]"
      ]
    },
    {
      "cell_type": "markdown",
      "id": "90f52d9e-8445-40a6-afef-4adfce252d64",
      "metadata": {
        "id": "90f52d9e-8445-40a6-afef-4adfce252d64"
      },
      "source": [
        "What is returned is a one-dimensional array filled with all the values that meet this condition; in other words, all the values in positions at which the mask array is `True`.\n",
        "\n",
        "**We can then use these values as required in the exercise. This is the key takeaway here. When we want to filter/return only the values that meet some criteria, we want to use a Boolean Mask to do so.**"
      ]
    },
    {
      "cell_type": "markdown",
      "id": "6e3286c9-a4ce-436c-8720-7a0bcf3062cb",
      "metadata": {
        "id": "6e3286c9-a4ce-436c-8720-7a0bcf3062cb"
      },
      "source": [
        "#### What about the second scenario, in which we want to return the (row,column) locations of the data elements that meet (or do not meet) the condition?\n",
        "\n",
        "We can use `np.where()` for this.\n",
        "\n",
        "This function can take 3 parameters, and it has many uses. For our purposes, we are going to show a very simple way to use it. Students should review the below links for additional usages.\n",
        "\n",
        "https://numpy.org/doc/2.2/reference/generated/numpy.where.html\n",
        "\n",
        "https://www.geeksforgeeks.org/numpy-where-in-python/#using-numpywhere-with-x-and-y"
      ]
    },
    {
      "cell_type": "markdown",
      "id": "5b22920f-7f4e-40b7-9308-fbde3ea3f9cb",
      "metadata": {
        "id": "5b22920f-7f4e-40b7-9308-fbde3ea3f9cb"
      },
      "source": [
        "#### When you use np.where() with a 2D array and a condition, it returns a tuple of arrays.\n",
        "\n",
        "#### The first array in the tuple contains the row indices where the condition is true, and the second array in the tuple contains the corresponding column indices."
      ]
    },
    {
      "cell_type": "code",
      "execution_count": 10,
      "id": "252be0d8-3e6d-49f4-8908-b7883af40c7c",
      "metadata": {
        "id": "252be0d8-3e6d-49f4-8908-b7883af40c7c",
        "outputId": "fb637d2a-9bea-4527-ebd3-fafa0f54fada",
        "colab": {
          "base_uri": "https://localhost:8080/"
        }
      },
      "outputs": [
        {
          "output_type": "execute_result",
          "data": {
            "text/plain": [
              "array([[4, 7, 1],\n",
              "       [7, 0, 5],\n",
              "       [9, 4, 2]])"
            ]
          },
          "metadata": {},
          "execution_count": 10
        }
      ],
      "source": [
        "a"
      ]
    },
    {
      "cell_type": "code",
      "source": [
        "np.where(a<5,a,'silly')"
      ],
      "metadata": {
        "id": "2k--EtLs82N0",
        "outputId": "7b01301c-104c-4cbc-cac3-d6d2fec0b3bc",
        "colab": {
          "base_uri": "https://localhost:8080/"
        }
      },
      "id": "2k--EtLs82N0",
      "execution_count": 11,
      "outputs": [
        {
          "output_type": "execute_result",
          "data": {
            "text/plain": [
              "array([['4', 'silly', '1'],\n",
              "       ['silly', '0', 'silly'],\n",
              "       ['silly', '4', '2']], dtype='<U21')"
            ]
          },
          "metadata": {},
          "execution_count": 11
        }
      ]
    },
    {
      "cell_type": "code",
      "execution_count": 13,
      "id": "de816259-6f6c-438b-b2cf-7d587b74f4da",
      "metadata": {
        "id": "de816259-6f6c-438b-b2cf-7d587b74f4da",
        "outputId": "f9989503-223a-45c7-f9db-db51a71569b2",
        "colab": {
          "base_uri": "https://localhost:8080/"
        }
      },
      "outputs": [
        {
          "output_type": "execute_result",
          "data": {
            "text/plain": [
              "(array([0, 0, 1, 2, 2]), array([0, 2, 1, 1, 2]))"
            ]
          },
          "metadata": {},
          "execution_count": 13
        }
      ],
      "source": [
        "# show the tuple\n",
        "return_tuple = np.where(a<5)\n",
        "return_tuple"
      ]
    },
    {
      "cell_type": "markdown",
      "id": "a8ced382-9b7c-42aa-b6a3-620331cda41d",
      "metadata": {
        "id": "a8ced382-9b7c-42aa-b6a3-620331cda41d"
      },
      "source": [
        "#### We know that the tuple returns rows and columns, so we can put them in their own variables."
      ]
    },
    {
      "cell_type": "code",
      "execution_count": 14,
      "id": "cadad3ea-6442-4b54-885f-7206023b4a65",
      "metadata": {
        "id": "cadad3ea-6442-4b54-885f-7206023b4a65",
        "outputId": "3c838178-2c46-4b00-b913-a3259251f2d6",
        "colab": {
          "base_uri": "https://localhost:8080/"
        }
      },
      "outputs": [
        {
          "output_type": "stream",
          "name": "stdout",
          "text": [
            "Row indices: [0 0 1 2 2]\n",
            "Column indices: [0 2 1 1 2]\n"
          ]
        }
      ],
      "source": [
        "rows, columns = np.where(a<5)\n",
        "print(\"Row indices:\", rows)\n",
        "print(\"Column indices:\", columns)"
      ]
    },
    {
      "cell_type": "markdown",
      "id": "5669a6ea-5a0b-4d7a-9f16-f6af2eb5b711",
      "metadata": {
        "id": "5669a6ea-5a0b-4d7a-9f16-f6af2eb5b711"
      },
      "source": [
        "#### To return the values, address the array with the row and column indices."
      ]
    },
    {
      "cell_type": "code",
      "execution_count": 15,
      "id": "3a080810-101d-4443-90d9-dbf2b9ab2c50",
      "metadata": {
        "id": "3a080810-101d-4443-90d9-dbf2b9ab2c50",
        "outputId": "b0d8a3f2-49ec-448c-aa24-afbe92c86d43",
        "colab": {
          "base_uri": "https://localhost:8080/"
        }
      },
      "outputs": [
        {
          "output_type": "stream",
          "name": "stdout",
          "text": [
            "Selected elements: [4 1 0 4 2]\n"
          ]
        }
      ],
      "source": [
        "selected_elements = a[rows,columns]\n",
        "print(\"Selected elements:\", selected_elements)"
      ]
    },
    {
      "cell_type": "markdown",
      "id": "32d0ee13-7957-41c8-9bb6-3417feb397ed",
      "metadata": {
        "id": "32d0ee13-7957-41c8-9bb6-3417feb397ed"
      },
      "source": [
        "#### Using the truth array from above."
      ]
    },
    {
      "cell_type": "code",
      "execution_count": 16,
      "id": "a0dcb151-0eba-4abb-8884-1c72e4b5d575",
      "metadata": {
        "id": "a0dcb151-0eba-4abb-8884-1c72e4b5d575",
        "outputId": "3755ae47-d8c0-4e21-f782-b86bd7497fd5",
        "colab": {
          "base_uri": "https://localhost:8080/"
        }
      },
      "outputs": [
        {
          "output_type": "execute_result",
          "data": {
            "text/plain": [
              "array([[ True, False,  True],\n",
              "       [False,  True, False],\n",
              "       [False,  True,  True]])"
            ]
          },
          "metadata": {},
          "execution_count": 16
        }
      ],
      "source": [
        "truth_less_than_five"
      ]
    },
    {
      "cell_type": "code",
      "execution_count": 17,
      "id": "563d11ea-9749-4a64-baca-ea2535a1e76f",
      "metadata": {
        "id": "563d11ea-9749-4a64-baca-ea2535a1e76f",
        "outputId": "79929a32-c912-4316-bb79-5cdd9bf2262c",
        "colab": {
          "base_uri": "https://localhost:8080/"
        }
      },
      "outputs": [
        {
          "output_type": "stream",
          "name": "stdout",
          "text": [
            "Row indices: [0 0 1 2 2]\n",
            "Column indices: [0 2 1 1 2]\n"
          ]
        }
      ],
      "source": [
        "rows1, columns1 = np.where(truth_less_than_five)\n",
        "print(\"Row indices:\", rows1)\n",
        "print(\"Column indices:\", columns1)"
      ]
    },
    {
      "cell_type": "code",
      "execution_count": 18,
      "id": "41840a04-5e57-401a-96db-1b4d792cf55f",
      "metadata": {
        "id": "41840a04-5e57-401a-96db-1b4d792cf55f",
        "outputId": "58a6fdde-446f-49c8-fa48-3faf17001aad",
        "colab": {
          "base_uri": "https://localhost:8080/"
        }
      },
      "outputs": [
        {
          "output_type": "stream",
          "name": "stdout",
          "text": [
            "Selected elements1: [4 1 0 4 2]\n"
          ]
        }
      ],
      "source": [
        "selected_elements1 = a[rows1,columns1]\n",
        "print(\"Selected elements1:\", selected_elements1)"
      ]
    },
    {
      "cell_type": "markdown",
      "id": "235d9092",
      "metadata": {
        "id": "235d9092"
      },
      "source": [
        "**You will see applications of these ideas in the homework notebooks and sample/practice midterm and final exam notebooks.**"
      ]
    },
    {
      "cell_type": "markdown",
      "id": "ffd98d10",
      "metadata": {
        "id": "ffd98d10"
      },
      "source": [
        "The numpy documentation has an excellent reference on the logic and functions you can use when applying Boolean Masks:  https://numpy.org/doc/stable/reference/routines.logic.html\n",
        "\n",
        "As noted previously, Vanderplas has a good introduction to Boolean Masks in his book:  https://jakevdp.github.io/PythonDataScienceHandbook/02.06-boolean-arrays-and-masks.html"
      ]
    },
    {
      "cell_type": "markdown",
      "id": "aa86e53c",
      "metadata": {
        "id": "aa86e53c"
      },
      "source": [
        "### What are your questions on Boolean Masks in Numpy?"
      ]
    },
    {
      "cell_type": "code",
      "execution_count": null,
      "id": "5801c701-3a67-48c6-815b-9bdb1c7b845c",
      "metadata": {
        "id": "5801c701-3a67-48c6-815b-9bdb1c7b845c"
      },
      "outputs": [],
      "source": []
    }
  ],
  "metadata": {
    "colab": {
      "provenance": [],
      "include_colab_link": true
    },
    "kernelspec": {
      "display_name": "Python 3 (ipykernel)",
      "language": "python",
      "name": "python3"
    },
    "language_info": {
      "codemirror_mode": {
        "name": "ipython",
        "version": 3
      },
      "file_extension": ".py",
      "mimetype": "text/x-python",
      "name": "python",
      "nbconvert_exporter": "python",
      "pygments_lexer": "ipython3",
      "version": "3.12.7"
    }
  },
  "nbformat": 4,
  "nbformat_minor": 5
}