{
  "cells": [
    {
      "cell_type": "markdown",
      "metadata": {
        "id": "view-in-github",
        "colab_type": "text"
      },
      "source": [
        "<a href=\"https://colab.research.google.com/github/glassresearch/PLT/blob/master/Python%20colab%20Georgia%20Tech/sort%20dict%20by%20value%20descend%20key%20ascend.ipynb\" target=\"_parent\"><img src=\"https://colab.research.google.com/assets/colab-badge.svg\" alt=\"Open In Colab\"/></a>"
      ]
    },
    {
      "cell_type": "markdown",
      "metadata": {
        "nbgrader": {
          "grade": false,
          "locked": false,
          "solution": false
        },
        "id": "zRIbcMBSali1"
      },
      "source": [
        "# Problem 7\n",
        "\n",
        "**Letter frequencies.** This problem has three (3) exercises worth a total of ten (10) points."
      ]
    },
    {
      "cell_type": "markdown",
      "metadata": {
        "id": "t1e5P_3pali3"
      },
      "source": [
        "Letter frequency in text has been studied in cryptoanalysis, in particular frequency analysis. Linguists use letter frequency analysis as a rudimentary technique for language identification, where it's particularly effective as an indicator of whether an unknown writing system is alphabetic, syllablic, or ideographic.\n",
        "\n",
        "Primarily, three different ways exist for letter frequency analysis. Each way generally results in very different charts for common letters. Based on the provided text, the first method is to count letter frequency in root words of a dictionary. The second way is to include all word variants when counting, such as gone, going and goes and not just the root word go. Such a system results in letters like \"s\" appearing much more frequently. The last variant is to count letters based on their frequency in the actual text that is being studied.\n",
        "\n",
        "For more details, refer to the link:\n",
        "https://en.wikipedia.org/wiki/Letter_frequency\n",
        "\n",
        "In this problem, we will focus on the 3rd methodology."
      ]
    },
    {
      "cell_type": "markdown",
      "metadata": {
        "id": "evoLHhbwali4"
      },
      "source": [
        "**Exercise 0** (2 points). First, given a string input, define a function  `preprocess` that returns a string with non-alphabetic characters removed and all the alphabets converted into a lower case.\n",
        "\n",
        "For example, 'We are coding letter Frequency! Yay!\" would be transformed into \"wearecodingletterfrequencyyay\""
      ]
    },
    {
      "cell_type": "code",
      "execution_count": 12,
      "metadata": {
        "id": "eVry6oOFali4"
      },
      "outputs": [],
      "source": [
        "def preprocess(S):\n",
        "    ### YOUR CODE HERE\n",
        "\n",
        "#   GOAL:\n",
        "#   Return a string with non-alphabetic characters removed and all the alphabets converted into a lower case.\n",
        "\n",
        "#   INPUT:\n",
        "#   A string named 'S' to be processed.\n",
        "\n",
        "#   STRATEGY:\n",
        "#   1. Create an empty string. Let's call this 'final_string'\n",
        "#   2. Get lowercase version of input 'S'. Let's call this 'S_lower'\n",
        "#   2. Iterate over all of the characters in 'S_lower'\n",
        "#        3. If the character is a letter, add it to 'final_string'\n",
        "#   4. Return 'final_string'\n",
        "\n",
        "#   My Google Search: 'python find if letter'\n",
        "#   Link I found: https://www.geeksforgeeks.org/python-program-to-check-if-a-string-has-at-least-one-letter-and-one-number/\n",
        "\n",
        "#   SOLUTION:\n",
        "    final_string = ''\n",
        "    S_lower = S.lower()\n",
        "    '''\n",
        "    for character in S_lower:\n",
        "        if character.isalpha():\n",
        "            final_string += character\n",
        "    '''\n",
        "    ret_string = \"\".join(letter for letter in S.lower() if letter.isalpha())\n",
        "    return ret_string\n",
        "\n",
        "    #return final_string\n"
      ]
    },
    {
      "cell_type": "code",
      "execution_count": 13,
      "metadata": {
        "nbgrader": {
          "grade": true,
          "grade_id": "valid_string",
          "locked": true,
          "points": "2",
          "solution": false
        },
        "id": "hZLpJExXali5",
        "outputId": "6d9fa633-7a52-46fd-b7bc-a21b1bc0c103",
        "colab": {
          "base_uri": "https://localhost:8080/"
        }
      },
      "outputs": [
        {
          "output_type": "stream",
          "name": "stdout",
          "text": [
            "Input String:  +,E@']uu8t|urw&R^\"[<J}pezkKk6Kxospa6~0`ac*IT-DR{Ta&R*cj]^7L{.yD+FLf:p7Hj|c5Z1%aJ<@fK7[kil?s_q'\"\"'i]%\n",
            "|----Your function seems to work correct for the string----|\n",
            "\n",
            "Input String:  %Yt*~Arf]$\\SR\"{dX@8bftXi}MX45Sckr9:PJF]~7gPr;Agaqr\"^u#+u2[`IBccX=;a=5ddN.8}J_43vg>T0_$F/U~HNKCc-n;NO\n",
            "|----Your function seems to work correct for the string----|\n",
            "\n",
            "Input String:  Y\"coh5PZCcyOE.b7;=RV7(lz[f=MBNf<lwqmRy.!%Yl?,]a^:6Tt<1#RS:Gb&-rz24}gzCjs\\,f$Jg^0TuJ(JiX}dc<J(XOSI(m]\n",
            "|----Your function seems to work correct for the string----|\n",
            "\n",
            "\n",
            "(Passed)!\n"
          ]
        }
      ],
      "source": [
        "# Test cell: valid_string\n",
        "import random, string\n",
        "\n",
        "N_str = 100 #Length of random string\n",
        "\n",
        "def generate_str(n):\n",
        "    random_str = ''.join(random.choice(string.ascii_lowercase + string.ascii_uppercase + string.digits + string.punctuation) for _ in range(n))\n",
        "    return random_str\n",
        "\n",
        "def check_preprocess_str(n):\n",
        "    random_str = generate_str(n)\n",
        "    print(\"Input String: \",random_str)\n",
        "    assert preprocess(random_str).islower() == True\n",
        "    assert preprocess(random_str).isalpha() == True\n",
        "    print(\"|----Your function seems to work correct for the string----|\"+\"\\n\")\n",
        "\n",
        "check_preprocess_str(N_str)\n",
        "check_preprocess_str(N_str)\n",
        "check_preprocess_str(N_str)\n",
        "\n",
        "print(\"\\n(Passed)!\")"
      ]
    },
    {
      "cell_type": "markdown",
      "metadata": {
        "id": "eekpVNZ0ali5"
      },
      "source": [
        "**Exercise 1** (4 points). With the necessary pre-processing complete, the next step is to write a function `count_letters(S)` to count the number of occurrences of each letter in the alphabet.  \n",
        "\n",
        "You can assume that only letters will be present in the input string. It should output a dictionary and if any alphabet (a-z) is missing in the input string, it should still be a part of the output dictionary and its corresponding value should be equal to zero.\n"
      ]
    },
    {
      "cell_type": "code",
      "execution_count": 14,
      "metadata": {
        "id": "q-SjNZj9ali6"
      },
      "outputs": [],
      "source": [
        "def count_letters(S):\n",
        "    ### YOUR CODE HERE\n",
        "\n",
        "#   GOAL:\n",
        "#   Count the number of occurrences of each letter in the alphabet.\n",
        "#   Output a dictionary, and if any alphabet (a-z) is missing in the input string,\n",
        "#   it should still be a part of the output dictionary,\n",
        "#   and its corresponding value should be equal to zero.\n",
        "\n",
        "#   INPUT:\n",
        "#   A string 'S' which contains only letters.\n",
        "\n",
        "#   STRATEGY:\n",
        "#   1. Create an empty dictionary. Let's call this 'final_dict'\n",
        "#   2. Create string with all letters a-z, which will become the keys in our final dictionary. Let's call this 'all_letters'\n",
        "#   3. Iterate over each letter in 'all_letters' string.\n",
        "#         4. Count the number of times that letter appears in our input string 'S'\n",
        "#         5. Create a key, value pair in 'final_dict' where the key is the letter and its value is the count found in Step 4.\n",
        "#   6. Return 'final_dict'\n",
        "\n",
        "#   My Google Searches: 'python get all letters' and 'python count occurrences in string'\n",
        "#   Links I found:\n",
        "#   https://www.javatpoint.com/alphabet-in-python\n",
        "#   https://www.programiz.com/python-programming/methods/string/count#google_vignette\n",
        "\n",
        "#   SOLUTION:\n",
        "    final_dict = {}\n",
        "\n",
        "    # create the string of all lowercase letters\n",
        "    all_letters = string.ascii_lowercase\n",
        "\n",
        "    for letter in all_letters:\n",
        "        final_dict[letter] = S.count(letter) # why don't we need to detect if the key is already there?\\\n",
        "\n",
        "\n",
        "    return final_dict"
      ]
    },
    {
      "cell_type": "code",
      "execution_count": 15,
      "metadata": {
        "nbgrader": {
          "grade": true,
          "grade_id": "count_letters",
          "locked": true,
          "points": "4",
          "solution": false
        },
        "scrolled": true,
        "id": "dj0snU3eali6",
        "outputId": "6b12ddcb-e36a-4bf6-d219-aea3775e4843",
        "colab": {
          "base_uri": "https://localhost:8080/"
        }
      },
      "outputs": [
        {
          "output_type": "stream",
          "name": "stdout",
          "text": [
            "Input String:  fcexwlfagwnhxdvejidykkfrckllixpqzmzuzuwvwequqqhppozrugesgpxyiuwgqsdwxehajwfksuivkhenrwargfortvgckizz\n",
            "Character frequency evaluated for:  u\n",
            "|----Your function seems to return correct freq for the char----|\n",
            "\n",
            "Input String:  qrbptbqqourxammrqjugbbynevvrwgatijdgnlkdokijhkegtvxfeygcibsdfqijuravhedbtodmtoxazumdbmrqtiqqdvkrynbn\n",
            "Character frequency evaluated for:  g\n",
            "|----Your function seems to return correct freq for the char----|\n",
            "\n",
            "Input String:  jolgukjrlfgqrdfszfecoghdobrzvyzgytyirddjiopdfpxatekncoojrrnwnlgsqmjlnewecezradgdtdhbzzrfcurjmvoxxphh\n",
            "Character frequency evaluated for:  e\n",
            "|----Your function seems to return correct freq for the char----|\n",
            "\n",
            "\n",
            "(Passed)!\n"
          ]
        }
      ],
      "source": [
        "# Test cell: count_letters\n",
        "import collections\n",
        "\n",
        "N_processed_str = 100\n",
        "\n",
        "def generate_processed_str(n):\n",
        "    random_processed_str = ''.join(random.choice(string.ascii_lowercase) for _ in range(n))\n",
        "    return random_processed_str\n",
        "\n",
        "def check_count_letters(S):\n",
        "    print(\"Input String: \",S)\n",
        "    random_char = chr(random.randint(97,122))\n",
        "    print(\"Character frequency evaluated for: \", random_char)\n",
        "    if(random_char in S):\n",
        "        assert count_letters(S)[random_char] == collections.Counter(S)[random_char]\n",
        "        print(\"|----Your function seems to return correct freq for the char----|\"+\"\\n\")\n",
        "    else:\n",
        "        assert count_letters(S)[random_char] == 0\n",
        "        print(\"|----Your function seems to return correct freq for the char----|\"+\"\\n\")\n",
        "\n",
        "check_count_letters(generate_processed_str(N_processed_str))\n",
        "check_count_letters(generate_processed_str(N_processed_str))\n",
        "check_count_letters(generate_processed_str(N_processed_str))\n",
        "print(\"\\n(Passed)!\")"
      ]
    },
    {
      "cell_type": "markdown",
      "metadata": {
        "id": "JngZvUJVali7"
      },
      "source": [
        "**Exercise 2** (4 points). The next step is to sort the distribution of a dictionary containing all the letters in the alphabet as keys and number of occurrences in text as associated value.\n",
        "\n",
        "Sorting should be first done in decreasing order by occurrence count and for two elements with same count, the order should be alphabetic. The function  `find_top_letter(d)` should return the 1st character in the order."
      ]
    },
    {
      "cell_type": "code",
      "execution_count": 16,
      "metadata": {
        "id": "SSgp5Y9rali7"
      },
      "outputs": [],
      "source": [
        "def find_top_letter(d):\n",
        "    ### YOUR CODE HERE\n",
        "\n",
        "#   GOAL:\n",
        "#   Return the letter with the highest frequency in the input dictionary.\n",
        "#   If two letters are tied in frequency, the one to return is the\n",
        "#   one that appears first in the alphabet. So the letter to return will be the\n",
        "#   key of the first element in the dictionary, after sorting.\n",
        "\n",
        "#   INPUT:\n",
        "#   A dictionary 'd' with letters as keys and frequencies as values\n",
        "\n",
        "#   STRATEGY:\n",
        "#   1. Figure out how to sort 'd' by values (frequency) in descending order and then by key (letter) in ascending order\n",
        "#   2. Return the first letter (highest frequency, first in alphabetical order) from Step 1\n",
        "\n",
        "#   My Google Searches: 'python sort dictionary' and 'python sort dictionary by value then key'\n",
        "#   Links you could use:\n",
        "#   A Fantastic Guide on Sorting Dictionaries in General:\n",
        "#   https://realpython.com/sort-python-dictionary/\n",
        "\n",
        "#   https://stackoverflow.com/questions/15371691/how-to-sort-a-dictionary-by-value-desc-then-by-key-asc\n",
        "#   https://www.geeksforgeeks.org/python-sort-python-dictionaries-by-key-or-value/\n",
        "#   https://www.geeksforgeeks.org/python-sort-dictionary-by-values-and-keys/\n",
        "#   https://www.geeksforgeeks.org/python-get-the-first-key-in-dictionary/\n",
        "\n",
        "#   SOLUTION:\n",
        "    # First way:\n",
        "    # kv[1] is the value → -kv[1] sorts values in descending order\n",
        "    # - kv[0] is the key → sorts keys in ascending order if values are equal\n",
        "\n",
        "\n",
        "    sorted_list = sorted(d.items(), key=lambda kv:(-kv[1], kv[0]))\n",
        "    return sorted_list[0][0]\n",
        "\n",
        "    # Second way:\n",
        "    #sorted_dict = {val[0] : val[1] for val in sorted(d.items(), key = lambda x: (-x[1], x[0]))}\n",
        "    #list_of_keys = list(sorted_dict.keys())\n",
        "    #return list_of_keys[0]\n"
      ]
    },
    {
      "cell_type": "code",
      "execution_count": 17,
      "metadata": {
        "nbgrader": {
          "grade": true,
          "grade_id": "highest_freq_letter",
          "locked": true,
          "points": "4",
          "solution": false
        },
        "scrolled": true,
        "id": "-CJXbxUsali8",
        "outputId": "0fe504a6-051c-4a3c-c83d-310539eefe6b",
        "colab": {
          "base_uri": "https://localhost:8080/"
        }
      },
      "outputs": [
        {
          "output_type": "stream",
          "name": "stdout",
          "text": [
            "Input Dictionary:  {'a': 10, 'b': 7, 'c': 3, 'd': 6, 'e': 5, 'f': 4, 'g': 5, 'h': 2, 'i': 3, 'j': 1, 'k': 10, 'l': 4, 'm': 11, 'n': 3, 'o': 8, 'p': 4, 'q': 8, 'r': 4, 's': 11, 't': 9, 'u': 2, 'v': 8, 'w': 3, 'x': 9, 'y': 5, 'z': 6}\n",
            "Your function correctly returned most frequent letter: m \n",
            "\n",
            "Input Dictionary:  {'a': 12, 'b': 7, 'c': 13, 'd': 9, 'e': 10, 'f': 9, 'g': 13, 'h': 0, 'i': 8, 'j': 4, 'k': 6, 'l': 2, 'm': 6, 'n': 15, 'o': 9, 'p': 8, 'q': 0, 'r': 5, 's': 7, 't': 7, 'u': 1, 'v': 15, 'w': 7, 'x': 12, 'y': 2, 'z': 6}\n",
            "Your function correctly returned most frequent letter: n \n",
            "\n",
            "Input Dictionary:  {'a': 2, 'b': 4, 'c': 3, 'd': 5, 'e': 3, 'f': 4, 'g': 3, 'h': 1, 'i': 3, 'j': 2, 'k': 0, 'l': 2, 'm': 4, 'n': 1, 'o': 1, 'p': 0, 'q': 1, 'r': 2, 's': 1, 't': 5, 'u': 4, 'v': 0, 'w': 3, 'x': 2, 'y': 0, 'z': 4}\n",
            "Your function correctly returned most frequent letter: d \n",
            "\n",
            "\n",
            "(Passed)!\n"
          ]
        }
      ],
      "source": [
        "# Test cell: highest_freq_letter\n",
        "\n",
        "def create_random_dict():\n",
        "    max_char_value = random.randint(5, 20)\n",
        "    random_dict = {c:random.randint(0,max_char_value-1) for c in string.ascii_lowercase}\n",
        "    random_letter1, random_letter2 = random.sample(string.ascii_lowercase, 2)\n",
        "    random_dict[random_letter1], random_dict[random_letter2] = max_char_value, max_char_value\n",
        "    if(random_letter1 < random_letter2):\n",
        "        return random_letter1, random_dict\n",
        "    else:\n",
        "        return random_letter2, random_dict\n",
        "\n",
        "def check_top_letter():\n",
        "    top_letter, random_dict = create_random_dict()\n",
        "    user_letter = find_top_letter(random_dict)\n",
        "    assert user_letter == top_letter\n",
        "    print(\"Input Dictionary: \", random_dict)\n",
        "    print(\"Your function correctly returned most frequent letter: {} \\n\".format(user_letter))\n",
        "\n",
        "check_top_letter()\n",
        "check_top_letter()\n",
        "check_top_letter()\n",
        "print(\"\\n(Passed)!\")"
      ]
    },
    {
      "cell_type": "markdown",
      "metadata": {
        "id": "9NHS0TKsali8"
      },
      "source": [
        "**Fin!** You've reached the end of this problem. Don't forget to restart the kernel and run the entire notebook from top-to-bottom to make sure you did everything correctly. If that is working, try submitting this problem. (Recall that you *must* submit and pass the autograder to get credit for your work!)"
      ]
    }
  ],
  "metadata": {
    "kernelspec": {
      "display_name": "Python 3 (ipykernel)",
      "language": "python",
      "name": "python3"
    },
    "language_info": {
      "codemirror_mode": {
        "name": "ipython",
        "version": 3
      },
      "file_extension": ".py",
      "mimetype": "text/x-python",
      "name": "python",
      "nbconvert_exporter": "python",
      "pygments_lexer": "ipython3",
      "version": "3.9.13"
    },
    "colab": {
      "provenance": [],
      "include_colab_link": true
    }
  },
  "nbformat": 4,
  "nbformat_minor": 0
}